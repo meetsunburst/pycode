{
 "cells": [
  {
   "cell_type": "markdown",
   "metadata": {},
   "source": [
    "## 3.Pandas"
   ]
  },
  {
   "cell_type": "markdown",
   "metadata": {
    "heading_collapsed": true
   },
   "source": [
    "### 3.1 Pandas基本介绍"
   ]
  },
  {
   "cell_type": "markdown",
   "metadata": {
    "hidden": true
   },
   "source": [
    "Python Data Analysis Library或pandas是基于Numpy的一种工具，该工具是为了解决数据分析任务而创建的。Pandas纳入了大量库和一些标准的数据模型，提供了高效地操作大型数据集所需要的工具。pandas提供了大量能使我们快速便捷的处理数据的函数和方法。"
   ]
  },
  {
   "cell_type": "code",
   "execution_count": 1,
   "metadata": {
    "hidden": true
   },
   "outputs": [],
   "source": [
    "import pandas as pd\n",
    "import numpy as np"
   ]
  },
  {
   "cell_type": "markdown",
   "metadata": {
    "hidden": true
   },
   "source": [
    "#### 3.1.1 Pandas的基本数据结构"
   ]
  },
  {
   "cell_type": "markdown",
   "metadata": {
    "hidden": true
   },
   "source": [
    "pandas中有两种常用的基本结构"
   ]
  },
  {
   "cell_type": "markdown",
   "metadata": {
    "hidden": true
   },
   "source": [
    "•Series<br>\n",
    "    一维数组，与Numpy中的一维array类似，二者与Python基本的数据结构List也很相似。Series能保存不同种数据类型，字符串、boolean值、数字等都能保存在Series种。"
   ]
  },
  {
   "cell_type": "markdown",
   "metadata": {
    "hidden": true
   },
   "source": [
    "•DataFrame<br>\n",
    "二维的表格型数据结构，很多功能与R种的data.frame类似。可以将DataFrame理解为Series的容器。"
   ]
  },
  {
   "cell_type": "markdown",
   "metadata": {
    "hidden": true
   },
   "source": [
    "##### 3.1.1.1 Pandas库的Series类型"
   ]
  },
  {
   "cell_type": "markdown",
   "metadata": {
    "hidden": true
   },
   "source": [
    "一维Series可以用一维列表初始化"
   ]
  },
  {
   "cell_type": "code",
   "execution_count": 2,
   "metadata": {
    "hidden": true
   },
   "outputs": [
    {
     "name": "stdout",
     "output_type": "stream",
     "text": [
      "0    1.0\n",
      "1    3.0\n",
      "2    5.0\n",
      "3    NaN\n",
      "4    6.0\n",
      "5    5.0\n",
      "dtype: float64\n"
     ]
    }
   ],
   "source": [
    "a=pd.Series([1,3,5,np.nan,6,5])\n",
    "print(a)"
   ]
  },
  {
   "cell_type": "markdown",
   "metadata": {
    "hidden": true
   },
   "source": [
    "默认的情况下，Series的下标都是数字（可以使用额外参数指定），类型是统一的。"
   ]
  },
  {
   "cell_type": "code",
   "execution_count": 3,
   "metadata": {
    "hidden": true
   },
   "outputs": [
    {
     "name": "stdout",
     "output_type": "stream",
     "text": [
      "a    1.0\n",
      "b    3.0\n",
      "c    5.0\n",
      "d    NaN\n",
      "e    6.0\n",
      "f    5.0\n",
      "dtype: float64\n"
     ]
    }
   ],
   "source": [
    "b=pd.Series([1,3,5,np.nan,6,5],index=['a','b','c','d','e','f'])\n",
    "print(b)"
   ]
  },
  {
   "cell_type": "markdown",
   "metadata": {
    "hidden": true
   },
   "source": [
    "索引——数据行标签"
   ]
  },
  {
   "cell_type": "code",
   "execution_count": 4,
   "metadata": {
    "hidden": true
   },
   "outputs": [
    {
     "data": {
      "text/plain": [
       "RangeIndex(start=0, stop=6, step=1)"
      ]
     },
     "execution_count": 4,
     "metadata": {},
     "output_type": "execute_result"
    }
   ],
   "source": [
    "a.index"
   ]
  },
  {
   "cell_type": "code",
   "execution_count": 5,
   "metadata": {
    "hidden": true
   },
   "outputs": [
    {
     "data": {
      "text/plain": [
       "Index(['a', 'b', 'c', 'd', 'e', 'f'], dtype='object')"
      ]
     },
     "execution_count": 5,
     "metadata": {},
     "output_type": "execute_result"
    }
   ],
   "source": [
    "b.index"
   ]
  },
  {
   "cell_type": "markdown",
   "metadata": {
    "hidden": true
   },
   "source": [
    "取值"
   ]
  },
  {
   "cell_type": "code",
   "execution_count": 8,
   "metadata": {
    "hidden": true
   },
   "outputs": [
    {
     "data": {
      "text/plain": [
       "array([ 1.,  3.,  5., nan,  6.,  5.])"
      ]
     },
     "execution_count": 8,
     "metadata": {},
     "output_type": "execute_result"
    }
   ],
   "source": [
    "a.values"
   ]
  },
  {
   "cell_type": "code",
   "execution_count": 9,
   "metadata": {
    "hidden": true
   },
   "outputs": [
    {
     "data": {
      "text/plain": [
       "1.0"
      ]
     },
     "execution_count": 9,
     "metadata": {},
     "output_type": "execute_result"
    }
   ],
   "source": [
    "a[0]"
   ]
  },
  {
   "cell_type": "markdown",
   "metadata": {
    "hidden": true
   },
   "source": [
    "切片"
   ]
  },
  {
   "cell_type": "code",
   "execution_count": 10,
   "metadata": {
    "hidden": true
   },
   "outputs": [
    {
     "data": {
      "text/plain": [
       "2    5.0\n",
       "3    NaN\n",
       "4    6.0\n",
       "dtype: float64"
      ]
     },
     "execution_count": 10,
     "metadata": {},
     "output_type": "execute_result"
    }
   ],
   "source": [
    "a[2:5]"
   ]
  },
  {
   "cell_type": "code",
   "execution_count": 12,
   "metadata": {
    "hidden": true
   },
   "outputs": [
    {
     "data": {
      "text/plain": [
       "b    3.0\n",
       "d    NaN\n",
       "f    5.0\n",
       "dtype: float64"
      ]
     },
     "execution_count": 12,
     "metadata": {},
     "output_type": "execute_result"
    }
   ],
   "source": [
    "b['b':'f':2]"
   ]
  },
  {
   "cell_type": "markdown",
   "metadata": {
    "hidden": true
   },
   "source": [
    "索引赋值"
   ]
  },
  {
   "cell_type": "code",
   "execution_count": 13,
   "metadata": {
    "hidden": true
   },
   "outputs": [
    {
     "data": {
      "text/plain": [
       "索引\n",
       "0    1.0\n",
       "1    3.0\n",
       "2    5.0\n",
       "3    NaN\n",
       "4    6.0\n",
       "5    5.0\n",
       "dtype: float64"
      ]
     },
     "execution_count": 13,
     "metadata": {},
     "output_type": "execute_result"
    }
   ],
   "source": [
    "a.index.name='索引'\n",
    "a"
   ]
  },
  {
   "cell_type": "code",
   "execution_count": 16,
   "metadata": {
    "hidden": true
   },
   "outputs": [
    {
     "data": {
      "text/plain": [
       "a    1.0\n",
       "b    3.0\n",
       "c    5.0\n",
       "d    NaN\n",
       "e    6.0\n",
       "f    5.0\n",
       "dtype: float64"
      ]
     },
     "execution_count": 16,
     "metadata": {},
     "output_type": "execute_result"
    }
   ],
   "source": [
    "a.index=list('abcdef')\n",
    "a"
   ]
  },
  {
   "cell_type": "markdown",
   "metadata": {
    "heading_collapsed": true,
    "hidden": true
   },
   "source": [
    "##### 3.1.1.2 Pandas库的DataFrame类型"
   ]
  },
  {
   "cell_type": "markdown",
   "metadata": {
    "heading_collapsed": true,
    "hidden": true
   },
   "source": [
    "###### DataFrame初始化"
   ]
  },
  {
   "cell_type": "markdown",
   "metadata": {
    "hidden": true
   },
   "source": [
    "DataFrame是个二维结构，这里首先构造一组时间序列，作为第一维的下标"
   ]
  },
  {
   "cell_type": "code",
   "execution_count": 19,
   "metadata": {
    "hidden": true
   },
   "outputs": [
    {
     "name": "stdout",
     "output_type": "stream",
     "text": [
      "DatetimeIndex(['2020-01-01', '2020-01-02', '2020-01-03', '2020-01-04',\n",
      "               '2020-01-05', '2020-01-06'],\n",
      "              dtype='datetime64[ns]', freq='D')\n"
     ]
    }
   ],
   "source": [
    "date=pd.date_range('20200101',periods=6)\n",
    "print(date)"
   ]
  },
  {
   "cell_type": "markdown",
   "metadata": {
    "hidden": true
   },
   "source": [
    "然后创建一个DataFream结构"
   ]
  },
  {
   "cell_type": "code",
   "execution_count": 21,
   "metadata": {
    "hidden": true
   },
   "outputs": [
    {
     "data": {
      "text/html": [
       "<div>\n",
       "<style scoped>\n",
       "    .dataframe tbody tr th:only-of-type {\n",
       "        vertical-align: middle;\n",
       "    }\n",
       "\n",
       "    .dataframe tbody tr th {\n",
       "        vertical-align: top;\n",
       "    }\n",
       "\n",
       "    .dataframe thead th {\n",
       "        text-align: right;\n",
       "    }\n",
       "</style>\n",
       "<table border=\"1\" class=\"dataframe\">\n",
       "  <thead>\n",
       "    <tr style=\"text-align: right;\">\n",
       "      <th></th>\n",
       "      <th>0</th>\n",
       "      <th>1</th>\n",
       "      <th>2</th>\n",
       "      <th>3</th>\n",
       "    </tr>\n",
       "  </thead>\n",
       "  <tbody>\n",
       "    <tr>\n",
       "      <th>0</th>\n",
       "      <td>-1.490125</td>\n",
       "      <td>1.298987</td>\n",
       "      <td>-0.543361</td>\n",
       "      <td>1.221980</td>\n",
       "    </tr>\n",
       "    <tr>\n",
       "      <th>1</th>\n",
       "      <td>-0.849709</td>\n",
       "      <td>0.118608</td>\n",
       "      <td>-0.955715</td>\n",
       "      <td>0.144980</td>\n",
       "    </tr>\n",
       "    <tr>\n",
       "      <th>2</th>\n",
       "      <td>-0.599598</td>\n",
       "      <td>-0.756037</td>\n",
       "      <td>-1.795249</td>\n",
       "      <td>-0.282495</td>\n",
       "    </tr>\n",
       "    <tr>\n",
       "      <th>3</th>\n",
       "      <td>-0.332586</td>\n",
       "      <td>1.750622</td>\n",
       "      <td>-1.493345</td>\n",
       "      <td>-2.100013</td>\n",
       "    </tr>\n",
       "    <tr>\n",
       "      <th>4</th>\n",
       "      <td>-0.905893</td>\n",
       "      <td>-0.254791</td>\n",
       "      <td>-1.476728</td>\n",
       "      <td>-0.001651</td>\n",
       "    </tr>\n",
       "    <tr>\n",
       "      <th>5</th>\n",
       "      <td>-1.121065</td>\n",
       "      <td>-1.861881</td>\n",
       "      <td>-0.502420</td>\n",
       "      <td>0.523135</td>\n",
       "    </tr>\n",
       "  </tbody>\n",
       "</table>\n",
       "</div>"
      ],
      "text/plain": [
       "          0         1         2         3\n",
       "0 -1.490125  1.298987 -0.543361  1.221980\n",
       "1 -0.849709  0.118608 -0.955715  0.144980\n",
       "2 -0.599598 -0.756037 -1.795249 -0.282495\n",
       "3 -0.332586  1.750622 -1.493345 -2.100013\n",
       "4 -0.905893 -0.254791 -1.476728 -0.001651\n",
       "5 -1.121065 -1.861881 -0.502420  0.523135"
      ]
     },
     "execution_count": 21,
     "metadata": {},
     "output_type": "execute_result"
    }
   ],
   "source": [
    "df=pd.DataFrame(np.random.randn(6,4))\n",
    "df    ##默认使用0、1、2.。。作为索引index"
   ]
  },
  {
   "cell_type": "code",
   "execution_count": 26,
   "metadata": {
    "hidden": true
   },
   "outputs": [
    {
     "data": {
      "text/html": [
       "<div>\n",
       "<style scoped>\n",
       "    .dataframe tbody tr th:only-of-type {\n",
       "        vertical-align: middle;\n",
       "    }\n",
       "\n",
       "    .dataframe tbody tr th {\n",
       "        vertical-align: top;\n",
       "    }\n",
       "\n",
       "    .dataframe thead th {\n",
       "        text-align: right;\n",
       "    }\n",
       "</style>\n",
       "<table border=\"1\" class=\"dataframe\">\n",
       "  <thead>\n",
       "    <tr style=\"text-align: right;\">\n",
       "      <th></th>\n",
       "      <th>A</th>\n",
       "      <th>B</th>\n",
       "      <th>C</th>\n",
       "      <th>D</th>\n",
       "    </tr>\n",
       "  </thead>\n",
       "  <tbody>\n",
       "    <tr>\n",
       "      <th>2020-01-01</th>\n",
       "      <td>0.443978</td>\n",
       "      <td>-0.568280</td>\n",
       "      <td>0.539422</td>\n",
       "      <td>-1.808815</td>\n",
       "    </tr>\n",
       "    <tr>\n",
       "      <th>2020-01-02</th>\n",
       "      <td>-0.941946</td>\n",
       "      <td>1.600655</td>\n",
       "      <td>-0.165418</td>\n",
       "      <td>-0.143333</td>\n",
       "    </tr>\n",
       "    <tr>\n",
       "      <th>2020-01-03</th>\n",
       "      <td>0.058186</td>\n",
       "      <td>1.299691</td>\n",
       "      <td>-0.722582</td>\n",
       "      <td>-0.258170</td>\n",
       "    </tr>\n",
       "    <tr>\n",
       "      <th>2020-01-04</th>\n",
       "      <td>0.912441</td>\n",
       "      <td>-1.347266</td>\n",
       "      <td>-0.827097</td>\n",
       "      <td>-1.189625</td>\n",
       "    </tr>\n",
       "    <tr>\n",
       "      <th>2020-01-05</th>\n",
       "      <td>0.427125</td>\n",
       "      <td>0.010411</td>\n",
       "      <td>-0.390411</td>\n",
       "      <td>1.172277</td>\n",
       "    </tr>\n",
       "    <tr>\n",
       "      <th>2020-01-06</th>\n",
       "      <td>-0.584286</td>\n",
       "      <td>-0.428119</td>\n",
       "      <td>0.536305</td>\n",
       "      <td>1.327480</td>\n",
       "    </tr>\n",
       "  </tbody>\n",
       "</table>\n",
       "</div>"
      ],
      "text/plain": [
       "                   A         B         C         D\n",
       "2020-01-01  0.443978 -0.568280  0.539422 -1.808815\n",
       "2020-01-02 -0.941946  1.600655 -0.165418 -0.143333\n",
       "2020-01-03  0.058186  1.299691 -0.722582 -0.258170\n",
       "2020-01-04  0.912441 -1.347266 -0.827097 -1.189625\n",
       "2020-01-05  0.427125  0.010411 -0.390411  1.172277\n",
       "2020-01-06 -0.584286 -0.428119  0.536305  1.327480"
      ]
     },
     "execution_count": 26,
     "metadata": {},
     "output_type": "execute_result"
    }
   ],
   "source": [
    "df=pd.DataFrame(np.random.randn(6,4),index=date,columns=list('ABCD'))\n",
    "df    ##index参数设置行索引，columns参数设置列索引"
   ]
  },
  {
   "cell_type": "markdown",
   "metadata": {
    "hidden": true
   },
   "source": [
    "除了向DataFrame中传入二维数组，我们也可以使用字典传入数据"
   ]
  },
  {
   "cell_type": "code",
   "execution_count": 29,
   "metadata": {
    "hidden": true
   },
   "outputs": [
    {
     "data": {
      "text/html": [
       "<div>\n",
       "<style scoped>\n",
       "    .dataframe tbody tr th:only-of-type {\n",
       "        vertical-align: middle;\n",
       "    }\n",
       "\n",
       "    .dataframe tbody tr th {\n",
       "        vertical-align: top;\n",
       "    }\n",
       "\n",
       "    .dataframe thead th {\n",
       "        text-align: right;\n",
       "    }\n",
       "</style>\n",
       "<table border=\"1\" class=\"dataframe\">\n",
       "  <thead>\n",
       "    <tr style=\"text-align: right;\">\n",
       "      <th></th>\n",
       "      <th>A</th>\n",
       "      <th>B</th>\n",
       "      <th>C</th>\n",
       "      <th>D</th>\n",
       "      <th>E</th>\n",
       "      <th>F</th>\n",
       "    </tr>\n",
       "  </thead>\n",
       "  <tbody>\n",
       "    <tr>\n",
       "      <th>0</th>\n",
       "      <td>1</td>\n",
       "      <td>2020-01-01</td>\n",
       "      <td>1.0</td>\n",
       "      <td>3</td>\n",
       "      <td>test</td>\n",
       "      <td>abc</td>\n",
       "    </tr>\n",
       "    <tr>\n",
       "      <th>1</th>\n",
       "      <td>1</td>\n",
       "      <td>2020-01-01</td>\n",
       "      <td>1.0</td>\n",
       "      <td>3</td>\n",
       "      <td>train</td>\n",
       "      <td>abc</td>\n",
       "    </tr>\n",
       "    <tr>\n",
       "      <th>2</th>\n",
       "      <td>1</td>\n",
       "      <td>2020-01-01</td>\n",
       "      <td>1.0</td>\n",
       "      <td>3</td>\n",
       "      <td>test</td>\n",
       "      <td>abc</td>\n",
       "    </tr>\n",
       "    <tr>\n",
       "      <th>3</th>\n",
       "      <td>1</td>\n",
       "      <td>2020-01-01</td>\n",
       "      <td>1.0</td>\n",
       "      <td>3</td>\n",
       "      <td>train</td>\n",
       "      <td>abc</td>\n",
       "    </tr>\n",
       "  </tbody>\n",
       "</table>\n",
       "</div>"
      ],
      "text/plain": [
       "   A          B    C  D      E    F\n",
       "0  1 2020-01-01  1.0  3   test  abc\n",
       "1  1 2020-01-01  1.0  3  train  abc\n",
       "2  1 2020-01-01  1.0  3   test  abc\n",
       "3  1 2020-01-01  1.0  3  train  abc"
      ]
     },
     "execution_count": 29,
     "metadata": {},
     "output_type": "execute_result"
    }
   ],
   "source": [
    "df1=pd.DataFrame({'A':1,'B':pd.Timestamp('20200101'),'C':pd.Series(1,index=list(range(4)),dtype=float),'D':np.array([3]*4,dtype=int),'E':pd.Categorical(['test','train','test','train']),'F':'abc'})\n",
    "df1"
   ]
  },
  {
   "cell_type": "markdown",
   "metadata": {
    "hidden": true
   },
   "source": [
    "字典的每个key代表一列，其value可以是各种能够转化为Series的对象<br>\n",
    "与Series要求所有的类型都一致不同，DataFrame只要求每一列数据的格式相同"
   ]
  },
  {
   "cell_type": "code",
   "execution_count": 34,
   "metadata": {
    "hidden": true
   },
   "outputs": [
    {
     "data": {
      "text/plain": [
       "A             int64\n",
       "B    datetime64[ns]\n",
       "C           float64\n",
       "D             int32\n",
       "E          category\n",
       "F            object\n",
       "dtype: object"
      ]
     },
     "execution_count": 34,
     "metadata": {},
     "output_type": "execute_result"
    }
   ],
   "source": [
    "df1.dtypes"
   ]
  },
  {
   "cell_type": "markdown",
   "metadata": {
    "hidden": true
   },
   "source": [
    "###### DataFrame查看数据"
   ]
  },
  {
   "cell_type": "markdown",
   "metadata": {
    "hidden": true
   },
   "source": [
    "头尾数据<br>\n",
    "head和tail方法可以分别查看最前面几行和最后面几行的数据（默认为5）"
   ]
  },
  {
   "cell_type": "code",
   "execution_count": 30,
   "metadata": {
    "hidden": true
   },
   "outputs": [
    {
     "data": {
      "text/html": [
       "<div>\n",
       "<style scoped>\n",
       "    .dataframe tbody tr th:only-of-type {\n",
       "        vertical-align: middle;\n",
       "    }\n",
       "\n",
       "    .dataframe tbody tr th {\n",
       "        vertical-align: top;\n",
       "    }\n",
       "\n",
       "    .dataframe thead th {\n",
       "        text-align: right;\n",
       "    }\n",
       "</style>\n",
       "<table border=\"1\" class=\"dataframe\">\n",
       "  <thead>\n",
       "    <tr style=\"text-align: right;\">\n",
       "      <th></th>\n",
       "      <th>A</th>\n",
       "      <th>B</th>\n",
       "      <th>C</th>\n",
       "      <th>D</th>\n",
       "    </tr>\n",
       "  </thead>\n",
       "  <tbody>\n",
       "    <tr>\n",
       "      <th>2020-01-01</th>\n",
       "      <td>0.443978</td>\n",
       "      <td>-0.568280</td>\n",
       "      <td>0.539422</td>\n",
       "      <td>-1.808815</td>\n",
       "    </tr>\n",
       "    <tr>\n",
       "      <th>2020-01-02</th>\n",
       "      <td>-0.941946</td>\n",
       "      <td>1.600655</td>\n",
       "      <td>-0.165418</td>\n",
       "      <td>-0.143333</td>\n",
       "    </tr>\n",
       "    <tr>\n",
       "      <th>2020-01-03</th>\n",
       "      <td>0.058186</td>\n",
       "      <td>1.299691</td>\n",
       "      <td>-0.722582</td>\n",
       "      <td>-0.258170</td>\n",
       "    </tr>\n",
       "    <tr>\n",
       "      <th>2020-01-04</th>\n",
       "      <td>0.912441</td>\n",
       "      <td>-1.347266</td>\n",
       "      <td>-0.827097</td>\n",
       "      <td>-1.189625</td>\n",
       "    </tr>\n",
       "    <tr>\n",
       "      <th>2020-01-05</th>\n",
       "      <td>0.427125</td>\n",
       "      <td>0.010411</td>\n",
       "      <td>-0.390411</td>\n",
       "      <td>1.172277</td>\n",
       "    </tr>\n",
       "  </tbody>\n",
       "</table>\n",
       "</div>"
      ],
      "text/plain": [
       "                   A         B         C         D\n",
       "2020-01-01  0.443978 -0.568280  0.539422 -1.808815\n",
       "2020-01-02 -0.941946  1.600655 -0.165418 -0.143333\n",
       "2020-01-03  0.058186  1.299691 -0.722582 -0.258170\n",
       "2020-01-04  0.912441 -1.347266 -0.827097 -1.189625\n",
       "2020-01-05  0.427125  0.010411 -0.390411  1.172277"
      ]
     },
     "execution_count": 30,
     "metadata": {},
     "output_type": "execute_result"
    }
   ],
   "source": [
    "df.head()"
   ]
  },
  {
   "cell_type": "code",
   "execution_count": 31,
   "metadata": {
    "hidden": true
   },
   "outputs": [
    {
     "data": {
      "text/html": [
       "<div>\n",
       "<style scoped>\n",
       "    .dataframe tbody tr th:only-of-type {\n",
       "        vertical-align: middle;\n",
       "    }\n",
       "\n",
       "    .dataframe tbody tr th {\n",
       "        vertical-align: top;\n",
       "    }\n",
       "\n",
       "    .dataframe thead th {\n",
       "        text-align: right;\n",
       "    }\n",
       "</style>\n",
       "<table border=\"1\" class=\"dataframe\">\n",
       "  <thead>\n",
       "    <tr style=\"text-align: right;\">\n",
       "      <th></th>\n",
       "      <th>A</th>\n",
       "      <th>B</th>\n",
       "      <th>C</th>\n",
       "      <th>D</th>\n",
       "    </tr>\n",
       "  </thead>\n",
       "  <tbody>\n",
       "    <tr>\n",
       "      <th>2020-01-04</th>\n",
       "      <td>0.912441</td>\n",
       "      <td>-1.347266</td>\n",
       "      <td>-0.827097</td>\n",
       "      <td>-1.189625</td>\n",
       "    </tr>\n",
       "    <tr>\n",
       "      <th>2020-01-05</th>\n",
       "      <td>0.427125</td>\n",
       "      <td>0.010411</td>\n",
       "      <td>-0.390411</td>\n",
       "      <td>1.172277</td>\n",
       "    </tr>\n",
       "    <tr>\n",
       "      <th>2020-01-06</th>\n",
       "      <td>-0.584286</td>\n",
       "      <td>-0.428119</td>\n",
       "      <td>0.536305</td>\n",
       "      <td>1.327480</td>\n",
       "    </tr>\n",
       "  </tbody>\n",
       "</table>\n",
       "</div>"
      ],
      "text/plain": [
       "                   A         B         C         D\n",
       "2020-01-04  0.912441 -1.347266 -0.827097 -1.189625\n",
       "2020-01-05  0.427125  0.010411 -0.390411  1.172277\n",
       "2020-01-06 -0.584286 -0.428119  0.536305  1.327480"
      ]
     },
     "execution_count": 31,
     "metadata": {},
     "output_type": "execute_result"
    }
   ],
   "source": [
    "df.tail(3)"
   ]
  },
  {
   "cell_type": "markdown",
   "metadata": {
    "hidden": true
   },
   "source": [
    "下标、列标、数据"
   ]
  },
  {
   "cell_type": "markdown",
   "metadata": {
    "hidden": true
   },
   "source": [
    "下标使用index属性查看"
   ]
  },
  {
   "cell_type": "code",
   "execution_count": 35,
   "metadata": {
    "hidden": true
   },
   "outputs": [
    {
     "data": {
      "text/plain": [
       "DatetimeIndex(['2020-01-01', '2020-01-02', '2020-01-03', '2020-01-04',\n",
       "               '2020-01-05', '2020-01-06'],\n",
       "              dtype='datetime64[ns]', freq='D')"
      ]
     },
     "execution_count": 35,
     "metadata": {},
     "output_type": "execute_result"
    }
   ],
   "source": [
    "df.index"
   ]
  },
  {
   "cell_type": "markdown",
   "metadata": {
    "hidden": true
   },
   "source": [
    "列标使用columns属性查看"
   ]
  },
  {
   "cell_type": "code",
   "execution_count": 36,
   "metadata": {
    "hidden": true
   },
   "outputs": [
    {
     "data": {
      "text/plain": [
       "Index(['A', 'B', 'C', 'D'], dtype='object')"
      ]
     },
     "execution_count": 36,
     "metadata": {},
     "output_type": "execute_result"
    }
   ],
   "source": [
    "df.columns"
   ]
  },
  {
   "cell_type": "markdown",
   "metadata": {
    "hidden": true
   },
   "source": [
    "数据值使用values查看"
   ]
  },
  {
   "cell_type": "code",
   "execution_count": 37,
   "metadata": {
    "hidden": true
   },
   "outputs": [
    {
     "data": {
      "text/plain": [
       "array([[ 0.44397794, -0.56828038,  0.53942245, -1.8088147 ],\n",
       "       [-0.94194603,  1.60065473, -0.16541752, -0.14333282],\n",
       "       [ 0.05818642,  1.2996908 , -0.72258188, -0.25816996],\n",
       "       [ 0.91244089, -1.34726583, -0.82709665, -1.18962492],\n",
       "       [ 0.42712501,  0.01041125, -0.39041139,  1.17227685],\n",
       "       [-0.58428589, -0.42811927,  0.53630517,  1.32747977]])"
      ]
     },
     "execution_count": 37,
     "metadata": {},
     "output_type": "execute_result"
    }
   ],
   "source": [
    "df.values"
   ]
  },
  {
   "cell_type": "markdown",
   "metadata": {
    "heading_collapsed": true,
    "hidden": true
   },
   "source": [
    "#### 3.1.2 Pandas读取数据及数据操作"
   ]
  },
  {
   "cell_type": "markdown",
   "metadata": {
    "hidden": true
   },
   "source": [
    "我们以豆瓣的电影数据作为我们深入了解Pandas的示例"
   ]
  },
  {
   "cell_type": "code",
   "execution_count": 47,
   "metadata": {
    "hidden": true
   },
   "outputs": [
    {
     "data": {
      "text/html": [
       "<div>\n",
       "<style scoped>\n",
       "    .dataframe tbody tr th:only-of-type {\n",
       "        vertical-align: middle;\n",
       "    }\n",
       "\n",
       "    .dataframe tbody tr th {\n",
       "        vertical-align: top;\n",
       "    }\n",
       "\n",
       "    .dataframe thead th {\n",
       "        text-align: right;\n",
       "    }\n",
       "</style>\n",
       "<table border=\"1\" class=\"dataframe\">\n",
       "  <thead>\n",
       "    <tr style=\"text-align: right;\">\n",
       "      <th></th>\n",
       "      <th>Unnamed: 0</th>\n",
       "      <th>名字</th>\n",
       "      <th>投票人数</th>\n",
       "      <th>类型</th>\n",
       "      <th>产地</th>\n",
       "      <th>上映时间</th>\n",
       "      <th>时长</th>\n",
       "      <th>年代</th>\n",
       "      <th>评分</th>\n",
       "      <th>首映地点</th>\n",
       "    </tr>\n",
       "  </thead>\n",
       "  <tbody>\n",
       "    <tr>\n",
       "      <th>0</th>\n",
       "      <td>0</td>\n",
       "      <td>肖申克的救赎</td>\n",
       "      <td>692795.0</td>\n",
       "      <td>剧情/犯罪</td>\n",
       "      <td>美国</td>\n",
       "      <td>1994-09-10 00:00:00</td>\n",
       "      <td>142</td>\n",
       "      <td>1994</td>\n",
       "      <td>9.6</td>\n",
       "      <td>多伦多电影节</td>\n",
       "    </tr>\n",
       "    <tr>\n",
       "      <th>1</th>\n",
       "      <td>1</td>\n",
       "      <td>控方证人</td>\n",
       "      <td>42995.0</td>\n",
       "      <td>剧情/悬疑/犯罪</td>\n",
       "      <td>美国</td>\n",
       "      <td>1957-12-17 00:00:00</td>\n",
       "      <td>116</td>\n",
       "      <td>1957</td>\n",
       "      <td>9.5</td>\n",
       "      <td>美国</td>\n",
       "    </tr>\n",
       "    <tr>\n",
       "      <th>2</th>\n",
       "      <td>2</td>\n",
       "      <td>美丽人生</td>\n",
       "      <td>327855.0</td>\n",
       "      <td>剧情/喜剧/爱情</td>\n",
       "      <td>意大利</td>\n",
       "      <td>1997-12-20 00:00:00</td>\n",
       "      <td>116</td>\n",
       "      <td>1997</td>\n",
       "      <td>9.5</td>\n",
       "      <td>意大利</td>\n",
       "    </tr>\n",
       "    <tr>\n",
       "      <th>3</th>\n",
       "      <td>3</td>\n",
       "      <td>阿甘正传</td>\n",
       "      <td>580897.0</td>\n",
       "      <td>剧情/爱情</td>\n",
       "      <td>美国</td>\n",
       "      <td>1994-06-23 00:00:00</td>\n",
       "      <td>142</td>\n",
       "      <td>1994</td>\n",
       "      <td>9.4</td>\n",
       "      <td>洛杉矶首映</td>\n",
       "    </tr>\n",
       "    <tr>\n",
       "      <th>4</th>\n",
       "      <td>4</td>\n",
       "      <td>霸王别姬</td>\n",
       "      <td>478523.0</td>\n",
       "      <td>剧情/爱情/同性</td>\n",
       "      <td>中国大陆</td>\n",
       "      <td>1993-01-01 00:00:00</td>\n",
       "      <td>171</td>\n",
       "      <td>1993</td>\n",
       "      <td>9.4</td>\n",
       "      <td>香港</td>\n",
       "    </tr>\n",
       "  </tbody>\n",
       "</table>\n",
       "</div>"
      ],
      "text/plain": [
       "   Unnamed: 0      名字      投票人数        类型    产地                 上映时间   时长  \\\n",
       "0           0  肖申克的救赎  692795.0     剧情/犯罪    美国  1994-09-10 00:00:00  142   \n",
       "1           1    控方证人   42995.0  剧情/悬疑/犯罪    美国  1957-12-17 00:00:00  116   \n",
       "2           2   美丽人生   327855.0  剧情/喜剧/爱情   意大利  1997-12-20 00:00:00  116   \n",
       "3           3    阿甘正传  580897.0     剧情/爱情    美国  1994-06-23 00:00:00  142   \n",
       "4           4    霸王别姬  478523.0  剧情/爱情/同性  中国大陆  1993-01-01 00:00:00  171   \n",
       "\n",
       "     年代   评分    首映地点  \n",
       "0  1994  9.6  多伦多电影节  \n",
       "1  1957  9.5      美国  \n",
       "2  1997  9.5     意大利  \n",
       "3  1994  9.4   洛杉矶首映  \n",
       "4  1993  9.4      香港  "
      ]
     },
     "execution_count": 47,
     "metadata": {},
     "output_type": "execute_result"
    }
   ],
   "source": [
    "df_mv=pd.read_excel(r'E:\\soft\\anaconda\\Jupyter_notebook\\project3_bilibili_1\\data_teacher\\课程中用到的数据\\豆瓣电影数据.xlsx')\n",
    "df_mv.head()"
   ]
  },
  {
   "cell_type": "markdown",
   "metadata": {
    "heading_collapsed": true,
    "hidden": true
   },
   "source": [
    "##### 行操作"
   ]
  },
  {
   "cell_type": "code",
   "execution_count": 48,
   "metadata": {
    "hidden": true
   },
   "outputs": [
    {
     "data": {
      "text/plain": [
       "Unnamed: 0                      0\n",
       "名字                         肖申克的救赎\n",
       "投票人数                       692795\n",
       "类型                          剧情/犯罪\n",
       "产地                             美国\n",
       "上映时间          1994-09-10 00:00:00\n",
       "时长                            142\n",
       "年代                           1994\n",
       "评分                            9.6\n",
       "首映地点                       多伦多电影节\n",
       "Name: 0, dtype: object"
      ]
     },
     "execution_count": 48,
     "metadata": {},
     "output_type": "execute_result"
    }
   ],
   "source": [
    "df_mv.iloc[0]"
   ]
  },
  {
   "cell_type": "code",
   "execution_count": 50,
   "metadata": {
    "hidden": true
   },
   "outputs": [
    {
     "data": {
      "text/html": [
       "<div>\n",
       "<style scoped>\n",
       "    .dataframe tbody tr th:only-of-type {\n",
       "        vertical-align: middle;\n",
       "    }\n",
       "\n",
       "    .dataframe tbody tr th {\n",
       "        vertical-align: top;\n",
       "    }\n",
       "\n",
       "    .dataframe thead th {\n",
       "        text-align: right;\n",
       "    }\n",
       "</style>\n",
       "<table border=\"1\" class=\"dataframe\">\n",
       "  <thead>\n",
       "    <tr style=\"text-align: right;\">\n",
       "      <th></th>\n",
       "      <th>Unnamed: 0</th>\n",
       "      <th>名字</th>\n",
       "      <th>投票人数</th>\n",
       "      <th>类型</th>\n",
       "      <th>产地</th>\n",
       "      <th>上映时间</th>\n",
       "      <th>时长</th>\n",
       "      <th>年代</th>\n",
       "      <th>评分</th>\n",
       "      <th>首映地点</th>\n",
       "    </tr>\n",
       "  </thead>\n",
       "  <tbody>\n",
       "    <tr>\n",
       "      <th>0</th>\n",
       "      <td>0</td>\n",
       "      <td>肖申克的救赎</td>\n",
       "      <td>692795.0</td>\n",
       "      <td>剧情/犯罪</td>\n",
       "      <td>美国</td>\n",
       "      <td>1994-09-10 00:00:00</td>\n",
       "      <td>142</td>\n",
       "      <td>1994</td>\n",
       "      <td>9.6</td>\n",
       "      <td>多伦多电影节</td>\n",
       "    </tr>\n",
       "    <tr>\n",
       "      <th>1</th>\n",
       "      <td>1</td>\n",
       "      <td>控方证人</td>\n",
       "      <td>42995.0</td>\n",
       "      <td>剧情/悬疑/犯罪</td>\n",
       "      <td>美国</td>\n",
       "      <td>1957-12-17 00:00:00</td>\n",
       "      <td>116</td>\n",
       "      <td>1957</td>\n",
       "      <td>9.5</td>\n",
       "      <td>美国</td>\n",
       "    </tr>\n",
       "    <tr>\n",
       "      <th>2</th>\n",
       "      <td>2</td>\n",
       "      <td>美丽人生</td>\n",
       "      <td>327855.0</td>\n",
       "      <td>剧情/喜剧/爱情</td>\n",
       "      <td>意大利</td>\n",
       "      <td>1997-12-20 00:00:00</td>\n",
       "      <td>116</td>\n",
       "      <td>1997</td>\n",
       "      <td>9.5</td>\n",
       "      <td>意大利</td>\n",
       "    </tr>\n",
       "    <tr>\n",
       "      <th>3</th>\n",
       "      <td>3</td>\n",
       "      <td>阿甘正传</td>\n",
       "      <td>580897.0</td>\n",
       "      <td>剧情/爱情</td>\n",
       "      <td>美国</td>\n",
       "      <td>1994-06-23 00:00:00</td>\n",
       "      <td>142</td>\n",
       "      <td>1994</td>\n",
       "      <td>9.4</td>\n",
       "      <td>洛杉矶首映</td>\n",
       "    </tr>\n",
       "    <tr>\n",
       "      <th>4</th>\n",
       "      <td>4</td>\n",
       "      <td>霸王别姬</td>\n",
       "      <td>478523.0</td>\n",
       "      <td>剧情/爱情/同性</td>\n",
       "      <td>中国大陆</td>\n",
       "      <td>1993-01-01 00:00:00</td>\n",
       "      <td>171</td>\n",
       "      <td>1993</td>\n",
       "      <td>9.4</td>\n",
       "      <td>香港</td>\n",
       "    </tr>\n",
       "  </tbody>\n",
       "</table>\n",
       "</div>"
      ],
      "text/plain": [
       "   Unnamed: 0      名字      投票人数        类型    产地                 上映时间   时长  \\\n",
       "0           0  肖申克的救赎  692795.0     剧情/犯罪    美国  1994-09-10 00:00:00  142   \n",
       "1           1    控方证人   42995.0  剧情/悬疑/犯罪    美国  1957-12-17 00:00:00  116   \n",
       "2           2   美丽人生   327855.0  剧情/喜剧/爱情   意大利  1997-12-20 00:00:00  116   \n",
       "3           3    阿甘正传  580897.0     剧情/爱情    美国  1994-06-23 00:00:00  142   \n",
       "4           4    霸王别姬  478523.0  剧情/爱情/同性  中国大陆  1993-01-01 00:00:00  171   \n",
       "\n",
       "     年代   评分    首映地点  \n",
       "0  1994  9.6  多伦多电影节  \n",
       "1  1957  9.5      美国  \n",
       "2  1997  9.5     意大利  \n",
       "3  1994  9.4   洛杉矶首映  \n",
       "4  1993  9.4      香港  "
      ]
     },
     "execution_count": 50,
     "metadata": {},
     "output_type": "execute_result"
    }
   ],
   "source": [
    "df_mv.iloc[0:5]"
   ]
  },
  {
   "cell_type": "markdown",
   "metadata": {
    "hidden": true
   },
   "source": [
    "也可以使用 loc"
   ]
  },
  {
   "cell_type": "code",
   "execution_count": 51,
   "metadata": {
    "hidden": true
   },
   "outputs": [
    {
     "data": {
      "text/html": [
       "<div>\n",
       "<style scoped>\n",
       "    .dataframe tbody tr th:only-of-type {\n",
       "        vertical-align: middle;\n",
       "    }\n",
       "\n",
       "    .dataframe tbody tr th {\n",
       "        vertical-align: top;\n",
       "    }\n",
       "\n",
       "    .dataframe thead th {\n",
       "        text-align: right;\n",
       "    }\n",
       "</style>\n",
       "<table border=\"1\" class=\"dataframe\">\n",
       "  <thead>\n",
       "    <tr style=\"text-align: right;\">\n",
       "      <th></th>\n",
       "      <th>Unnamed: 0</th>\n",
       "      <th>名字</th>\n",
       "      <th>投票人数</th>\n",
       "      <th>类型</th>\n",
       "      <th>产地</th>\n",
       "      <th>上映时间</th>\n",
       "      <th>时长</th>\n",
       "      <th>年代</th>\n",
       "      <th>评分</th>\n",
       "      <th>首映地点</th>\n",
       "    </tr>\n",
       "  </thead>\n",
       "  <tbody>\n",
       "    <tr>\n",
       "      <th>0</th>\n",
       "      <td>0</td>\n",
       "      <td>肖申克的救赎</td>\n",
       "      <td>692795.0</td>\n",
       "      <td>剧情/犯罪</td>\n",
       "      <td>美国</td>\n",
       "      <td>1994-09-10 00:00:00</td>\n",
       "      <td>142</td>\n",
       "      <td>1994</td>\n",
       "      <td>9.6</td>\n",
       "      <td>多伦多电影节</td>\n",
       "    </tr>\n",
       "    <tr>\n",
       "      <th>1</th>\n",
       "      <td>1</td>\n",
       "      <td>控方证人</td>\n",
       "      <td>42995.0</td>\n",
       "      <td>剧情/悬疑/犯罪</td>\n",
       "      <td>美国</td>\n",
       "      <td>1957-12-17 00:00:00</td>\n",
       "      <td>116</td>\n",
       "      <td>1957</td>\n",
       "      <td>9.5</td>\n",
       "      <td>美国</td>\n",
       "    </tr>\n",
       "    <tr>\n",
       "      <th>2</th>\n",
       "      <td>2</td>\n",
       "      <td>美丽人生</td>\n",
       "      <td>327855.0</td>\n",
       "      <td>剧情/喜剧/爱情</td>\n",
       "      <td>意大利</td>\n",
       "      <td>1997-12-20 00:00:00</td>\n",
       "      <td>116</td>\n",
       "      <td>1997</td>\n",
       "      <td>9.5</td>\n",
       "      <td>意大利</td>\n",
       "    </tr>\n",
       "    <tr>\n",
       "      <th>3</th>\n",
       "      <td>3</td>\n",
       "      <td>阿甘正传</td>\n",
       "      <td>580897.0</td>\n",
       "      <td>剧情/爱情</td>\n",
       "      <td>美国</td>\n",
       "      <td>1994-06-23 00:00:00</td>\n",
       "      <td>142</td>\n",
       "      <td>1994</td>\n",
       "      <td>9.4</td>\n",
       "      <td>洛杉矶首映</td>\n",
       "    </tr>\n",
       "    <tr>\n",
       "      <th>4</th>\n",
       "      <td>4</td>\n",
       "      <td>霸王别姬</td>\n",
       "      <td>478523.0</td>\n",
       "      <td>剧情/爱情/同性</td>\n",
       "      <td>中国大陆</td>\n",
       "      <td>1993-01-01 00:00:00</td>\n",
       "      <td>171</td>\n",
       "      <td>1993</td>\n",
       "      <td>9.4</td>\n",
       "      <td>香港</td>\n",
       "    </tr>\n",
       "    <tr>\n",
       "      <th>5</th>\n",
       "      <td>5</td>\n",
       "      <td>泰坦尼克号</td>\n",
       "      <td>157074.0</td>\n",
       "      <td>剧情/爱情/灾难</td>\n",
       "      <td>美国</td>\n",
       "      <td>2012-04-10 00:00:00</td>\n",
       "      <td>194</td>\n",
       "      <td>2012</td>\n",
       "      <td>9.4</td>\n",
       "      <td>中国大陆</td>\n",
       "    </tr>\n",
       "  </tbody>\n",
       "</table>\n",
       "</div>"
      ],
      "text/plain": [
       "   Unnamed: 0      名字      投票人数        类型    产地                 上映时间   时长  \\\n",
       "0           0  肖申克的救赎  692795.0     剧情/犯罪    美国  1994-09-10 00:00:00  142   \n",
       "1           1    控方证人   42995.0  剧情/悬疑/犯罪    美国  1957-12-17 00:00:00  116   \n",
       "2           2   美丽人生   327855.0  剧情/喜剧/爱情   意大利  1997-12-20 00:00:00  116   \n",
       "3           3    阿甘正传  580897.0     剧情/爱情    美国  1994-06-23 00:00:00  142   \n",
       "4           4    霸王别姬  478523.0  剧情/爱情/同性  中国大陆  1993-01-01 00:00:00  171   \n",
       "5           5  泰坦尼克号   157074.0  剧情/爱情/灾难    美国  2012-04-10 00:00:00  194   \n",
       "\n",
       "     年代   评分    首映地点  \n",
       "0  1994  9.6  多伦多电影节  \n",
       "1  1957  9.5      美国  \n",
       "2  1997  9.5     意大利  \n",
       "3  1994  9.4   洛杉矶首映  \n",
       "4  1993  9.4      香港  \n",
       "5  2012  9.4    中国大陆  "
      ]
     },
     "execution_count": 51,
     "metadata": {},
     "output_type": "execute_result"
    }
   ],
   "source": [
    "df_mv.loc[0:5]"
   ]
  },
  {
   "cell_type": "markdown",
   "metadata": {
    "heading_collapsed": true,
    "hidden": true
   },
   "source": [
    "##### 添加一行"
   ]
  },
  {
   "cell_type": "code",
   "execution_count": 53,
   "metadata": {
    "hidden": true
   },
   "outputs": [
    {
     "data": {
      "text/plain": [
       "名字                   复仇者联盟3\n",
       "投票人数                 123456\n",
       "类型                    剧情/科幻\n",
       "产地                       美国\n",
       "上映时间    2017-05-04 00:00:00\n",
       "时长                      142\n",
       "年代                     2017\n",
       "评分                      8.7\n",
       "首映地点                     美国\n",
       "Name: 38738, dtype: object"
      ]
     },
     "execution_count": 53,
     "metadata": {},
     "output_type": "execute_result"
    }
   ],
   "source": [
    "dit={'名字':'复仇者联盟3',\n",
    "     '投票人数':123456,\n",
    "     '类型':'剧情/科幻',\n",
    "     '产地':'美国',\n",
    "     '上映时间':'2017-05-04 00:00:00',\n",
    "     '时长':142,\n",
    "     '年代':2017,\n",
    "     '评分':8.7,\n",
    "     '首映地点':'美国'}\n",
    "s=pd.Series(dit)\n",
    "s.name=38738\n",
    "s"
   ]
  },
  {
   "cell_type": "code",
   "execution_count": 58,
   "metadata": {
    "hidden": true
   },
   "outputs": [
    {
     "data": {
      "text/html": [
       "<div>\n",
       "<style scoped>\n",
       "    .dataframe tbody tr th:only-of-type {\n",
       "        vertical-align: middle;\n",
       "    }\n",
       "\n",
       "    .dataframe tbody tr th {\n",
       "        vertical-align: top;\n",
       "    }\n",
       "\n",
       "    .dataframe thead th {\n",
       "        text-align: right;\n",
       "    }\n",
       "</style>\n",
       "<table border=\"1\" class=\"dataframe\">\n",
       "  <thead>\n",
       "    <tr style=\"text-align: right;\">\n",
       "      <th></th>\n",
       "      <th>Unnamed: 0</th>\n",
       "      <th>名字</th>\n",
       "      <th>投票人数</th>\n",
       "      <th>类型</th>\n",
       "      <th>产地</th>\n",
       "      <th>上映时间</th>\n",
       "      <th>时长</th>\n",
       "      <th>年代</th>\n",
       "      <th>评分</th>\n",
       "      <th>首映地点</th>\n",
       "    </tr>\n",
       "  </thead>\n",
       "  <tbody>\n",
       "    <tr>\n",
       "      <th>38734</th>\n",
       "      <td>38734.0</td>\n",
       "      <td>1935年</td>\n",
       "      <td>57.0</td>\n",
       "      <td>喜剧/歌舞</td>\n",
       "      <td>美国</td>\n",
       "      <td>1935-03-15 00:00:00</td>\n",
       "      <td>98</td>\n",
       "      <td>1935</td>\n",
       "      <td>7.6</td>\n",
       "      <td>美国</td>\n",
       "    </tr>\n",
       "    <tr>\n",
       "      <th>38735</th>\n",
       "      <td>38735.0</td>\n",
       "      <td>血溅画屏</td>\n",
       "      <td>95.0</td>\n",
       "      <td>剧情/悬疑/犯罪/武侠/古装</td>\n",
       "      <td>中国大陆</td>\n",
       "      <td>1905-06-08 00:00:00</td>\n",
       "      <td>91</td>\n",
       "      <td>1986</td>\n",
       "      <td>7.1</td>\n",
       "      <td>美国</td>\n",
       "    </tr>\n",
       "    <tr>\n",
       "      <th>38736</th>\n",
       "      <td>38736.0</td>\n",
       "      <td>魔窟中的幻想</td>\n",
       "      <td>51.0</td>\n",
       "      <td>惊悚/恐怖/儿童</td>\n",
       "      <td>中国大陆</td>\n",
       "      <td>1905-06-08 00:00:00</td>\n",
       "      <td>78</td>\n",
       "      <td>1986</td>\n",
       "      <td>8.0</td>\n",
       "      <td>美国</td>\n",
       "    </tr>\n",
       "    <tr>\n",
       "      <th>38737</th>\n",
       "      <td>38737.0</td>\n",
       "      <td>列宁格勒围困之星火战役 Блокада: Фильм 2: Ленинградский ме...</td>\n",
       "      <td>32.0</td>\n",
       "      <td>剧情/战争</td>\n",
       "      <td>苏联</td>\n",
       "      <td>1905-05-30 00:00:00</td>\n",
       "      <td>97</td>\n",
       "      <td>1977</td>\n",
       "      <td>6.6</td>\n",
       "      <td>美国</td>\n",
       "    </tr>\n",
       "    <tr>\n",
       "      <th>38738</th>\n",
       "      <td>NaN</td>\n",
       "      <td>复仇者联盟3</td>\n",
       "      <td>123456.0</td>\n",
       "      <td>剧情/科幻</td>\n",
       "      <td>美国</td>\n",
       "      <td>2017-05-04 00:00:00</td>\n",
       "      <td>142</td>\n",
       "      <td>2017</td>\n",
       "      <td>8.7</td>\n",
       "      <td>美国</td>\n",
       "    </tr>\n",
       "  </tbody>\n",
       "</table>\n",
       "</div>"
      ],
      "text/plain": [
       "       Unnamed: 0                                                 名字  \\\n",
       "38734     38734.0                                              1935年   \n",
       "38735     38735.0                                               血溅画屏   \n",
       "38736     38736.0                                             魔窟中的幻想   \n",
       "38737     38737.0  列宁格勒围困之星火战役 Блокада: Фильм 2: Ленинградский ме...   \n",
       "38738         NaN                                             复仇者联盟3   \n",
       "\n",
       "           投票人数              类型    产地                 上映时间   时长    年代   评分  \\\n",
       "38734      57.0           喜剧/歌舞    美国  1935-03-15 00:00:00   98  1935  7.6   \n",
       "38735      95.0  剧情/悬疑/犯罪/武侠/古装  中国大陆  1905-06-08 00:00:00   91  1986  7.1   \n",
       "38736      51.0        惊悚/恐怖/儿童  中国大陆  1905-06-08 00:00:00   78  1986  8.0   \n",
       "38737      32.0           剧情/战争    苏联  1905-05-30 00:00:00   97  1977  6.6   \n",
       "38738  123456.0           剧情/科幻    美国  2017-05-04 00:00:00  142  2017  8.7   \n",
       "\n",
       "      首映地点  \n",
       "38734   美国  \n",
       "38735   美国  \n",
       "38736   美国  \n",
       "38737   美国  \n",
       "38738   美国  "
      ]
     },
     "execution_count": 58,
     "metadata": {},
     "output_type": "execute_result"
    }
   ],
   "source": [
    "df_mv=df_mv.append(s)\n",
    "df_mv.tail()"
   ]
  },
  {
   "cell_type": "markdown",
   "metadata": {
    "heading_collapsed": true,
    "hidden": true
   },
   "source": [
    "##### 删除一行"
   ]
  },
  {
   "cell_type": "code",
   "execution_count": 59,
   "metadata": {
    "hidden": true
   },
   "outputs": [
    {
     "data": {
      "text/html": [
       "<div>\n",
       "<style scoped>\n",
       "    .dataframe tbody tr th:only-of-type {\n",
       "        vertical-align: middle;\n",
       "    }\n",
       "\n",
       "    .dataframe tbody tr th {\n",
       "        vertical-align: top;\n",
       "    }\n",
       "\n",
       "    .dataframe thead th {\n",
       "        text-align: right;\n",
       "    }\n",
       "</style>\n",
       "<table border=\"1\" class=\"dataframe\">\n",
       "  <thead>\n",
       "    <tr style=\"text-align: right;\">\n",
       "      <th></th>\n",
       "      <th>Unnamed: 0</th>\n",
       "      <th>名字</th>\n",
       "      <th>投票人数</th>\n",
       "      <th>类型</th>\n",
       "      <th>产地</th>\n",
       "      <th>上映时间</th>\n",
       "      <th>时长</th>\n",
       "      <th>年代</th>\n",
       "      <th>评分</th>\n",
       "      <th>首映地点</th>\n",
       "    </tr>\n",
       "  </thead>\n",
       "  <tbody>\n",
       "    <tr>\n",
       "      <th>38733</th>\n",
       "      <td>38733.0</td>\n",
       "      <td>神学院 S</td>\n",
       "      <td>46.0</td>\n",
       "      <td>Adult</td>\n",
       "      <td>法国</td>\n",
       "      <td>1905-06-05 00:00:00</td>\n",
       "      <td>58</td>\n",
       "      <td>1983</td>\n",
       "      <td>8.6</td>\n",
       "      <td>美国</td>\n",
       "    </tr>\n",
       "    <tr>\n",
       "      <th>38734</th>\n",
       "      <td>38734.0</td>\n",
       "      <td>1935年</td>\n",
       "      <td>57.0</td>\n",
       "      <td>喜剧/歌舞</td>\n",
       "      <td>美国</td>\n",
       "      <td>1935-03-15 00:00:00</td>\n",
       "      <td>98</td>\n",
       "      <td>1935</td>\n",
       "      <td>7.6</td>\n",
       "      <td>美国</td>\n",
       "    </tr>\n",
       "    <tr>\n",
       "      <th>38735</th>\n",
       "      <td>38735.0</td>\n",
       "      <td>血溅画屏</td>\n",
       "      <td>95.0</td>\n",
       "      <td>剧情/悬疑/犯罪/武侠/古装</td>\n",
       "      <td>中国大陆</td>\n",
       "      <td>1905-06-08 00:00:00</td>\n",
       "      <td>91</td>\n",
       "      <td>1986</td>\n",
       "      <td>7.1</td>\n",
       "      <td>美国</td>\n",
       "    </tr>\n",
       "    <tr>\n",
       "      <th>38736</th>\n",
       "      <td>38736.0</td>\n",
       "      <td>魔窟中的幻想</td>\n",
       "      <td>51.0</td>\n",
       "      <td>惊悚/恐怖/儿童</td>\n",
       "      <td>中国大陆</td>\n",
       "      <td>1905-06-08 00:00:00</td>\n",
       "      <td>78</td>\n",
       "      <td>1986</td>\n",
       "      <td>8.0</td>\n",
       "      <td>美国</td>\n",
       "    </tr>\n",
       "    <tr>\n",
       "      <th>38737</th>\n",
       "      <td>38737.0</td>\n",
       "      <td>列宁格勒围困之星火战役 Блокада: Фильм 2: Ленинградский ме...</td>\n",
       "      <td>32.0</td>\n",
       "      <td>剧情/战争</td>\n",
       "      <td>苏联</td>\n",
       "      <td>1905-05-30 00:00:00</td>\n",
       "      <td>97</td>\n",
       "      <td>1977</td>\n",
       "      <td>6.6</td>\n",
       "      <td>美国</td>\n",
       "    </tr>\n",
       "  </tbody>\n",
       "</table>\n",
       "</div>"
      ],
      "text/plain": [
       "       Unnamed: 0                                                 名字  投票人数  \\\n",
       "38733     38733.0                                              神学院 S  46.0   \n",
       "38734     38734.0                                              1935年  57.0   \n",
       "38735     38735.0                                               血溅画屏  95.0   \n",
       "38736     38736.0                                             魔窟中的幻想  51.0   \n",
       "38737     38737.0  列宁格勒围困之星火战役 Блокада: Фильм 2: Ленинградский ме...  32.0   \n",
       "\n",
       "                   类型    产地                 上映时间  时长    年代   评分 首映地点  \n",
       "38733           Adult    法国  1905-06-05 00:00:00  58  1983  8.6   美国  \n",
       "38734           喜剧/歌舞    美国  1935-03-15 00:00:00  98  1935  7.6   美国  \n",
       "38735  剧情/悬疑/犯罪/武侠/古装  中国大陆  1905-06-08 00:00:00  91  1986  7.1   美国  \n",
       "38736        惊悚/恐怖/儿童  中国大陆  1905-06-08 00:00:00  78  1986  8.0   美国  \n",
       "38737           剧情/战争    苏联  1905-05-30 00:00:00  97  1977  6.6   美国  "
      ]
     },
     "execution_count": 59,
     "metadata": {},
     "output_type": "execute_result"
    }
   ],
   "source": [
    "df_mv=df_mv.drop([38738])\n",
    "df_mv.tail()"
   ]
  },
  {
   "cell_type": "markdown",
   "metadata": {
    "heading_collapsed": true,
    "hidden": true
   },
   "source": [
    "##### 列操作"
   ]
  },
  {
   "cell_type": "code",
   "execution_count": 60,
   "metadata": {
    "hidden": true
   },
   "outputs": [
    {
     "data": {
      "text/plain": [
       "Index(['Unnamed: 0', '名字', '投票人数', '类型', '产地', '上映时间', '时长', '年代', '评分',\n",
       "       '首映地点'],\n",
       "      dtype='object')"
      ]
     },
     "execution_count": 60,
     "metadata": {},
     "output_type": "execute_result"
    }
   ],
   "source": [
    "df_mv.columns"
   ]
  },
  {
   "cell_type": "code",
   "execution_count": 62,
   "metadata": {
    "hidden": true
   },
   "outputs": [
    {
     "data": {
      "text/plain": [
       "0    肖申克的救赎\n",
       "1      控方证人\n",
       "2     美丽人生 \n",
       "3      阿甘正传\n",
       "4      霸王别姬\n",
       "Name: 名字, dtype: object"
      ]
     },
     "execution_count": 62,
     "metadata": {},
     "output_type": "execute_result"
    }
   ],
   "source": [
    "df_mv['名字'][0:5]"
   ]
  },
  {
   "cell_type": "code",
   "execution_count": 64,
   "metadata": {
    "hidden": true
   },
   "outputs": [
    {
     "data": {
      "text/html": [
       "<div>\n",
       "<style scoped>\n",
       "    .dataframe tbody tr th:only-of-type {\n",
       "        vertical-align: middle;\n",
       "    }\n",
       "\n",
       "    .dataframe tbody tr th {\n",
       "        vertical-align: top;\n",
       "    }\n",
       "\n",
       "    .dataframe thead th {\n",
       "        text-align: right;\n",
       "    }\n",
       "</style>\n",
       "<table border=\"1\" class=\"dataframe\">\n",
       "  <thead>\n",
       "    <tr style=\"text-align: right;\">\n",
       "      <th></th>\n",
       "      <th>名字</th>\n",
       "      <th>类型</th>\n",
       "    </tr>\n",
       "  </thead>\n",
       "  <tbody>\n",
       "    <tr>\n",
       "      <th>0</th>\n",
       "      <td>肖申克的救赎</td>\n",
       "      <td>剧情/犯罪</td>\n",
       "    </tr>\n",
       "    <tr>\n",
       "      <th>1</th>\n",
       "      <td>控方证人</td>\n",
       "      <td>剧情/悬疑/犯罪</td>\n",
       "    </tr>\n",
       "    <tr>\n",
       "      <th>2</th>\n",
       "      <td>美丽人生</td>\n",
       "      <td>剧情/喜剧/爱情</td>\n",
       "    </tr>\n",
       "    <tr>\n",
       "      <th>3</th>\n",
       "      <td>阿甘正传</td>\n",
       "      <td>剧情/爱情</td>\n",
       "    </tr>\n",
       "    <tr>\n",
       "      <th>4</th>\n",
       "      <td>霸王别姬</td>\n",
       "      <td>剧情/爱情/同性</td>\n",
       "    </tr>\n",
       "  </tbody>\n",
       "</table>\n",
       "</div>"
      ],
      "text/plain": [
       "       名字        类型\n",
       "0  肖申克的救赎     剧情/犯罪\n",
       "1    控方证人  剧情/悬疑/犯罪\n",
       "2   美丽人生   剧情/喜剧/爱情\n",
       "3    阿甘正传     剧情/爱情\n",
       "4    霸王别姬  剧情/爱情/同性"
      ]
     },
     "execution_count": 64,
     "metadata": {},
     "output_type": "execute_result"
    }
   ],
   "source": [
    "df_mv[['名字','类型']][:5]"
   ]
  },
  {
   "cell_type": "markdown",
   "metadata": {
    "heading_collapsed": true,
    "hidden": true
   },
   "source": [
    "##### 增加一列"
   ]
  },
  {
   "cell_type": "code",
   "execution_count": 66,
   "metadata": {
    "hidden": true
   },
   "outputs": [
    {
     "data": {
      "text/html": [
       "<div>\n",
       "<style scoped>\n",
       "    .dataframe tbody tr th:only-of-type {\n",
       "        vertical-align: middle;\n",
       "    }\n",
       "\n",
       "    .dataframe tbody tr th {\n",
       "        vertical-align: top;\n",
       "    }\n",
       "\n",
       "    .dataframe thead th {\n",
       "        text-align: right;\n",
       "    }\n",
       "</style>\n",
       "<table border=\"1\" class=\"dataframe\">\n",
       "  <thead>\n",
       "    <tr style=\"text-align: right;\">\n",
       "      <th></th>\n",
       "      <th>Unnamed: 0</th>\n",
       "      <th>名字</th>\n",
       "      <th>投票人数</th>\n",
       "      <th>类型</th>\n",
       "      <th>产地</th>\n",
       "      <th>上映时间</th>\n",
       "      <th>时长</th>\n",
       "      <th>年代</th>\n",
       "      <th>评分</th>\n",
       "      <th>首映地点</th>\n",
       "      <th>序号</th>\n",
       "    </tr>\n",
       "  </thead>\n",
       "  <tbody>\n",
       "    <tr>\n",
       "      <th>0</th>\n",
       "      <td>0.0</td>\n",
       "      <td>肖申克的救赎</td>\n",
       "      <td>692795.0</td>\n",
       "      <td>剧情/犯罪</td>\n",
       "      <td>美国</td>\n",
       "      <td>1994-09-10 00:00:00</td>\n",
       "      <td>142</td>\n",
       "      <td>1994</td>\n",
       "      <td>9.6</td>\n",
       "      <td>多伦多电影节</td>\n",
       "      <td>1</td>\n",
       "    </tr>\n",
       "    <tr>\n",
       "      <th>1</th>\n",
       "      <td>1.0</td>\n",
       "      <td>控方证人</td>\n",
       "      <td>42995.0</td>\n",
       "      <td>剧情/悬疑/犯罪</td>\n",
       "      <td>美国</td>\n",
       "      <td>1957-12-17 00:00:00</td>\n",
       "      <td>116</td>\n",
       "      <td>1957</td>\n",
       "      <td>9.5</td>\n",
       "      <td>美国</td>\n",
       "      <td>2</td>\n",
       "    </tr>\n",
       "    <tr>\n",
       "      <th>2</th>\n",
       "      <td>2.0</td>\n",
       "      <td>美丽人生</td>\n",
       "      <td>327855.0</td>\n",
       "      <td>剧情/喜剧/爱情</td>\n",
       "      <td>意大利</td>\n",
       "      <td>1997-12-20 00:00:00</td>\n",
       "      <td>116</td>\n",
       "      <td>1997</td>\n",
       "      <td>9.5</td>\n",
       "      <td>意大利</td>\n",
       "      <td>3</td>\n",
       "    </tr>\n",
       "    <tr>\n",
       "      <th>3</th>\n",
       "      <td>3.0</td>\n",
       "      <td>阿甘正传</td>\n",
       "      <td>580897.0</td>\n",
       "      <td>剧情/爱情</td>\n",
       "      <td>美国</td>\n",
       "      <td>1994-06-23 00:00:00</td>\n",
       "      <td>142</td>\n",
       "      <td>1994</td>\n",
       "      <td>9.4</td>\n",
       "      <td>洛杉矶首映</td>\n",
       "      <td>4</td>\n",
       "    </tr>\n",
       "    <tr>\n",
       "      <th>4</th>\n",
       "      <td>4.0</td>\n",
       "      <td>霸王别姬</td>\n",
       "      <td>478523.0</td>\n",
       "      <td>剧情/爱情/同性</td>\n",
       "      <td>中国大陆</td>\n",
       "      <td>1993-01-01 00:00:00</td>\n",
       "      <td>171</td>\n",
       "      <td>1993</td>\n",
       "      <td>9.4</td>\n",
       "      <td>香港</td>\n",
       "      <td>5</td>\n",
       "    </tr>\n",
       "  </tbody>\n",
       "</table>\n",
       "</div>"
      ],
      "text/plain": [
       "   Unnamed: 0      名字      投票人数        类型    产地                 上映时间   时长  \\\n",
       "0         0.0  肖申克的救赎  692795.0     剧情/犯罪    美国  1994-09-10 00:00:00  142   \n",
       "1         1.0    控方证人   42995.0  剧情/悬疑/犯罪    美国  1957-12-17 00:00:00  116   \n",
       "2         2.0   美丽人生   327855.0  剧情/喜剧/爱情   意大利  1997-12-20 00:00:00  116   \n",
       "3         3.0    阿甘正传  580897.0     剧情/爱情    美国  1994-06-23 00:00:00  142   \n",
       "4         4.0    霸王别姬  478523.0  剧情/爱情/同性  中国大陆  1993-01-01 00:00:00  171   \n",
       "\n",
       "     年代   评分    首映地点  序号  \n",
       "0  1994  9.6  多伦多电影节   1  \n",
       "1  1957  9.5      美国   2  \n",
       "2  1997  9.5     意大利   3  \n",
       "3  1994  9.4   洛杉矶首映   4  \n",
       "4  1993  9.4      香港   5  "
      ]
     },
     "execution_count": 66,
     "metadata": {},
     "output_type": "execute_result"
    }
   ],
   "source": [
    "df_mv['序号']=range(1,len(df_mv)+1)\n",
    "df_mv.head()"
   ]
  },
  {
   "cell_type": "markdown",
   "metadata": {
    "heading_collapsed": true,
    "hidden": true
   },
   "source": [
    "##### 删除一列"
   ]
  },
  {
   "cell_type": "code",
   "execution_count": 68,
   "metadata": {
    "hidden": true
   },
   "outputs": [
    {
     "data": {
      "text/html": [
       "<div>\n",
       "<style scoped>\n",
       "    .dataframe tbody tr th:only-of-type {\n",
       "        vertical-align: middle;\n",
       "    }\n",
       "\n",
       "    .dataframe tbody tr th {\n",
       "        vertical-align: top;\n",
       "    }\n",
       "\n",
       "    .dataframe thead th {\n",
       "        text-align: right;\n",
       "    }\n",
       "</style>\n",
       "<table border=\"1\" class=\"dataframe\">\n",
       "  <thead>\n",
       "    <tr style=\"text-align: right;\">\n",
       "      <th></th>\n",
       "      <th>Unnamed: 0</th>\n",
       "      <th>名字</th>\n",
       "      <th>投票人数</th>\n",
       "      <th>类型</th>\n",
       "      <th>产地</th>\n",
       "      <th>上映时间</th>\n",
       "      <th>时长</th>\n",
       "      <th>年代</th>\n",
       "      <th>评分</th>\n",
       "      <th>首映地点</th>\n",
       "    </tr>\n",
       "  </thead>\n",
       "  <tbody>\n",
       "    <tr>\n",
       "      <th>0</th>\n",
       "      <td>0.0</td>\n",
       "      <td>肖申克的救赎</td>\n",
       "      <td>692795.0</td>\n",
       "      <td>剧情/犯罪</td>\n",
       "      <td>美国</td>\n",
       "      <td>1994-09-10 00:00:00</td>\n",
       "      <td>142</td>\n",
       "      <td>1994</td>\n",
       "      <td>9.6</td>\n",
       "      <td>多伦多电影节</td>\n",
       "    </tr>\n",
       "    <tr>\n",
       "      <th>1</th>\n",
       "      <td>1.0</td>\n",
       "      <td>控方证人</td>\n",
       "      <td>42995.0</td>\n",
       "      <td>剧情/悬疑/犯罪</td>\n",
       "      <td>美国</td>\n",
       "      <td>1957-12-17 00:00:00</td>\n",
       "      <td>116</td>\n",
       "      <td>1957</td>\n",
       "      <td>9.5</td>\n",
       "      <td>美国</td>\n",
       "    </tr>\n",
       "    <tr>\n",
       "      <th>2</th>\n",
       "      <td>2.0</td>\n",
       "      <td>美丽人生</td>\n",
       "      <td>327855.0</td>\n",
       "      <td>剧情/喜剧/爱情</td>\n",
       "      <td>意大利</td>\n",
       "      <td>1997-12-20 00:00:00</td>\n",
       "      <td>116</td>\n",
       "      <td>1997</td>\n",
       "      <td>9.5</td>\n",
       "      <td>意大利</td>\n",
       "    </tr>\n",
       "    <tr>\n",
       "      <th>3</th>\n",
       "      <td>3.0</td>\n",
       "      <td>阿甘正传</td>\n",
       "      <td>580897.0</td>\n",
       "      <td>剧情/爱情</td>\n",
       "      <td>美国</td>\n",
       "      <td>1994-06-23 00:00:00</td>\n",
       "      <td>142</td>\n",
       "      <td>1994</td>\n",
       "      <td>9.4</td>\n",
       "      <td>洛杉矶首映</td>\n",
       "    </tr>\n",
       "    <tr>\n",
       "      <th>4</th>\n",
       "      <td>4.0</td>\n",
       "      <td>霸王别姬</td>\n",
       "      <td>478523.0</td>\n",
       "      <td>剧情/爱情/同性</td>\n",
       "      <td>中国大陆</td>\n",
       "      <td>1993-01-01 00:00:00</td>\n",
       "      <td>171</td>\n",
       "      <td>1993</td>\n",
       "      <td>9.4</td>\n",
       "      <td>香港</td>\n",
       "    </tr>\n",
       "  </tbody>\n",
       "</table>\n",
       "</div>"
      ],
      "text/plain": [
       "   Unnamed: 0      名字      投票人数        类型    产地                 上映时间   时长  \\\n",
       "0         0.0  肖申克的救赎  692795.0     剧情/犯罪    美国  1994-09-10 00:00:00  142   \n",
       "1         1.0    控方证人   42995.0  剧情/悬疑/犯罪    美国  1957-12-17 00:00:00  116   \n",
       "2         2.0   美丽人生   327855.0  剧情/喜剧/爱情   意大利  1997-12-20 00:00:00  116   \n",
       "3         3.0    阿甘正传  580897.0     剧情/爱情    美国  1994-06-23 00:00:00  142   \n",
       "4         4.0    霸王别姬  478523.0  剧情/爱情/同性  中国大陆  1993-01-01 00:00:00  171   \n",
       "\n",
       "     年代   评分    首映地点  \n",
       "0  1994  9.6  多伦多电影节  \n",
       "1  1957  9.5      美国  \n",
       "2  1997  9.5     意大利  \n",
       "3  1994  9.4   洛杉矶首映  \n",
       "4  1993  9.4      香港  "
      ]
     },
     "execution_count": 68,
     "metadata": {},
     "output_type": "execute_result"
    }
   ],
   "source": [
    "df_mv=df_mv.drop('序号',axis=1)\n",
    "df_mv.head()"
   ]
  },
  {
   "cell_type": "markdown",
   "metadata": {
    "heading_collapsed": true,
    "hidden": true
   },
   "source": [
    "##### 通过标签选择数据<br>\n",
    "df.loc[[index],[column]]通过标签选择数据"
   ]
  },
  {
   "cell_type": "code",
   "execution_count": 73,
   "metadata": {
    "hidden": true
   },
   "outputs": [
    {
     "data": {
      "text/html": [
       "<div>\n",
       "<style scoped>\n",
       "    .dataframe tbody tr th:only-of-type {\n",
       "        vertical-align: middle;\n",
       "    }\n",
       "\n",
       "    .dataframe tbody tr th {\n",
       "        vertical-align: top;\n",
       "    }\n",
       "\n",
       "    .dataframe thead th {\n",
       "        text-align: right;\n",
       "    }\n",
       "</style>\n",
       "<table border=\"1\" class=\"dataframe\">\n",
       "  <thead>\n",
       "    <tr style=\"text-align: right;\">\n",
       "      <th></th>\n",
       "      <th>名字</th>\n",
       "      <th>评分</th>\n",
       "    </tr>\n",
       "  </thead>\n",
       "  <tbody>\n",
       "    <tr>\n",
       "      <th>1</th>\n",
       "      <td>控方证人</td>\n",
       "      <td>9.5</td>\n",
       "    </tr>\n",
       "    <tr>\n",
       "      <th>3</th>\n",
       "      <td>阿甘正传</td>\n",
       "      <td>9.4</td>\n",
       "    </tr>\n",
       "    <tr>\n",
       "      <th>4</th>\n",
       "      <td>霸王别姬</td>\n",
       "      <td>9.4</td>\n",
       "    </tr>\n",
       "  </tbody>\n",
       "</table>\n",
       "</div>"
      ],
      "text/plain": [
       "     名字   评分\n",
       "1  控方证人  9.5\n",
       "3  阿甘正传  9.4\n",
       "4  霸王别姬  9.4"
      ]
     },
     "execution_count": 73,
     "metadata": {},
     "output_type": "execute_result"
    }
   ],
   "source": [
    "df_mv.loc[[1,3,4],['名字','评分']]"
   ]
  },
  {
   "cell_type": "code",
   "execution_count": 71,
   "metadata": {
    "hidden": true
   },
   "outputs": [
    {
     "data": {
      "text/plain": [
       "'控方证人'"
      ]
     },
     "execution_count": 71,
     "metadata": {},
     "output_type": "execute_result"
    }
   ],
   "source": [
    "df_mv.loc[1,'名字']"
   ]
  },
  {
   "cell_type": "markdown",
   "metadata": {
    "heading_collapsed": true,
    "hidden": true
   },
   "source": [
    "##### 条件选择"
   ]
  },
  {
   "cell_type": "markdown",
   "metadata": {
    "hidden": true
   },
   "source": [
    "选取产地为美国的所有电音"
   ]
  },
  {
   "cell_type": "code",
   "execution_count": 77,
   "metadata": {
    "hidden": true
   },
   "outputs": [
    {
     "data": {
      "text/html": [
       "<div>\n",
       "<style scoped>\n",
       "    .dataframe tbody tr th:only-of-type {\n",
       "        vertical-align: middle;\n",
       "    }\n",
       "\n",
       "    .dataframe tbody tr th {\n",
       "        vertical-align: top;\n",
       "    }\n",
       "\n",
       "    .dataframe thead th {\n",
       "        text-align: right;\n",
       "    }\n",
       "</style>\n",
       "<table border=\"1\" class=\"dataframe\">\n",
       "  <thead>\n",
       "    <tr style=\"text-align: right;\">\n",
       "      <th></th>\n",
       "      <th>Unnamed: 0</th>\n",
       "      <th>名字</th>\n",
       "      <th>投票人数</th>\n",
       "      <th>类型</th>\n",
       "      <th>产地</th>\n",
       "      <th>上映时间</th>\n",
       "      <th>时长</th>\n",
       "      <th>年代</th>\n",
       "      <th>评分</th>\n",
       "      <th>首映地点</th>\n",
       "    </tr>\n",
       "  </thead>\n",
       "  <tbody>\n",
       "    <tr>\n",
       "      <th>4</th>\n",
       "      <td>4.0</td>\n",
       "      <td>霸王别姬</td>\n",
       "      <td>478523.0</td>\n",
       "      <td>剧情/爱情/同性</td>\n",
       "      <td>中国大陆</td>\n",
       "      <td>1993-01-01 00:00:00</td>\n",
       "      <td>171</td>\n",
       "      <td>1993</td>\n",
       "      <td>9.4</td>\n",
       "      <td>香港</td>\n",
       "    </tr>\n",
       "    <tr>\n",
       "      <th>21</th>\n",
       "      <td>21.0</td>\n",
       "      <td>大闹天宫</td>\n",
       "      <td>74881.0</td>\n",
       "      <td>动画/奇幻</td>\n",
       "      <td>中国大陆</td>\n",
       "      <td>1905-05-14 00:00:00</td>\n",
       "      <td>114</td>\n",
       "      <td>1961</td>\n",
       "      <td>9.2</td>\n",
       "      <td>上集</td>\n",
       "    </tr>\n",
       "    <tr>\n",
       "      <th>29</th>\n",
       "      <td>29.0</td>\n",
       "      <td>穹顶之下</td>\n",
       "      <td>51113.0</td>\n",
       "      <td>纪录片</td>\n",
       "      <td>中国大陆</td>\n",
       "      <td>2015-02-28 00:00:00</td>\n",
       "      <td>104</td>\n",
       "      <td>2015</td>\n",
       "      <td>9.2</td>\n",
       "      <td>中国大陆</td>\n",
       "    </tr>\n",
       "    <tr>\n",
       "      <th>38</th>\n",
       "      <td>38.0</td>\n",
       "      <td>茶馆</td>\n",
       "      <td>10678.0</td>\n",
       "      <td>剧情/历史</td>\n",
       "      <td>中国大陆</td>\n",
       "      <td>1905-06-04 00:00:00</td>\n",
       "      <td>118</td>\n",
       "      <td>1982</td>\n",
       "      <td>9.2</td>\n",
       "      <td>美国</td>\n",
       "    </tr>\n",
       "    <tr>\n",
       "      <th>45</th>\n",
       "      <td>45.0</td>\n",
       "      <td>山水情</td>\n",
       "      <td>10781.0</td>\n",
       "      <td>动画/短片</td>\n",
       "      <td>中国大陆</td>\n",
       "      <td>1905-06-10 00:00:00</td>\n",
       "      <td>19</td>\n",
       "      <td>1988</td>\n",
       "      <td>9.2</td>\n",
       "      <td>美国</td>\n",
       "    </tr>\n",
       "  </tbody>\n",
       "</table>\n",
       "</div>"
      ],
      "text/plain": [
       "    Unnamed: 0    名字      投票人数        类型    产地                 上映时间   时长  \\\n",
       "4          4.0  霸王别姬  478523.0  剧情/爱情/同性  中国大陆  1993-01-01 00:00:00  171   \n",
       "21        21.0  大闹天宫   74881.0     动画/奇幻  中国大陆  1905-05-14 00:00:00  114   \n",
       "29        29.0  穹顶之下   51113.0       纪录片  中国大陆  2015-02-28 00:00:00  104   \n",
       "38        38.0    茶馆   10678.0     剧情/历史  中国大陆  1905-06-04 00:00:00  118   \n",
       "45        45.0   山水情   10781.0     动画/短片  中国大陆  1905-06-10 00:00:00   19   \n",
       "\n",
       "      年代   评分  首映地点  \n",
       "4   1993  9.4    香港  \n",
       "21  1961  9.2    上集  \n",
       "29  2015  9.2  中国大陆  \n",
       "38  1982  9.2    美国  \n",
       "45  1988  9.2    美国  "
      ]
     },
     "execution_count": 77,
     "metadata": {},
     "output_type": "execute_result"
    }
   ],
   "source": [
    "df_mv[df_mv['产地']=='中国大陆'][:5]"
   ]
  },
  {
   "cell_type": "markdown",
   "metadata": {
    "hidden": true
   },
   "source": [
    "选取产地为美国，且评分大于9的电影"
   ]
  },
  {
   "cell_type": "code",
   "execution_count": 81,
   "metadata": {
    "hidden": true
   },
   "outputs": [
    {
     "data": {
      "text/html": [
       "<div>\n",
       "<style scoped>\n",
       "    .dataframe tbody tr th:only-of-type {\n",
       "        vertical-align: middle;\n",
       "    }\n",
       "\n",
       "    .dataframe tbody tr th {\n",
       "        vertical-align: top;\n",
       "    }\n",
       "\n",
       "    .dataframe thead th {\n",
       "        text-align: right;\n",
       "    }\n",
       "</style>\n",
       "<table border=\"1\" class=\"dataframe\">\n",
       "  <thead>\n",
       "    <tr style=\"text-align: right;\">\n",
       "      <th></th>\n",
       "      <th>Unnamed: 0</th>\n",
       "      <th>名字</th>\n",
       "      <th>投票人数</th>\n",
       "      <th>类型</th>\n",
       "      <th>产地</th>\n",
       "      <th>上映时间</th>\n",
       "      <th>时长</th>\n",
       "      <th>年代</th>\n",
       "      <th>评分</th>\n",
       "      <th>首映地点</th>\n",
       "    </tr>\n",
       "  </thead>\n",
       "  <tbody>\n",
       "    <tr>\n",
       "      <th>0</th>\n",
       "      <td>0.0</td>\n",
       "      <td>肖申克的救赎</td>\n",
       "      <td>692795.0</td>\n",
       "      <td>剧情/犯罪</td>\n",
       "      <td>美国</td>\n",
       "      <td>1994-09-10 00:00:00</td>\n",
       "      <td>142</td>\n",
       "      <td>1994</td>\n",
       "      <td>9.6</td>\n",
       "      <td>多伦多电影节</td>\n",
       "    </tr>\n",
       "    <tr>\n",
       "      <th>1</th>\n",
       "      <td>1.0</td>\n",
       "      <td>控方证人</td>\n",
       "      <td>42995.0</td>\n",
       "      <td>剧情/悬疑/犯罪</td>\n",
       "      <td>美国</td>\n",
       "      <td>1957-12-17 00:00:00</td>\n",
       "      <td>116</td>\n",
       "      <td>1957</td>\n",
       "      <td>9.5</td>\n",
       "      <td>美国</td>\n",
       "    </tr>\n",
       "    <tr>\n",
       "      <th>3</th>\n",
       "      <td>3.0</td>\n",
       "      <td>阿甘正传</td>\n",
       "      <td>580897.0</td>\n",
       "      <td>剧情/爱情</td>\n",
       "      <td>美国</td>\n",
       "      <td>1994-06-23 00:00:00</td>\n",
       "      <td>142</td>\n",
       "      <td>1994</td>\n",
       "      <td>9.4</td>\n",
       "      <td>洛杉矶首映</td>\n",
       "    </tr>\n",
       "    <tr>\n",
       "      <th>5</th>\n",
       "      <td>5.0</td>\n",
       "      <td>泰坦尼克号</td>\n",
       "      <td>157074.0</td>\n",
       "      <td>剧情/爱情/灾难</td>\n",
       "      <td>美国</td>\n",
       "      <td>2012-04-10 00:00:00</td>\n",
       "      <td>194</td>\n",
       "      <td>2012</td>\n",
       "      <td>9.4</td>\n",
       "      <td>中国大陆</td>\n",
       "    </tr>\n",
       "    <tr>\n",
       "      <th>6</th>\n",
       "      <td>6.0</td>\n",
       "      <td>辛德勒的名单</td>\n",
       "      <td>306904.0</td>\n",
       "      <td>剧情/历史/战争</td>\n",
       "      <td>美国</td>\n",
       "      <td>1993-11-30 00:00:00</td>\n",
       "      <td>195</td>\n",
       "      <td>1993</td>\n",
       "      <td>9.4</td>\n",
       "      <td>华盛顿首映</td>\n",
       "    </tr>\n",
       "  </tbody>\n",
       "</table>\n",
       "</div>"
      ],
      "text/plain": [
       "   Unnamed: 0      名字      投票人数        类型  产地                 上映时间   时长    年代  \\\n",
       "0         0.0  肖申克的救赎  692795.0     剧情/犯罪  美国  1994-09-10 00:00:00  142  1994   \n",
       "1         1.0    控方证人   42995.0  剧情/悬疑/犯罪  美国  1957-12-17 00:00:00  116  1957   \n",
       "3         3.0    阿甘正传  580897.0     剧情/爱情  美国  1994-06-23 00:00:00  142  1994   \n",
       "5         5.0  泰坦尼克号   157074.0  剧情/爱情/灾难  美国  2012-04-10 00:00:00  194  2012   \n",
       "6         6.0  辛德勒的名单  306904.0  剧情/历史/战争  美国  1993-11-30 00:00:00  195  1993   \n",
       "\n",
       "    评分    首映地点  \n",
       "0  9.6  多伦多电影节  \n",
       "1  9.5      美国  \n",
       "3  9.4   洛杉矶首映  \n",
       "5  9.4    中国大陆  \n",
       "6  9.4   华盛顿首映  "
      ]
     },
     "execution_count": 81,
     "metadata": {},
     "output_type": "execute_result"
    }
   ],
   "source": [
    "df_mv[(df_mv.产地=='美国')&(df_mv.评分>9)].head()"
   ]
  },
  {
   "cell_type": "markdown",
   "metadata": {
    "hidden": true
   },
   "source": [
    "选取产地为美国或中国大陆，且评分大于9的电影"
   ]
  },
  {
   "cell_type": "code",
   "execution_count": 82,
   "metadata": {
    "hidden": true
   },
   "outputs": [
    {
     "data": {
      "text/html": [
       "<div>\n",
       "<style scoped>\n",
       "    .dataframe tbody tr th:only-of-type {\n",
       "        vertical-align: middle;\n",
       "    }\n",
       "\n",
       "    .dataframe tbody tr th {\n",
       "        vertical-align: top;\n",
       "    }\n",
       "\n",
       "    .dataframe thead th {\n",
       "        text-align: right;\n",
       "    }\n",
       "</style>\n",
       "<table border=\"1\" class=\"dataframe\">\n",
       "  <thead>\n",
       "    <tr style=\"text-align: right;\">\n",
       "      <th></th>\n",
       "      <th>Unnamed: 0</th>\n",
       "      <th>名字</th>\n",
       "      <th>投票人数</th>\n",
       "      <th>类型</th>\n",
       "      <th>产地</th>\n",
       "      <th>上映时间</th>\n",
       "      <th>时长</th>\n",
       "      <th>年代</th>\n",
       "      <th>评分</th>\n",
       "      <th>首映地点</th>\n",
       "    </tr>\n",
       "  </thead>\n",
       "  <tbody>\n",
       "    <tr>\n",
       "      <th>0</th>\n",
       "      <td>0.0</td>\n",
       "      <td>肖申克的救赎</td>\n",
       "      <td>692795.0</td>\n",
       "      <td>剧情/犯罪</td>\n",
       "      <td>美国</td>\n",
       "      <td>1994-09-10 00:00:00</td>\n",
       "      <td>142</td>\n",
       "      <td>1994</td>\n",
       "      <td>9.6</td>\n",
       "      <td>多伦多电影节</td>\n",
       "    </tr>\n",
       "    <tr>\n",
       "      <th>1</th>\n",
       "      <td>1.0</td>\n",
       "      <td>控方证人</td>\n",
       "      <td>42995.0</td>\n",
       "      <td>剧情/悬疑/犯罪</td>\n",
       "      <td>美国</td>\n",
       "      <td>1957-12-17 00:00:00</td>\n",
       "      <td>116</td>\n",
       "      <td>1957</td>\n",
       "      <td>9.5</td>\n",
       "      <td>美国</td>\n",
       "    </tr>\n",
       "    <tr>\n",
       "      <th>3</th>\n",
       "      <td>3.0</td>\n",
       "      <td>阿甘正传</td>\n",
       "      <td>580897.0</td>\n",
       "      <td>剧情/爱情</td>\n",
       "      <td>美国</td>\n",
       "      <td>1994-06-23 00:00:00</td>\n",
       "      <td>142</td>\n",
       "      <td>1994</td>\n",
       "      <td>9.4</td>\n",
       "      <td>洛杉矶首映</td>\n",
       "    </tr>\n",
       "    <tr>\n",
       "      <th>4</th>\n",
       "      <td>4.0</td>\n",
       "      <td>霸王别姬</td>\n",
       "      <td>478523.0</td>\n",
       "      <td>剧情/爱情/同性</td>\n",
       "      <td>中国大陆</td>\n",
       "      <td>1993-01-01 00:00:00</td>\n",
       "      <td>171</td>\n",
       "      <td>1993</td>\n",
       "      <td>9.4</td>\n",
       "      <td>香港</td>\n",
       "    </tr>\n",
       "    <tr>\n",
       "      <th>5</th>\n",
       "      <td>5.0</td>\n",
       "      <td>泰坦尼克号</td>\n",
       "      <td>157074.0</td>\n",
       "      <td>剧情/爱情/灾难</td>\n",
       "      <td>美国</td>\n",
       "      <td>2012-04-10 00:00:00</td>\n",
       "      <td>194</td>\n",
       "      <td>2012</td>\n",
       "      <td>9.4</td>\n",
       "      <td>中国大陆</td>\n",
       "    </tr>\n",
       "  </tbody>\n",
       "</table>\n",
       "</div>"
      ],
      "text/plain": [
       "   Unnamed: 0      名字      投票人数        类型    产地                 上映时间   时长  \\\n",
       "0         0.0  肖申克的救赎  692795.0     剧情/犯罪    美国  1994-09-10 00:00:00  142   \n",
       "1         1.0    控方证人   42995.0  剧情/悬疑/犯罪    美国  1957-12-17 00:00:00  116   \n",
       "3         3.0    阿甘正传  580897.0     剧情/爱情    美国  1994-06-23 00:00:00  142   \n",
       "4         4.0    霸王别姬  478523.0  剧情/爱情/同性  中国大陆  1993-01-01 00:00:00  171   \n",
       "5         5.0  泰坦尼克号   157074.0  剧情/爱情/灾难    美国  2012-04-10 00:00:00  194   \n",
       "\n",
       "     年代   评分    首映地点  \n",
       "0  1994  9.6  多伦多电影节  \n",
       "1  1957  9.5      美国  \n",
       "3  1994  9.4   洛杉矶首映  \n",
       "4  1993  9.4      香港  \n",
       "5  2012  9.4    中国大陆  "
      ]
     },
     "execution_count": 82,
     "metadata": {},
     "output_type": "execute_result"
    }
   ],
   "source": [
    "df_mv[((df_mv.产地=='美国')|(df_mv.产地=='中国大陆'))&(df_mv.评分>9)].head()"
   ]
  },
  {
   "cell_type": "markdown",
   "metadata": {
    "heading_collapsed": true,
    "hidden": true
   },
   "source": [
    "#### 3.1.3 数据清洗"
   ]
  },
  {
   "cell_type": "markdown",
   "metadata": {
    "heading_collapsed": true,
    "hidden": true
   },
   "source": [
    "##### 缺失值处理"
   ]
  },
  {
   "cell_type": "markdown",
   "metadata": {
    "hidden": true
   },
   "source": [
    "dropna：根据标签中的缺失值进行过滤，删除缺失值<br>\n",
    "fillna：对缺失值进行填充<br>\n",
    "isnull：返回一个布尔值对象，判断哪些值是缺失值<br>\n",
    "notnull：isnull的否定式"
   ]
  },
  {
   "cell_type": "markdown",
   "metadata": {
    "heading_collapsed": true,
    "hidden": true
   },
   "source": [
    "###### 判断缺失值"
   ]
  },
  {
   "cell_type": "code",
   "execution_count": 86,
   "metadata": {
    "hidden": true
   },
   "outputs": [
    {
     "data": {
      "text/html": [
       "<div>\n",
       "<style scoped>\n",
       "    .dataframe tbody tr th:only-of-type {\n",
       "        vertical-align: middle;\n",
       "    }\n",
       "\n",
       "    .dataframe tbody tr th {\n",
       "        vertical-align: top;\n",
       "    }\n",
       "\n",
       "    .dataframe thead th {\n",
       "        text-align: right;\n",
       "    }\n",
       "</style>\n",
       "<table border=\"1\" class=\"dataframe\">\n",
       "  <thead>\n",
       "    <tr style=\"text-align: right;\">\n",
       "      <th></th>\n",
       "      <th>Unnamed: 0</th>\n",
       "      <th>名字</th>\n",
       "      <th>投票人数</th>\n",
       "      <th>类型</th>\n",
       "      <th>产地</th>\n",
       "      <th>上映时间</th>\n",
       "      <th>时长</th>\n",
       "      <th>年代</th>\n",
       "      <th>评分</th>\n",
       "      <th>首映地点</th>\n",
       "    </tr>\n",
       "  </thead>\n",
       "  <tbody>\n",
       "    <tr>\n",
       "      <th>231</th>\n",
       "      <td>231.0</td>\n",
       "      <td>NaN</td>\n",
       "      <td>144.0</td>\n",
       "      <td>纪录片/音乐</td>\n",
       "      <td>韩国</td>\n",
       "      <td>2011-02-02 00:00:00</td>\n",
       "      <td>90</td>\n",
       "      <td>2011</td>\n",
       "      <td>9.7</td>\n",
       "      <td>美国</td>\n",
       "    </tr>\n",
       "    <tr>\n",
       "      <th>361</th>\n",
       "      <td>361.0</td>\n",
       "      <td>NaN</td>\n",
       "      <td>80.0</td>\n",
       "      <td>短片</td>\n",
       "      <td>其他</td>\n",
       "      <td>1905-05-17 00:00:00</td>\n",
       "      <td>4</td>\n",
       "      <td>1964</td>\n",
       "      <td>5.7</td>\n",
       "      <td>美国</td>\n",
       "    </tr>\n",
       "    <tr>\n",
       "      <th>369</th>\n",
       "      <td>369.0</td>\n",
       "      <td>NaN</td>\n",
       "      <td>5315.0</td>\n",
       "      <td>剧情</td>\n",
       "      <td>日本</td>\n",
       "      <td>2004-07-10 00:00:00</td>\n",
       "      <td>111</td>\n",
       "      <td>2004</td>\n",
       "      <td>7.5</td>\n",
       "      <td>日本</td>\n",
       "    </tr>\n",
       "    <tr>\n",
       "      <th>372</th>\n",
       "      <td>372.0</td>\n",
       "      <td>NaN</td>\n",
       "      <td>263.0</td>\n",
       "      <td>短片/音乐</td>\n",
       "      <td>英国</td>\n",
       "      <td>1998-06-30 00:00:00</td>\n",
       "      <td>34</td>\n",
       "      <td>1998</td>\n",
       "      <td>9.2</td>\n",
       "      <td>美国</td>\n",
       "    </tr>\n",
       "    <tr>\n",
       "      <th>374</th>\n",
       "      <td>374.0</td>\n",
       "      <td>NaN</td>\n",
       "      <td>47.0</td>\n",
       "      <td>短片</td>\n",
       "      <td>其他</td>\n",
       "      <td>1905-05-17 00:00:00</td>\n",
       "      <td>3</td>\n",
       "      <td>1964</td>\n",
       "      <td>6.7</td>\n",
       "      <td>美国</td>\n",
       "    </tr>\n",
       "  </tbody>\n",
       "</table>\n",
       "</div>"
      ],
      "text/plain": [
       "     Unnamed: 0   名字    投票人数      类型  产地                 上映时间   时长    年代   评分  \\\n",
       "231       231.0  NaN   144.0  纪录片/音乐  韩国  2011-02-02 00:00:00   90  2011  9.7   \n",
       "361       361.0  NaN    80.0      短片  其他  1905-05-17 00:00:00    4  1964  5.7   \n",
       "369       369.0  NaN  5315.0      剧情  日本  2004-07-10 00:00:00  111  2004  7.5   \n",
       "372       372.0  NaN   263.0   短片/音乐  英国  1998-06-30 00:00:00   34  1998  9.2   \n",
       "374       374.0  NaN    47.0      短片  其他  1905-05-17 00:00:00    3  1964  6.7   \n",
       "\n",
       "    首映地点  \n",
       "231   美国  \n",
       "361   美国  \n",
       "369   日本  \n",
       "372   美国  \n",
       "374   美国  "
      ]
     },
     "execution_count": 86,
     "metadata": {},
     "output_type": "execute_result"
    }
   ],
   "source": [
    "df_mv[df_mv['名字'].isnull()].head()"
   ]
  },
  {
   "cell_type": "markdown",
   "metadata": {
    "heading_collapsed": true,
    "hidden": true
   },
   "source": [
    "###### 填充缺失值"
   ]
  },
  {
   "cell_type": "markdown",
   "metadata": {
    "hidden": true
   },
   "source": [
    "填充字符类"
   ]
  },
  {
   "cell_type": "code",
   "execution_count": 105,
   "metadata": {
    "hidden": true
   },
   "outputs": [
    {
     "data": {
      "text/html": [
       "<div>\n",
       "<style scoped>\n",
       "    .dataframe tbody tr th:only-of-type {\n",
       "        vertical-align: middle;\n",
       "    }\n",
       "\n",
       "    .dataframe tbody tr th {\n",
       "        vertical-align: top;\n",
       "    }\n",
       "\n",
       "    .dataframe thead th {\n",
       "        text-align: right;\n",
       "    }\n",
       "</style>\n",
       "<table border=\"1\" class=\"dataframe\">\n",
       "  <thead>\n",
       "    <tr style=\"text-align: right;\">\n",
       "      <th></th>\n",
       "      <th>Unnamed: 0</th>\n",
       "      <th>名字</th>\n",
       "      <th>投票人数</th>\n",
       "      <th>类型</th>\n",
       "      <th>产地</th>\n",
       "      <th>上映时间</th>\n",
       "      <th>时长</th>\n",
       "      <th>年代</th>\n",
       "      <th>评分</th>\n",
       "      <th>首映地点</th>\n",
       "    </tr>\n",
       "  </thead>\n",
       "  <tbody>\n",
       "    <tr>\n",
       "      <th>231</th>\n",
       "      <td>231.0</td>\n",
       "      <td>NaN</td>\n",
       "      <td>144.0</td>\n",
       "      <td>纪录片/音乐</td>\n",
       "      <td>韩国</td>\n",
       "      <td>2011-02-02 00:00:00</td>\n",
       "      <td>90</td>\n",
       "      <td>2011</td>\n",
       "      <td>9.7</td>\n",
       "      <td>美国</td>\n",
       "    </tr>\n",
       "    <tr>\n",
       "      <th>361</th>\n",
       "      <td>361.0</td>\n",
       "      <td>NaN</td>\n",
       "      <td>80.0</td>\n",
       "      <td>短片</td>\n",
       "      <td>其他</td>\n",
       "      <td>1905-05-17 00:00:00</td>\n",
       "      <td>4</td>\n",
       "      <td>1964</td>\n",
       "      <td>5.7</td>\n",
       "      <td>美国</td>\n",
       "    </tr>\n",
       "    <tr>\n",
       "      <th>369</th>\n",
       "      <td>369.0</td>\n",
       "      <td>NaN</td>\n",
       "      <td>5315.0</td>\n",
       "      <td>剧情</td>\n",
       "      <td>日本</td>\n",
       "      <td>2004-07-10 00:00:00</td>\n",
       "      <td>111</td>\n",
       "      <td>2004</td>\n",
       "      <td>7.5</td>\n",
       "      <td>日本</td>\n",
       "    </tr>\n",
       "    <tr>\n",
       "      <th>372</th>\n",
       "      <td>372.0</td>\n",
       "      <td>NaN</td>\n",
       "      <td>263.0</td>\n",
       "      <td>短片/音乐</td>\n",
       "      <td>英国</td>\n",
       "      <td>1998-06-30 00:00:00</td>\n",
       "      <td>34</td>\n",
       "      <td>1998</td>\n",
       "      <td>9.2</td>\n",
       "      <td>美国</td>\n",
       "    </tr>\n",
       "    <tr>\n",
       "      <th>374</th>\n",
       "      <td>374.0</td>\n",
       "      <td>NaN</td>\n",
       "      <td>47.0</td>\n",
       "      <td>短片</td>\n",
       "      <td>其他</td>\n",
       "      <td>1905-05-17 00:00:00</td>\n",
       "      <td>3</td>\n",
       "      <td>1964</td>\n",
       "      <td>6.7</td>\n",
       "      <td>美国</td>\n",
       "    </tr>\n",
       "  </tbody>\n",
       "</table>\n",
       "</div>"
      ],
      "text/plain": [
       "     Unnamed: 0   名字    投票人数      类型  产地                 上映时间   时长    年代   评分  \\\n",
       "231       231.0  NaN   144.0  纪录片/音乐  韩国  2011-02-02 00:00:00   90  2011  9.7   \n",
       "361       361.0  NaN    80.0      短片  其他  1905-05-17 00:00:00    4  1964  5.7   \n",
       "369       369.0  NaN  5315.0      剧情  日本  2004-07-10 00:00:00  111  2004  7.5   \n",
       "372       372.0  NaN   263.0   短片/音乐  英国  1998-06-30 00:00:00   34  1998  9.2   \n",
       "374       374.0  NaN    47.0      短片  其他  1905-05-17 00:00:00    3  1964  6.7   \n",
       "\n",
       "    首映地点  \n",
       "231   美国  \n",
       "361   美国  \n",
       "369   日本  \n",
       "372   美国  \n",
       "374   美国  "
      ]
     },
     "execution_count": 105,
     "metadata": {},
     "output_type": "execute_result"
    }
   ],
   "source": [
    "df_mv[df_mv['名字'].isnull()].head()"
   ]
  },
  {
   "cell_type": "code",
   "execution_count": 106,
   "metadata": {
    "hidden": true
   },
   "outputs": [
    {
     "data": {
      "text/html": [
       "<div>\n",
       "<style scoped>\n",
       "    .dataframe tbody tr th:only-of-type {\n",
       "        vertical-align: middle;\n",
       "    }\n",
       "\n",
       "    .dataframe tbody tr th {\n",
       "        vertical-align: top;\n",
       "    }\n",
       "\n",
       "    .dataframe thead th {\n",
       "        text-align: right;\n",
       "    }\n",
       "</style>\n",
       "<table border=\"1\" class=\"dataframe\">\n",
       "  <thead>\n",
       "    <tr style=\"text-align: right;\">\n",
       "      <th></th>\n",
       "      <th>Unnamed: 0</th>\n",
       "      <th>名字</th>\n",
       "      <th>投票人数</th>\n",
       "      <th>类型</th>\n",
       "      <th>产地</th>\n",
       "      <th>上映时间</th>\n",
       "      <th>时长</th>\n",
       "      <th>年代</th>\n",
       "      <th>评分</th>\n",
       "      <th>首映地点</th>\n",
       "    </tr>\n",
       "  </thead>\n",
       "  <tbody>\n",
       "  </tbody>\n",
       "</table>\n",
       "</div>"
      ],
      "text/plain": [
       "Empty DataFrame\n",
       "Columns: [Unnamed: 0, 名字, 投票人数, 类型, 产地, 上映时间, 时长, 年代, 评分, 首映地点]\n",
       "Index: []"
      ]
     },
     "execution_count": 106,
     "metadata": {},
     "output_type": "execute_result"
    }
   ],
   "source": [
    "df_mv['名字'].fillna('未知电影',inplace=True)\n",
    "df_mv[df_mv['名字'].isnull()].head()"
   ]
  },
  {
   "cell_type": "markdown",
   "metadata": {
    "hidden": true
   },
   "source": [
    "填充数值类"
   ]
  },
  {
   "cell_type": "code",
   "execution_count": 101,
   "metadata": {
    "hidden": true,
    "scrolled": true
   },
   "outputs": [],
   "source": [
    "##添加一行，用于实验。此处设置评分为空nan\n",
    "dit={'名字':'复仇者联盟3',\n",
    "     '投票人数':123456,\n",
    "     '类型':'剧情/科幻',\n",
    "     '产地':'美国',\n",
    "     '上映时间':'2017-05-04 00:00:00',\n",
    "     '时长':142,\n",
    "     '年代':2017,\n",
    "     '评分':np.nan,\n",
    "     '首映地点':'美国'}\n",
    "s=pd.Series(dit)\n",
    "s.name=38738\n",
    "df_mv=df_mv.append(s)"
   ]
  },
  {
   "cell_type": "code",
   "execution_count": 102,
   "metadata": {
    "hidden": true
   },
   "outputs": [
    {
     "data": {
      "text/html": [
       "<div>\n",
       "<style scoped>\n",
       "    .dataframe tbody tr th:only-of-type {\n",
       "        vertical-align: middle;\n",
       "    }\n",
       "\n",
       "    .dataframe tbody tr th {\n",
       "        vertical-align: top;\n",
       "    }\n",
       "\n",
       "    .dataframe thead th {\n",
       "        text-align: right;\n",
       "    }\n",
       "</style>\n",
       "<table border=\"1\" class=\"dataframe\">\n",
       "  <thead>\n",
       "    <tr style=\"text-align: right;\">\n",
       "      <th></th>\n",
       "      <th>Unnamed: 0</th>\n",
       "      <th>名字</th>\n",
       "      <th>投票人数</th>\n",
       "      <th>类型</th>\n",
       "      <th>产地</th>\n",
       "      <th>上映时间</th>\n",
       "      <th>时长</th>\n",
       "      <th>年代</th>\n",
       "      <th>评分</th>\n",
       "      <th>首映地点</th>\n",
       "    </tr>\n",
       "  </thead>\n",
       "  <tbody>\n",
       "    <tr>\n",
       "      <th>38738</th>\n",
       "      <td>NaN</td>\n",
       "      <td>复仇者联盟3</td>\n",
       "      <td>123456.0</td>\n",
       "      <td>剧情/科幻</td>\n",
       "      <td>美国</td>\n",
       "      <td>2017-05-04 00:00:00</td>\n",
       "      <td>142</td>\n",
       "      <td>2017</td>\n",
       "      <td>NaN</td>\n",
       "      <td>美国</td>\n",
       "    </tr>\n",
       "  </tbody>\n",
       "</table>\n",
       "</div>"
      ],
      "text/plain": [
       "       Unnamed: 0      名字      投票人数     类型  产地                 上映时间   时长  \\\n",
       "38738         NaN  复仇者联盟3  123456.0  剧情/科幻  美国  2017-05-04 00:00:00  142   \n",
       "\n",
       "         年代  评分 首映地点  \n",
       "38738  2017 NaN   美国  "
      ]
     },
     "execution_count": 102,
     "metadata": {},
     "output_type": "execute_result"
    }
   ],
   "source": [
    "##判断“评分”为空的\n",
    "df_mv[df_mv['评分'].isnull()].head()"
   ]
  },
  {
   "cell_type": "code",
   "execution_count": 104,
   "metadata": {
    "hidden": true
   },
   "outputs": [
    {
     "data": {
      "text/html": [
       "<div>\n",
       "<style scoped>\n",
       "    .dataframe tbody tr th:only-of-type {\n",
       "        vertical-align: middle;\n",
       "    }\n",
       "\n",
       "    .dataframe tbody tr th {\n",
       "        vertical-align: top;\n",
       "    }\n",
       "\n",
       "    .dataframe thead th {\n",
       "        text-align: right;\n",
       "    }\n",
       "</style>\n",
       "<table border=\"1\" class=\"dataframe\">\n",
       "  <thead>\n",
       "    <tr style=\"text-align: right;\">\n",
       "      <th></th>\n",
       "      <th>Unnamed: 0</th>\n",
       "      <th>名字</th>\n",
       "      <th>投票人数</th>\n",
       "      <th>类型</th>\n",
       "      <th>产地</th>\n",
       "      <th>上映时间</th>\n",
       "      <th>时长</th>\n",
       "      <th>年代</th>\n",
       "      <th>评分</th>\n",
       "      <th>首映地点</th>\n",
       "    </tr>\n",
       "  </thead>\n",
       "  <tbody>\n",
       "    <tr>\n",
       "      <th>38738</th>\n",
       "      <td>NaN</td>\n",
       "      <td>复仇者联盟3</td>\n",
       "      <td>123456.0</td>\n",
       "      <td>剧情/科幻</td>\n",
       "      <td>美国</td>\n",
       "      <td>2017-05-04 00:00:00</td>\n",
       "      <td>142</td>\n",
       "      <td>2017</td>\n",
       "      <td>6.935704</td>\n",
       "      <td>美国</td>\n",
       "    </tr>\n",
       "  </tbody>\n",
       "</table>\n",
       "</div>"
      ],
      "text/plain": [
       "       Unnamed: 0      名字      投票人数     类型  产地                 上映时间   时长  \\\n",
       "38738         NaN  复仇者联盟3  123456.0  剧情/科幻  美国  2017-05-04 00:00:00  142   \n",
       "\n",
       "         年代        评分 首映地点  \n",
       "38738  2017  6.935704   美国  "
      ]
     },
     "execution_count": 104,
     "metadata": {},
     "output_type": "execute_result"
    }
   ],
   "source": [
    "##填充评分，此处填充 均值\n",
    "df_mv['评分'].fillna(np.mean(df_mv['评分']),inplace=True)\n",
    "df_mv[-1:]"
   ]
  },
  {
   "cell_type": "markdown",
   "metadata": {
    "heading_collapsed": true,
    "hidden": true
   },
   "source": [
    "###### 删除缺失值<br>\n",
    "df.dropna(参数)<br><br>\n",
    "subset=['列名']：删除该列为空的行<br>\n",
    "how='all'：删除全为空值的行或列<br>\n",
    "inplace=True：覆盖之前的数据<br>\n",
    "axis=0：选择行或列（=0，删除一行；=1，删除一列），默认为0"
   ]
  },
  {
   "cell_type": "code",
   "execution_count": 107,
   "metadata": {
    "hidden": true
   },
   "outputs": [
    {
     "data": {
      "text/plain": [
       "38739"
      ]
     },
     "execution_count": 107,
     "metadata": {},
     "output_type": "execute_result"
    }
   ],
   "source": [
    "len(df_mv)"
   ]
  },
  {
   "cell_type": "code",
   "execution_count": 108,
   "metadata": {
    "hidden": true
   },
   "outputs": [
    {
     "data": {
      "text/plain": [
       "38735"
      ]
     },
     "execution_count": 108,
     "metadata": {},
     "output_type": "execute_result"
    }
   ],
   "source": [
    "df_mv1=df_mv.dropna()\n",
    "len(df_mv1)"
   ]
  },
  {
   "cell_type": "markdown",
   "metadata": {
    "heading_collapsed": true,
    "hidden": true
   },
   "source": [
    "##### 异常值处理"
   ]
  },
  {
   "cell_type": "markdown",
   "metadata": {
    "hidden": true
   },
   "source": [
    "异常值，即在数据集中存在不合理的值，又称离群点。比如年龄为-1，笔记本电脑重量为1吨等等，都属与异常值的范围。"
   ]
  },
  {
   "cell_type": "markdown",
   "metadata": {
    "hidden": true
   },
   "source": [
    "对于异常值，一般来说数量都会很少，在不影响整体数据分布的情况下，我们直接删除就可以了。"
   ]
  },
  {
   "cell_type": "code",
   "execution_count": 112,
   "metadata": {
    "hidden": true
   },
   "outputs": [
    {
     "data": {
      "text/html": [
       "<div>\n",
       "<style scoped>\n",
       "    .dataframe tbody tr th:only-of-type {\n",
       "        vertical-align: middle;\n",
       "    }\n",
       "\n",
       "    .dataframe tbody tr th {\n",
       "        vertical-align: top;\n",
       "    }\n",
       "\n",
       "    .dataframe thead th {\n",
       "        text-align: right;\n",
       "    }\n",
       "</style>\n",
       "<table border=\"1\" class=\"dataframe\">\n",
       "  <thead>\n",
       "    <tr style=\"text-align: right;\">\n",
       "      <th></th>\n",
       "      <th>Unnamed: 0</th>\n",
       "      <th>名字</th>\n",
       "      <th>投票人数</th>\n",
       "      <th>类型</th>\n",
       "      <th>产地</th>\n",
       "      <th>上映时间</th>\n",
       "      <th>时长</th>\n",
       "      <th>年代</th>\n",
       "      <th>评分</th>\n",
       "      <th>首映地点</th>\n",
       "    </tr>\n",
       "  </thead>\n",
       "  <tbody>\n",
       "    <tr>\n",
       "      <th>19777</th>\n",
       "      <td>19777.0</td>\n",
       "      <td>皇家大贼 皇家大</td>\n",
       "      <td>-80.00</td>\n",
       "      <td>剧情/犯罪</td>\n",
       "      <td>中国香港</td>\n",
       "      <td>1985-05-31 00:00:00</td>\n",
       "      <td>60</td>\n",
       "      <td>1985</td>\n",
       "      <td>6.3</td>\n",
       "      <td>美国</td>\n",
       "    </tr>\n",
       "    <tr>\n",
       "      <th>19786</th>\n",
       "      <td>19786.0</td>\n",
       "      <td>日本的垃圾去中国大陆 にっぽんの“ゴミ” 大陆へ渡る ～中国式リサイクル錬</td>\n",
       "      <td>-80.00</td>\n",
       "      <td>纪录片</td>\n",
       "      <td>日本</td>\n",
       "      <td>1905-06-26 00:00:00</td>\n",
       "      <td>60</td>\n",
       "      <td>2004</td>\n",
       "      <td>7.9</td>\n",
       "      <td>美国</td>\n",
       "    </tr>\n",
       "    <tr>\n",
       "      <th>19791</th>\n",
       "      <td>19791.0</td>\n",
       "      <td>女教师 女教</td>\n",
       "      <td>8.30</td>\n",
       "      <td>剧情/犯罪</td>\n",
       "      <td>日本</td>\n",
       "      <td>1977-10-29 00:00:00</td>\n",
       "      <td>100</td>\n",
       "      <td>1977</td>\n",
       "      <td>6.6</td>\n",
       "      <td>日本</td>\n",
       "    </tr>\n",
       "    <tr>\n",
       "      <th>19797</th>\n",
       "      <td>19797.0</td>\n",
       "      <td>女教徒</td>\n",
       "      <td>-118.00</td>\n",
       "      <td>剧情</td>\n",
       "      <td>法国</td>\n",
       "      <td>1966-05-06 00:00:00</td>\n",
       "      <td>135</td>\n",
       "      <td>1966</td>\n",
       "      <td>7.8</td>\n",
       "      <td>美国</td>\n",
       "    </tr>\n",
       "    <tr>\n",
       "      <th>19804</th>\n",
       "      <td>19804.0</td>\n",
       "      <td>女郎漫游仙境 ドレミファ娘の血は騒</td>\n",
       "      <td>5.90</td>\n",
       "      <td>喜剧/歌舞</td>\n",
       "      <td>日本</td>\n",
       "      <td>1985-11-03 00:00:00</td>\n",
       "      <td>80</td>\n",
       "      <td>1985</td>\n",
       "      <td>6.7</td>\n",
       "      <td>日本</td>\n",
       "    </tr>\n",
       "    <tr>\n",
       "      <th>19820</th>\n",
       "      <td>19820.0</td>\n",
       "      <td>女仆日记</td>\n",
       "      <td>12.87</td>\n",
       "      <td>剧情</td>\n",
       "      <td>法国</td>\n",
       "      <td>2015-04-01 00:00:00</td>\n",
       "      <td>96</td>\n",
       "      <td>2015</td>\n",
       "      <td>5.7</td>\n",
       "      <td>法国</td>\n",
       "    </tr>\n",
       "    <tr>\n",
       "      <th>38055</th>\n",
       "      <td>38055.0</td>\n",
       "      <td>逃出亚卡拉</td>\n",
       "      <td>12.87</td>\n",
       "      <td>剧情/动作/惊悚/犯罪</td>\n",
       "      <td>美国</td>\n",
       "      <td>1979-09-20 00:00:00</td>\n",
       "      <td>112</td>\n",
       "      <td>1979</td>\n",
       "      <td>7.8</td>\n",
       "      <td>美国</td>\n",
       "    </tr>\n",
       "  </tbody>\n",
       "</table>\n",
       "</div>"
      ],
      "text/plain": [
       "       Unnamed: 0                                     名字    投票人数           类型  \\\n",
       "19777     19777.0                               皇家大贼 皇家大  -80.00        剧情/犯罪   \n",
       "19786     19786.0  日本的垃圾去中国大陆 にっぽんの“ゴミ” 大陆へ渡る ～中国式リサイクル錬  -80.00          纪录片   \n",
       "19791     19791.0                                 女教师 女教    8.30        剧情/犯罪   \n",
       "19797     19797.0                                    女教徒 -118.00           剧情   \n",
       "19804     19804.0                      女郎漫游仙境 ドレミファ娘の血は騒    5.90        喜剧/歌舞   \n",
       "19820     19820.0                                   女仆日记   12.87           剧情   \n",
       "38055     38055.0                                  逃出亚卡拉   12.87  剧情/动作/惊悚/犯罪   \n",
       "\n",
       "         产地                 上映时间   时长    年代   评分 首映地点  \n",
       "19777  中国香港  1985-05-31 00:00:00   60  1985  6.3   美国  \n",
       "19786    日本  1905-06-26 00:00:00   60  2004  7.9   美国  \n",
       "19791    日本  1977-10-29 00:00:00  100  1977  6.6   日本  \n",
       "19797    法国  1966-05-06 00:00:00  135  1966  7.8   美国  \n",
       "19804    日本  1985-11-03 00:00:00   80  1985  6.7   日本  \n",
       "19820    法国  2015-04-01 00:00:00   96  2015  5.7   法国  \n",
       "38055    美国  1979-09-20 00:00:00  112  1979  7.8   美国  "
      ]
     },
     "execution_count": 112,
     "metadata": {},
     "output_type": "execute_result"
    }
   ],
   "source": [
    "df_mv[(df_mv.投票人数<0)|(df_mv['投票人数']%1!=0)]"
   ]
  },
  {
   "cell_type": "markdown",
   "metadata": {
    "heading_collapsed": true,
    "hidden": true
   },
   "source": [
    "#### 3.1.4 数据保存"
   ]
  },
  {
   "cell_type": "markdown",
   "metadata": {
    "hidden": true
   },
   "source": [
    "数据处理之后，然后将数据重新保存到原文件"
   ]
  },
  {
   "cell_type": "code",
   "execution_count": 113,
   "metadata": {
    "hidden": true
   },
   "outputs": [],
   "source": [
    "df_mv.to_excel('movie_data.xlsx')"
   ]
  },
  {
   "cell_type": "markdown",
   "metadata": {
    "heading_collapsed": true
   },
   "source": [
    "### 3.2 Pandas操作"
   ]
  },
  {
   "cell_type": "code",
   "execution_count": 1,
   "metadata": {
    "hidden": true
   },
   "outputs": [],
   "source": [
    "import pandas as pd\n",
    "import numpy as np"
   ]
  },
  {
   "cell_type": "markdown",
   "metadata": {
    "hidden": true
   },
   "source": [
    "以豆瓣电影为例"
   ]
  },
  {
   "cell_type": "code",
   "execution_count": 15,
   "metadata": {
    "hidden": true,
    "scrolled": false
   },
   "outputs": [
    {
     "data": {
      "text/html": [
       "<div>\n",
       "<style scoped>\n",
       "    .dataframe tbody tr th:only-of-type {\n",
       "        vertical-align: middle;\n",
       "    }\n",
       "\n",
       "    .dataframe tbody tr th {\n",
       "        vertical-align: top;\n",
       "    }\n",
       "\n",
       "    .dataframe thead th {\n",
       "        text-align: right;\n",
       "    }\n",
       "</style>\n",
       "<table border=\"1\" class=\"dataframe\">\n",
       "  <thead>\n",
       "    <tr style=\"text-align: right;\">\n",
       "      <th></th>\n",
       "      <th>名字</th>\n",
       "      <th>投票人数</th>\n",
       "      <th>类型</th>\n",
       "      <th>产地</th>\n",
       "      <th>上映时间</th>\n",
       "      <th>时长</th>\n",
       "      <th>年代</th>\n",
       "      <th>评分</th>\n",
       "      <th>首映地点</th>\n",
       "    </tr>\n",
       "  </thead>\n",
       "  <tbody>\n",
       "    <tr>\n",
       "      <th>0</th>\n",
       "      <td>肖申克的救赎</td>\n",
       "      <td>692795.0</td>\n",
       "      <td>剧情/犯罪</td>\n",
       "      <td>美国</td>\n",
       "      <td>1994-09-10 00:00:00</td>\n",
       "      <td>142</td>\n",
       "      <td>1994</td>\n",
       "      <td>9.6</td>\n",
       "      <td>多伦多电影节</td>\n",
       "    </tr>\n",
       "    <tr>\n",
       "      <th>1</th>\n",
       "      <td>控方证人</td>\n",
       "      <td>42995.0</td>\n",
       "      <td>剧情/悬疑/犯罪</td>\n",
       "      <td>美国</td>\n",
       "      <td>1957-12-17 00:00:00</td>\n",
       "      <td>116</td>\n",
       "      <td>1957</td>\n",
       "      <td>9.5</td>\n",
       "      <td>美国</td>\n",
       "    </tr>\n",
       "    <tr>\n",
       "      <th>2</th>\n",
       "      <td>美丽人生</td>\n",
       "      <td>327855.0</td>\n",
       "      <td>剧情/喜剧/爱情</td>\n",
       "      <td>意大利</td>\n",
       "      <td>1997-12-20 00:00:00</td>\n",
       "      <td>116</td>\n",
       "      <td>1997</td>\n",
       "      <td>9.5</td>\n",
       "      <td>意大利</td>\n",
       "    </tr>\n",
       "    <tr>\n",
       "      <th>3</th>\n",
       "      <td>阿甘正传</td>\n",
       "      <td>580897.0</td>\n",
       "      <td>剧情/爱情</td>\n",
       "      <td>美国</td>\n",
       "      <td>1994-06-23 00:00:00</td>\n",
       "      <td>142</td>\n",
       "      <td>1994</td>\n",
       "      <td>9.4</td>\n",
       "      <td>洛杉矶首映</td>\n",
       "    </tr>\n",
       "    <tr>\n",
       "      <th>4</th>\n",
       "      <td>霸王别姬</td>\n",
       "      <td>478523.0</td>\n",
       "      <td>剧情/爱情/同性</td>\n",
       "      <td>中国大陆</td>\n",
       "      <td>1993-01-01 00:00:00</td>\n",
       "      <td>171</td>\n",
       "      <td>1993</td>\n",
       "      <td>9.4</td>\n",
       "      <td>香港</td>\n",
       "    </tr>\n",
       "  </tbody>\n",
       "</table>\n",
       "</div>"
      ],
      "text/plain": [
       "       名字      投票人数        类型    产地                 上映时间   时长    年代   评分  \\\n",
       "0  肖申克的救赎  692795.0     剧情/犯罪    美国  1994-09-10 00:00:00  142  1994  9.6   \n",
       "1    控方证人   42995.0  剧情/悬疑/犯罪    美国  1957-12-17 00:00:00  116  1957  9.5   \n",
       "2   美丽人生   327855.0  剧情/喜剧/爱情   意大利  1997-12-20 00:00:00  116  1997  9.5   \n",
       "3    阿甘正传  580897.0     剧情/爱情    美国  1994-06-23 00:00:00  142  1994  9.4   \n",
       "4    霸王别姬  478523.0  剧情/爱情/同性  中国大陆  1993-01-01 00:00:00  171  1993  9.4   \n",
       "\n",
       "     首映地点  \n",
       "0  多伦多电影节  \n",
       "1      美国  \n",
       "2     意大利  \n",
       "3   洛杉矶首映  \n",
       "4      香港  "
      ]
     },
     "execution_count": 15,
     "metadata": {},
     "output_type": "execute_result"
    }
   ],
   "source": [
    "df=pd.read_excel('./movie_data.xlsx')\n",
    "df=df.drop('Unnamed: 0',axis=1)\n",
    "df.head()"
   ]
  },
  {
   "cell_type": "markdown",
   "metadata": {
    "heading_collapsed": true,
    "hidden": true
   },
   "source": [
    "#### 3.2.1 数据格式转换"
   ]
  },
  {
   "cell_type": "markdown",
   "metadata": {
    "hidden": true
   },
   "source": [
    "查看格式"
   ]
  },
  {
   "cell_type": "code",
   "execution_count": 16,
   "metadata": {
    "hidden": true
   },
   "outputs": [
    {
     "data": {
      "text/plain": [
       "dtype('float64')"
      ]
     },
     "execution_count": 16,
     "metadata": {},
     "output_type": "execute_result"
    }
   ],
   "source": [
    "df['投票人数'].dtype"
   ]
  },
  {
   "cell_type": "markdown",
   "metadata": {
    "hidden": true
   },
   "source": [
    "格式转化"
   ]
  },
  {
   "cell_type": "code",
   "execution_count": 17,
   "metadata": {
    "hidden": true
   },
   "outputs": [
    {
     "data": {
      "text/plain": [
       "dtype('int32')"
      ]
     },
     "execution_count": 17,
     "metadata": {},
     "output_type": "execute_result"
    }
   ],
   "source": [
    "df['投票人数']=df['投票人数'].astype('int')\n",
    "df['投票人数'].dtype"
   ]
  },
  {
   "cell_type": "markdown",
   "metadata": {
    "hidden": true
   },
   "source": [
    "将年代格式转化为整型"
   ]
  },
  {
   "cell_type": "code",
   "execution_count": 22,
   "metadata": {
    "hidden": true
   },
   "outputs": [
    {
     "data": {
      "text/plain": [
       "dtype('O')"
      ]
     },
     "execution_count": 22,
     "metadata": {},
     "output_type": "execute_result"
    }
   ],
   "source": [
    "df['年代'].dtype"
   ]
  },
  {
   "cell_type": "code",
   "execution_count": 23,
   "metadata": {
    "hidden": true,
    "scrolled": true
   },
   "outputs": [
    {
     "ename": "ValueError",
     "evalue": "invalid literal for int() with base 10: '2008\\u200e'",
     "output_type": "error",
     "traceback": [
      "\u001b[1;31m---------------------------------------------------------------------------\u001b[0m",
      "\u001b[1;31mValueError\u001b[0m                                Traceback (most recent call last)",
      "\u001b[1;32m<ipython-input-23-7db608df647a>\u001b[0m in \u001b[0;36m<module>\u001b[1;34m\u001b[0m\n\u001b[1;32m----> 1\u001b[1;33m \u001b[0mdf\u001b[0m\u001b[1;33m[\u001b[0m\u001b[1;34m'年代'\u001b[0m\u001b[1;33m]\u001b[0m\u001b[1;33m=\u001b[0m\u001b[0mdf\u001b[0m\u001b[1;33m[\u001b[0m\u001b[1;34m'年代'\u001b[0m\u001b[1;33m]\u001b[0m\u001b[1;33m.\u001b[0m\u001b[0mastype\u001b[0m\u001b[1;33m(\u001b[0m\u001b[1;34m'int'\u001b[0m\u001b[1;33m)\u001b[0m\u001b[1;33m\u001b[0m\u001b[1;33m\u001b[0m\u001b[0m\n\u001b[0m",
      "\u001b[1;32mE:\\soft\\anaconda\\anaconda3\\lib\\site-packages\\pandas\\core\\generic.py\u001b[0m in \u001b[0;36mastype\u001b[1;34m(self, dtype, copy, errors)\u001b[0m\n\u001b[0;32m   5544\u001b[0m         \u001b[1;32melse\u001b[0m\u001b[1;33m:\u001b[0m\u001b[1;33m\u001b[0m\u001b[1;33m\u001b[0m\u001b[0m\n\u001b[0;32m   5545\u001b[0m             \u001b[1;31m# else, only a single dtype is given\u001b[0m\u001b[1;33m\u001b[0m\u001b[1;33m\u001b[0m\u001b[1;33m\u001b[0m\u001b[0m\n\u001b[1;32m-> 5546\u001b[1;33m             \u001b[0mnew_data\u001b[0m \u001b[1;33m=\u001b[0m \u001b[0mself\u001b[0m\u001b[1;33m.\u001b[0m\u001b[0m_mgr\u001b[0m\u001b[1;33m.\u001b[0m\u001b[0mastype\u001b[0m\u001b[1;33m(\u001b[0m\u001b[0mdtype\u001b[0m\u001b[1;33m=\u001b[0m\u001b[0mdtype\u001b[0m\u001b[1;33m,\u001b[0m \u001b[0mcopy\u001b[0m\u001b[1;33m=\u001b[0m\u001b[0mcopy\u001b[0m\u001b[1;33m,\u001b[0m \u001b[0merrors\u001b[0m\u001b[1;33m=\u001b[0m\u001b[0merrors\u001b[0m\u001b[1;33m,\u001b[0m\u001b[1;33m)\u001b[0m\u001b[1;33m\u001b[0m\u001b[1;33m\u001b[0m\u001b[0m\n\u001b[0m\u001b[0;32m   5547\u001b[0m             \u001b[1;32mreturn\u001b[0m \u001b[0mself\u001b[0m\u001b[1;33m.\u001b[0m\u001b[0m_constructor\u001b[0m\u001b[1;33m(\u001b[0m\u001b[0mnew_data\u001b[0m\u001b[1;33m)\u001b[0m\u001b[1;33m.\u001b[0m\u001b[0m__finalize__\u001b[0m\u001b[1;33m(\u001b[0m\u001b[0mself\u001b[0m\u001b[1;33m,\u001b[0m \u001b[0mmethod\u001b[0m\u001b[1;33m=\u001b[0m\u001b[1;34m\"astype\"\u001b[0m\u001b[1;33m)\u001b[0m\u001b[1;33m\u001b[0m\u001b[1;33m\u001b[0m\u001b[0m\n\u001b[0;32m   5548\u001b[0m \u001b[1;33m\u001b[0m\u001b[0m\n",
      "\u001b[1;32mE:\\soft\\anaconda\\anaconda3\\lib\\site-packages\\pandas\\core\\internals\\managers.py\u001b[0m in \u001b[0;36mastype\u001b[1;34m(self, dtype, copy, errors)\u001b[0m\n\u001b[0;32m    593\u001b[0m         \u001b[0mself\u001b[0m\u001b[1;33m,\u001b[0m \u001b[0mdtype\u001b[0m\u001b[1;33m,\u001b[0m \u001b[0mcopy\u001b[0m\u001b[1;33m:\u001b[0m \u001b[0mbool\u001b[0m \u001b[1;33m=\u001b[0m \u001b[1;32mFalse\u001b[0m\u001b[1;33m,\u001b[0m \u001b[0merrors\u001b[0m\u001b[1;33m:\u001b[0m \u001b[0mstr\u001b[0m \u001b[1;33m=\u001b[0m \u001b[1;34m\"raise\"\u001b[0m\u001b[1;33m\u001b[0m\u001b[1;33m\u001b[0m\u001b[0m\n\u001b[0;32m    594\u001b[0m     ) -> \"BlockManager\":\n\u001b[1;32m--> 595\u001b[1;33m         \u001b[1;32mreturn\u001b[0m \u001b[0mself\u001b[0m\u001b[1;33m.\u001b[0m\u001b[0mapply\u001b[0m\u001b[1;33m(\u001b[0m\u001b[1;34m\"astype\"\u001b[0m\u001b[1;33m,\u001b[0m \u001b[0mdtype\u001b[0m\u001b[1;33m=\u001b[0m\u001b[0mdtype\u001b[0m\u001b[1;33m,\u001b[0m \u001b[0mcopy\u001b[0m\u001b[1;33m=\u001b[0m\u001b[0mcopy\u001b[0m\u001b[1;33m,\u001b[0m \u001b[0merrors\u001b[0m\u001b[1;33m=\u001b[0m\u001b[0merrors\u001b[0m\u001b[1;33m)\u001b[0m\u001b[1;33m\u001b[0m\u001b[1;33m\u001b[0m\u001b[0m\n\u001b[0m\u001b[0;32m    596\u001b[0m \u001b[1;33m\u001b[0m\u001b[0m\n\u001b[0;32m    597\u001b[0m     def convert(\n",
      "\u001b[1;32mE:\\soft\\anaconda\\anaconda3\\lib\\site-packages\\pandas\\core\\internals\\managers.py\u001b[0m in \u001b[0;36mapply\u001b[1;34m(self, f, align_keys, **kwargs)\u001b[0m\n\u001b[0;32m    404\u001b[0m                 \u001b[0mapplied\u001b[0m \u001b[1;33m=\u001b[0m \u001b[0mb\u001b[0m\u001b[1;33m.\u001b[0m\u001b[0mapply\u001b[0m\u001b[1;33m(\u001b[0m\u001b[0mf\u001b[0m\u001b[1;33m,\u001b[0m \u001b[1;33m**\u001b[0m\u001b[0mkwargs\u001b[0m\u001b[1;33m)\u001b[0m\u001b[1;33m\u001b[0m\u001b[1;33m\u001b[0m\u001b[0m\n\u001b[0;32m    405\u001b[0m             \u001b[1;32melse\u001b[0m\u001b[1;33m:\u001b[0m\u001b[1;33m\u001b[0m\u001b[1;33m\u001b[0m\u001b[0m\n\u001b[1;32m--> 406\u001b[1;33m                 \u001b[0mapplied\u001b[0m \u001b[1;33m=\u001b[0m \u001b[0mgetattr\u001b[0m\u001b[1;33m(\u001b[0m\u001b[0mb\u001b[0m\u001b[1;33m,\u001b[0m \u001b[0mf\u001b[0m\u001b[1;33m)\u001b[0m\u001b[1;33m(\u001b[0m\u001b[1;33m**\u001b[0m\u001b[0mkwargs\u001b[0m\u001b[1;33m)\u001b[0m\u001b[1;33m\u001b[0m\u001b[1;33m\u001b[0m\u001b[0m\n\u001b[0m\u001b[0;32m    407\u001b[0m             \u001b[0mresult_blocks\u001b[0m \u001b[1;33m=\u001b[0m \u001b[0m_extend_blocks\u001b[0m\u001b[1;33m(\u001b[0m\u001b[0mapplied\u001b[0m\u001b[1;33m,\u001b[0m \u001b[0mresult_blocks\u001b[0m\u001b[1;33m)\u001b[0m\u001b[1;33m\u001b[0m\u001b[1;33m\u001b[0m\u001b[0m\n\u001b[0;32m    408\u001b[0m \u001b[1;33m\u001b[0m\u001b[0m\n",
      "\u001b[1;32mE:\\soft\\anaconda\\anaconda3\\lib\\site-packages\\pandas\\core\\internals\\blocks.py\u001b[0m in \u001b[0;36mastype\u001b[1;34m(self, dtype, copy, errors)\u001b[0m\n\u001b[0;32m    593\u001b[0m             \u001b[0mvals1d\u001b[0m \u001b[1;33m=\u001b[0m \u001b[0mvalues\u001b[0m\u001b[1;33m.\u001b[0m\u001b[0mravel\u001b[0m\u001b[1;33m(\u001b[0m\u001b[1;33m)\u001b[0m\u001b[1;33m\u001b[0m\u001b[1;33m\u001b[0m\u001b[0m\n\u001b[0;32m    594\u001b[0m             \u001b[1;32mtry\u001b[0m\u001b[1;33m:\u001b[0m\u001b[1;33m\u001b[0m\u001b[1;33m\u001b[0m\u001b[0m\n\u001b[1;32m--> 595\u001b[1;33m                 \u001b[0mvalues\u001b[0m \u001b[1;33m=\u001b[0m \u001b[0mastype_nansafe\u001b[0m\u001b[1;33m(\u001b[0m\u001b[0mvals1d\u001b[0m\u001b[1;33m,\u001b[0m \u001b[0mdtype\u001b[0m\u001b[1;33m,\u001b[0m \u001b[0mcopy\u001b[0m\u001b[1;33m=\u001b[0m\u001b[1;32mTrue\u001b[0m\u001b[1;33m)\u001b[0m\u001b[1;33m\u001b[0m\u001b[1;33m\u001b[0m\u001b[0m\n\u001b[0m\u001b[0;32m    596\u001b[0m             \u001b[1;32mexcept\u001b[0m \u001b[1;33m(\u001b[0m\u001b[0mValueError\u001b[0m\u001b[1;33m,\u001b[0m \u001b[0mTypeError\u001b[0m\u001b[1;33m)\u001b[0m\u001b[1;33m:\u001b[0m\u001b[1;33m\u001b[0m\u001b[1;33m\u001b[0m\u001b[0m\n\u001b[0;32m    597\u001b[0m                 \u001b[1;31m# e.g. astype_nansafe can fail on object-dtype of strings\u001b[0m\u001b[1;33m\u001b[0m\u001b[1;33m\u001b[0m\u001b[1;33m\u001b[0m\u001b[0m\n",
      "\u001b[1;32mE:\\soft\\anaconda\\anaconda3\\lib\\site-packages\\pandas\\core\\dtypes\\cast.py\u001b[0m in \u001b[0;36mastype_nansafe\u001b[1;34m(arr, dtype, copy, skipna)\u001b[0m\n\u001b[0;32m    970\u001b[0m         \u001b[1;31m# work around NumPy brokenness, #1987\u001b[0m\u001b[1;33m\u001b[0m\u001b[1;33m\u001b[0m\u001b[1;33m\u001b[0m\u001b[0m\n\u001b[0;32m    971\u001b[0m         \u001b[1;32mif\u001b[0m \u001b[0mnp\u001b[0m\u001b[1;33m.\u001b[0m\u001b[0missubdtype\u001b[0m\u001b[1;33m(\u001b[0m\u001b[0mdtype\u001b[0m\u001b[1;33m.\u001b[0m\u001b[0mtype\u001b[0m\u001b[1;33m,\u001b[0m \u001b[0mnp\u001b[0m\u001b[1;33m.\u001b[0m\u001b[0minteger\u001b[0m\u001b[1;33m)\u001b[0m\u001b[1;33m:\u001b[0m\u001b[1;33m\u001b[0m\u001b[1;33m\u001b[0m\u001b[0m\n\u001b[1;32m--> 972\u001b[1;33m             \u001b[1;32mreturn\u001b[0m \u001b[0mlib\u001b[0m\u001b[1;33m.\u001b[0m\u001b[0mastype_intsafe\u001b[0m\u001b[1;33m(\u001b[0m\u001b[0marr\u001b[0m\u001b[1;33m.\u001b[0m\u001b[0mravel\u001b[0m\u001b[1;33m(\u001b[0m\u001b[1;33m)\u001b[0m\u001b[1;33m,\u001b[0m \u001b[0mdtype\u001b[0m\u001b[1;33m)\u001b[0m\u001b[1;33m.\u001b[0m\u001b[0mreshape\u001b[0m\u001b[1;33m(\u001b[0m\u001b[0marr\u001b[0m\u001b[1;33m.\u001b[0m\u001b[0mshape\u001b[0m\u001b[1;33m)\u001b[0m\u001b[1;33m\u001b[0m\u001b[1;33m\u001b[0m\u001b[0m\n\u001b[0m\u001b[0;32m    973\u001b[0m \u001b[1;33m\u001b[0m\u001b[0m\n\u001b[0;32m    974\u001b[0m         \u001b[1;31m# if we have a datetime/timedelta array of objects\u001b[0m\u001b[1;33m\u001b[0m\u001b[1;33m\u001b[0m\u001b[1;33m\u001b[0m\u001b[0m\n",
      "\u001b[1;32mpandas\\_libs\\lib.pyx\u001b[0m in \u001b[0;36mpandas._libs.lib.astype_intsafe\u001b[1;34m()\u001b[0m\n",
      "\u001b[1;31mValueError\u001b[0m: invalid literal for int() with base 10: '2008\\u200e'"
     ]
    }
   ],
   "source": [
    "df['年代']=df['年代'].astype('int')"
   ]
  },
  {
   "cell_type": "code",
   "execution_count": 25,
   "metadata": {
    "hidden": true
   },
   "outputs": [
    {
     "data": {
      "text/html": [
       "<div>\n",
       "<style scoped>\n",
       "    .dataframe tbody tr th:only-of-type {\n",
       "        vertical-align: middle;\n",
       "    }\n",
       "\n",
       "    .dataframe tbody tr th {\n",
       "        vertical-align: top;\n",
       "    }\n",
       "\n",
       "    .dataframe thead th {\n",
       "        text-align: right;\n",
       "    }\n",
       "</style>\n",
       "<table border=\"1\" class=\"dataframe\">\n",
       "  <thead>\n",
       "    <tr style=\"text-align: right;\">\n",
       "      <th></th>\n",
       "      <th>名字</th>\n",
       "      <th>投票人数</th>\n",
       "      <th>类型</th>\n",
       "      <th>产地</th>\n",
       "      <th>上映时间</th>\n",
       "      <th>时长</th>\n",
       "      <th>年代</th>\n",
       "      <th>评分</th>\n",
       "      <th>首映地点</th>\n",
       "    </tr>\n",
       "  </thead>\n",
       "  <tbody>\n",
       "    <tr>\n",
       "      <th>15205</th>\n",
       "      <td>狂蟒惊魂</td>\n",
       "      <td>544</td>\n",
       "      <td>恐怖</td>\n",
       "      <td>中国大陆</td>\n",
       "      <td>2008-04-08 00:00:00</td>\n",
       "      <td>93</td>\n",
       "      <td>2008‎</td>\n",
       "      <td>2.7</td>\n",
       "      <td>美国</td>\n",
       "    </tr>\n",
       "  </tbody>\n",
       "</table>\n",
       "</div>"
      ],
      "text/plain": [
       "         名字  投票人数  类型    产地                 上映时间  时长     年代   评分 首映地点\n",
       "15205  狂蟒惊魂   544  恐怖  中国大陆  2008-04-08 00:00:00  93  2008‎  2.7   美国"
      ]
     },
     "execution_count": 25,
     "metadata": {},
     "output_type": "execute_result"
    }
   ],
   "source": [
    "##年代中有异常值 '2008\\u200e'，无法正常转化\n",
    "df[df.年代=='2008\\u200e']"
   ]
  },
  {
   "cell_type": "code",
   "execution_count": 26,
   "metadata": {
    "hidden": true
   },
   "outputs": [
    {
     "data": {
      "text/plain": [
       "array(['2008\\u200e'], dtype=object)"
      ]
     },
     "execution_count": 26,
     "metadata": {},
     "output_type": "execute_result"
    }
   ],
   "source": [
    "df[df.年代=='2008\\u200e']['年代'].values"
   ]
  },
  {
   "cell_type": "code",
   "execution_count": 29,
   "metadata": {
    "hidden": true
   },
   "outputs": [
    {
     "data": {
      "text/plain": [
       "名字                     狂蟒惊魂\n",
       "投票人数                    544\n",
       "类型                       恐怖\n",
       "产地                     中国大陆\n",
       "上映时间    2008-04-08 00:00:00\n",
       "时长                       93\n",
       "年代                     2008\n",
       "评分                      2.7\n",
       "首映地点                     美国\n",
       "Name: 15205, dtype: object"
      ]
     },
     "execution_count": 29,
     "metadata": {},
     "output_type": "execute_result"
    }
   ],
   "source": [
    "df.loc[15205,'年代']=2008\n",
    "df.loc[15205]"
   ]
  },
  {
   "cell_type": "code",
   "execution_count": 31,
   "metadata": {
    "hidden": true
   },
   "outputs": [
    {
     "data": {
      "text/plain": [
       "0    1994\n",
       "1    1957\n",
       "2    1997\n",
       "3    1994\n",
       "4    1993\n",
       "Name: 年代, dtype: int32"
      ]
     },
     "execution_count": 31,
     "metadata": {},
     "output_type": "execute_result"
    }
   ],
   "source": [
    "df['年代']=df['年代'].astype('int')\n",
    "df['年代'][:5]"
   ]
  },
  {
   "cell_type": "markdown",
   "metadata": {
    "hidden": true
   },
   "source": [
    "将时长转化为整数格式"
   ]
  },
  {
   "cell_type": "code",
   "execution_count": 32,
   "metadata": {
    "hidden": true
   },
   "outputs": [
    {
     "ename": "ValueError",
     "evalue": "invalid literal for int() with base 10: '8U'",
     "output_type": "error",
     "traceback": [
      "\u001b[1;31m---------------------------------------------------------------------------\u001b[0m",
      "\u001b[1;31mValueError\u001b[0m                                Traceback (most recent call last)",
      "\u001b[1;32m<ipython-input-32-83bf9b6fa2b3>\u001b[0m in \u001b[0;36m<module>\u001b[1;34m\u001b[0m\n\u001b[1;32m----> 1\u001b[1;33m \u001b[0mdf\u001b[0m\u001b[1;33m[\u001b[0m\u001b[1;34m'时长'\u001b[0m\u001b[1;33m]\u001b[0m\u001b[1;33m=\u001b[0m\u001b[0mdf\u001b[0m\u001b[1;33m[\u001b[0m\u001b[1;34m'时长'\u001b[0m\u001b[1;33m]\u001b[0m\u001b[1;33m.\u001b[0m\u001b[0mastype\u001b[0m\u001b[1;33m(\u001b[0m\u001b[1;34m'int'\u001b[0m\u001b[1;33m)\u001b[0m\u001b[1;33m\u001b[0m\u001b[1;33m\u001b[0m\u001b[0m\n\u001b[0m",
      "\u001b[1;32mE:\\soft\\anaconda\\anaconda3\\lib\\site-packages\\pandas\\core\\generic.py\u001b[0m in \u001b[0;36mastype\u001b[1;34m(self, dtype, copy, errors)\u001b[0m\n\u001b[0;32m   5544\u001b[0m         \u001b[1;32melse\u001b[0m\u001b[1;33m:\u001b[0m\u001b[1;33m\u001b[0m\u001b[1;33m\u001b[0m\u001b[0m\n\u001b[0;32m   5545\u001b[0m             \u001b[1;31m# else, only a single dtype is given\u001b[0m\u001b[1;33m\u001b[0m\u001b[1;33m\u001b[0m\u001b[1;33m\u001b[0m\u001b[0m\n\u001b[1;32m-> 5546\u001b[1;33m             \u001b[0mnew_data\u001b[0m \u001b[1;33m=\u001b[0m \u001b[0mself\u001b[0m\u001b[1;33m.\u001b[0m\u001b[0m_mgr\u001b[0m\u001b[1;33m.\u001b[0m\u001b[0mastype\u001b[0m\u001b[1;33m(\u001b[0m\u001b[0mdtype\u001b[0m\u001b[1;33m=\u001b[0m\u001b[0mdtype\u001b[0m\u001b[1;33m,\u001b[0m \u001b[0mcopy\u001b[0m\u001b[1;33m=\u001b[0m\u001b[0mcopy\u001b[0m\u001b[1;33m,\u001b[0m \u001b[0merrors\u001b[0m\u001b[1;33m=\u001b[0m\u001b[0merrors\u001b[0m\u001b[1;33m,\u001b[0m\u001b[1;33m)\u001b[0m\u001b[1;33m\u001b[0m\u001b[1;33m\u001b[0m\u001b[0m\n\u001b[0m\u001b[0;32m   5547\u001b[0m             \u001b[1;32mreturn\u001b[0m \u001b[0mself\u001b[0m\u001b[1;33m.\u001b[0m\u001b[0m_constructor\u001b[0m\u001b[1;33m(\u001b[0m\u001b[0mnew_data\u001b[0m\u001b[1;33m)\u001b[0m\u001b[1;33m.\u001b[0m\u001b[0m__finalize__\u001b[0m\u001b[1;33m(\u001b[0m\u001b[0mself\u001b[0m\u001b[1;33m,\u001b[0m \u001b[0mmethod\u001b[0m\u001b[1;33m=\u001b[0m\u001b[1;34m\"astype\"\u001b[0m\u001b[1;33m)\u001b[0m\u001b[1;33m\u001b[0m\u001b[1;33m\u001b[0m\u001b[0m\n\u001b[0;32m   5548\u001b[0m \u001b[1;33m\u001b[0m\u001b[0m\n",
      "\u001b[1;32mE:\\soft\\anaconda\\anaconda3\\lib\\site-packages\\pandas\\core\\internals\\managers.py\u001b[0m in \u001b[0;36mastype\u001b[1;34m(self, dtype, copy, errors)\u001b[0m\n\u001b[0;32m    593\u001b[0m         \u001b[0mself\u001b[0m\u001b[1;33m,\u001b[0m \u001b[0mdtype\u001b[0m\u001b[1;33m,\u001b[0m \u001b[0mcopy\u001b[0m\u001b[1;33m:\u001b[0m \u001b[0mbool\u001b[0m \u001b[1;33m=\u001b[0m \u001b[1;32mFalse\u001b[0m\u001b[1;33m,\u001b[0m \u001b[0merrors\u001b[0m\u001b[1;33m:\u001b[0m \u001b[0mstr\u001b[0m \u001b[1;33m=\u001b[0m \u001b[1;34m\"raise\"\u001b[0m\u001b[1;33m\u001b[0m\u001b[1;33m\u001b[0m\u001b[0m\n\u001b[0;32m    594\u001b[0m     ) -> \"BlockManager\":\n\u001b[1;32m--> 595\u001b[1;33m         \u001b[1;32mreturn\u001b[0m \u001b[0mself\u001b[0m\u001b[1;33m.\u001b[0m\u001b[0mapply\u001b[0m\u001b[1;33m(\u001b[0m\u001b[1;34m\"astype\"\u001b[0m\u001b[1;33m,\u001b[0m \u001b[0mdtype\u001b[0m\u001b[1;33m=\u001b[0m\u001b[0mdtype\u001b[0m\u001b[1;33m,\u001b[0m \u001b[0mcopy\u001b[0m\u001b[1;33m=\u001b[0m\u001b[0mcopy\u001b[0m\u001b[1;33m,\u001b[0m \u001b[0merrors\u001b[0m\u001b[1;33m=\u001b[0m\u001b[0merrors\u001b[0m\u001b[1;33m)\u001b[0m\u001b[1;33m\u001b[0m\u001b[1;33m\u001b[0m\u001b[0m\n\u001b[0m\u001b[0;32m    596\u001b[0m \u001b[1;33m\u001b[0m\u001b[0m\n\u001b[0;32m    597\u001b[0m     def convert(\n",
      "\u001b[1;32mE:\\soft\\anaconda\\anaconda3\\lib\\site-packages\\pandas\\core\\internals\\managers.py\u001b[0m in \u001b[0;36mapply\u001b[1;34m(self, f, align_keys, **kwargs)\u001b[0m\n\u001b[0;32m    404\u001b[0m                 \u001b[0mapplied\u001b[0m \u001b[1;33m=\u001b[0m \u001b[0mb\u001b[0m\u001b[1;33m.\u001b[0m\u001b[0mapply\u001b[0m\u001b[1;33m(\u001b[0m\u001b[0mf\u001b[0m\u001b[1;33m,\u001b[0m \u001b[1;33m**\u001b[0m\u001b[0mkwargs\u001b[0m\u001b[1;33m)\u001b[0m\u001b[1;33m\u001b[0m\u001b[1;33m\u001b[0m\u001b[0m\n\u001b[0;32m    405\u001b[0m             \u001b[1;32melse\u001b[0m\u001b[1;33m:\u001b[0m\u001b[1;33m\u001b[0m\u001b[1;33m\u001b[0m\u001b[0m\n\u001b[1;32m--> 406\u001b[1;33m                 \u001b[0mapplied\u001b[0m \u001b[1;33m=\u001b[0m \u001b[0mgetattr\u001b[0m\u001b[1;33m(\u001b[0m\u001b[0mb\u001b[0m\u001b[1;33m,\u001b[0m \u001b[0mf\u001b[0m\u001b[1;33m)\u001b[0m\u001b[1;33m(\u001b[0m\u001b[1;33m**\u001b[0m\u001b[0mkwargs\u001b[0m\u001b[1;33m)\u001b[0m\u001b[1;33m\u001b[0m\u001b[1;33m\u001b[0m\u001b[0m\n\u001b[0m\u001b[0;32m    407\u001b[0m             \u001b[0mresult_blocks\u001b[0m \u001b[1;33m=\u001b[0m \u001b[0m_extend_blocks\u001b[0m\u001b[1;33m(\u001b[0m\u001b[0mapplied\u001b[0m\u001b[1;33m,\u001b[0m \u001b[0mresult_blocks\u001b[0m\u001b[1;33m)\u001b[0m\u001b[1;33m\u001b[0m\u001b[1;33m\u001b[0m\u001b[0m\n\u001b[0;32m    408\u001b[0m \u001b[1;33m\u001b[0m\u001b[0m\n",
      "\u001b[1;32mE:\\soft\\anaconda\\anaconda3\\lib\\site-packages\\pandas\\core\\internals\\blocks.py\u001b[0m in \u001b[0;36mastype\u001b[1;34m(self, dtype, copy, errors)\u001b[0m\n\u001b[0;32m    593\u001b[0m             \u001b[0mvals1d\u001b[0m \u001b[1;33m=\u001b[0m \u001b[0mvalues\u001b[0m\u001b[1;33m.\u001b[0m\u001b[0mravel\u001b[0m\u001b[1;33m(\u001b[0m\u001b[1;33m)\u001b[0m\u001b[1;33m\u001b[0m\u001b[1;33m\u001b[0m\u001b[0m\n\u001b[0;32m    594\u001b[0m             \u001b[1;32mtry\u001b[0m\u001b[1;33m:\u001b[0m\u001b[1;33m\u001b[0m\u001b[1;33m\u001b[0m\u001b[0m\n\u001b[1;32m--> 595\u001b[1;33m                 \u001b[0mvalues\u001b[0m \u001b[1;33m=\u001b[0m \u001b[0mastype_nansafe\u001b[0m\u001b[1;33m(\u001b[0m\u001b[0mvals1d\u001b[0m\u001b[1;33m,\u001b[0m \u001b[0mdtype\u001b[0m\u001b[1;33m,\u001b[0m \u001b[0mcopy\u001b[0m\u001b[1;33m=\u001b[0m\u001b[1;32mTrue\u001b[0m\u001b[1;33m)\u001b[0m\u001b[1;33m\u001b[0m\u001b[1;33m\u001b[0m\u001b[0m\n\u001b[0m\u001b[0;32m    596\u001b[0m             \u001b[1;32mexcept\u001b[0m \u001b[1;33m(\u001b[0m\u001b[0mValueError\u001b[0m\u001b[1;33m,\u001b[0m \u001b[0mTypeError\u001b[0m\u001b[1;33m)\u001b[0m\u001b[1;33m:\u001b[0m\u001b[1;33m\u001b[0m\u001b[1;33m\u001b[0m\u001b[0m\n\u001b[0;32m    597\u001b[0m                 \u001b[1;31m# e.g. astype_nansafe can fail on object-dtype of strings\u001b[0m\u001b[1;33m\u001b[0m\u001b[1;33m\u001b[0m\u001b[1;33m\u001b[0m\u001b[0m\n",
      "\u001b[1;32mE:\\soft\\anaconda\\anaconda3\\lib\\site-packages\\pandas\\core\\dtypes\\cast.py\u001b[0m in \u001b[0;36mastype_nansafe\u001b[1;34m(arr, dtype, copy, skipna)\u001b[0m\n\u001b[0;32m    970\u001b[0m         \u001b[1;31m# work around NumPy brokenness, #1987\u001b[0m\u001b[1;33m\u001b[0m\u001b[1;33m\u001b[0m\u001b[1;33m\u001b[0m\u001b[0m\n\u001b[0;32m    971\u001b[0m         \u001b[1;32mif\u001b[0m \u001b[0mnp\u001b[0m\u001b[1;33m.\u001b[0m\u001b[0missubdtype\u001b[0m\u001b[1;33m(\u001b[0m\u001b[0mdtype\u001b[0m\u001b[1;33m.\u001b[0m\u001b[0mtype\u001b[0m\u001b[1;33m,\u001b[0m \u001b[0mnp\u001b[0m\u001b[1;33m.\u001b[0m\u001b[0minteger\u001b[0m\u001b[1;33m)\u001b[0m\u001b[1;33m:\u001b[0m\u001b[1;33m\u001b[0m\u001b[1;33m\u001b[0m\u001b[0m\n\u001b[1;32m--> 972\u001b[1;33m             \u001b[1;32mreturn\u001b[0m \u001b[0mlib\u001b[0m\u001b[1;33m.\u001b[0m\u001b[0mastype_intsafe\u001b[0m\u001b[1;33m(\u001b[0m\u001b[0marr\u001b[0m\u001b[1;33m.\u001b[0m\u001b[0mravel\u001b[0m\u001b[1;33m(\u001b[0m\u001b[1;33m)\u001b[0m\u001b[1;33m,\u001b[0m \u001b[0mdtype\u001b[0m\u001b[1;33m)\u001b[0m\u001b[1;33m.\u001b[0m\u001b[0mreshape\u001b[0m\u001b[1;33m(\u001b[0m\u001b[0marr\u001b[0m\u001b[1;33m.\u001b[0m\u001b[0mshape\u001b[0m\u001b[1;33m)\u001b[0m\u001b[1;33m\u001b[0m\u001b[1;33m\u001b[0m\u001b[0m\n\u001b[0m\u001b[0;32m    973\u001b[0m \u001b[1;33m\u001b[0m\u001b[0m\n\u001b[0;32m    974\u001b[0m         \u001b[1;31m# if we have a datetime/timedelta array of objects\u001b[0m\u001b[1;33m\u001b[0m\u001b[1;33m\u001b[0m\u001b[1;33m\u001b[0m\u001b[0m\n",
      "\u001b[1;32mpandas\\_libs\\lib.pyx\u001b[0m in \u001b[0;36mpandas._libs.lib.astype_intsafe\u001b[1;34m()\u001b[0m\n",
      "\u001b[1;31mValueError\u001b[0m: invalid literal for int() with base 10: '8U'"
     ]
    }
   ],
   "source": [
    "df['时长']=df['时长'].astype('int')"
   ]
  },
  {
   "cell_type": "code",
   "execution_count": 34,
   "metadata": {
    "hidden": true
   },
   "outputs": [
    {
     "data": {
      "text/html": [
       "<div>\n",
       "<style scoped>\n",
       "    .dataframe tbody tr th:only-of-type {\n",
       "        vertical-align: middle;\n",
       "    }\n",
       "\n",
       "    .dataframe tbody tr th {\n",
       "        vertical-align: top;\n",
       "    }\n",
       "\n",
       "    .dataframe thead th {\n",
       "        text-align: right;\n",
       "    }\n",
       "</style>\n",
       "<table border=\"1\" class=\"dataframe\">\n",
       "  <thead>\n",
       "    <tr style=\"text-align: right;\">\n",
       "      <th></th>\n",
       "      <th>名字</th>\n",
       "      <th>投票人数</th>\n",
       "      <th>类型</th>\n",
       "      <th>产地</th>\n",
       "      <th>上映时间</th>\n",
       "      <th>时长</th>\n",
       "      <th>年代</th>\n",
       "      <th>评分</th>\n",
       "      <th>首映地点</th>\n",
       "    </tr>\n",
       "  </thead>\n",
       "  <tbody>\n",
       "    <tr>\n",
       "      <th>31644</th>\n",
       "      <td>一个被隔绝的世界</td>\n",
       "      <td>46</td>\n",
       "      <td>纪录片/短片</td>\n",
       "      <td>瑞典</td>\n",
       "      <td>2001-10-25 00:00:00</td>\n",
       "      <td>8U</td>\n",
       "      <td>1948</td>\n",
       "      <td>7.8</td>\n",
       "      <td>美国</td>\n",
       "    </tr>\n",
       "  </tbody>\n",
       "</table>\n",
       "</div>"
      ],
      "text/plain": [
       "             名字  投票人数      类型  产地                 上映时间  时长    年代   评分 首映地点\n",
       "31644  一个被隔绝的世界    46  纪录片/短片  瑞典  2001-10-25 00:00:00  8U  1948  7.8   美国"
      ]
     },
     "execution_count": 34,
     "metadata": {},
     "output_type": "execute_result"
    }
   ],
   "source": [
    "df[df.时长=='8U']"
   ]
  },
  {
   "cell_type": "code",
   "execution_count": 36,
   "metadata": {
    "hidden": true
   },
   "outputs": [],
   "source": [
    "df.drop(31644,inplace=True)"
   ]
  },
  {
   "cell_type": "code",
   "execution_count": 38,
   "metadata": {
    "hidden": true
   },
   "outputs": [
    {
     "ename": "ValueError",
     "evalue": "invalid literal for int() with base 10: '12J'",
     "output_type": "error",
     "traceback": [
      "\u001b[1;31m---------------------------------------------------------------------------\u001b[0m",
      "\u001b[1;31mValueError\u001b[0m                                Traceback (most recent call last)",
      "\u001b[1;32m<ipython-input-38-83bf9b6fa2b3>\u001b[0m in \u001b[0;36m<module>\u001b[1;34m\u001b[0m\n\u001b[1;32m----> 1\u001b[1;33m \u001b[0mdf\u001b[0m\u001b[1;33m[\u001b[0m\u001b[1;34m'时长'\u001b[0m\u001b[1;33m]\u001b[0m\u001b[1;33m=\u001b[0m\u001b[0mdf\u001b[0m\u001b[1;33m[\u001b[0m\u001b[1;34m'时长'\u001b[0m\u001b[1;33m]\u001b[0m\u001b[1;33m.\u001b[0m\u001b[0mastype\u001b[0m\u001b[1;33m(\u001b[0m\u001b[1;34m'int'\u001b[0m\u001b[1;33m)\u001b[0m\u001b[1;33m\u001b[0m\u001b[1;33m\u001b[0m\u001b[0m\n\u001b[0m",
      "\u001b[1;32mE:\\soft\\anaconda\\anaconda3\\lib\\site-packages\\pandas\\core\\generic.py\u001b[0m in \u001b[0;36mastype\u001b[1;34m(self, dtype, copy, errors)\u001b[0m\n\u001b[0;32m   5544\u001b[0m         \u001b[1;32melse\u001b[0m\u001b[1;33m:\u001b[0m\u001b[1;33m\u001b[0m\u001b[1;33m\u001b[0m\u001b[0m\n\u001b[0;32m   5545\u001b[0m             \u001b[1;31m# else, only a single dtype is given\u001b[0m\u001b[1;33m\u001b[0m\u001b[1;33m\u001b[0m\u001b[1;33m\u001b[0m\u001b[0m\n\u001b[1;32m-> 5546\u001b[1;33m             \u001b[0mnew_data\u001b[0m \u001b[1;33m=\u001b[0m \u001b[0mself\u001b[0m\u001b[1;33m.\u001b[0m\u001b[0m_mgr\u001b[0m\u001b[1;33m.\u001b[0m\u001b[0mastype\u001b[0m\u001b[1;33m(\u001b[0m\u001b[0mdtype\u001b[0m\u001b[1;33m=\u001b[0m\u001b[0mdtype\u001b[0m\u001b[1;33m,\u001b[0m \u001b[0mcopy\u001b[0m\u001b[1;33m=\u001b[0m\u001b[0mcopy\u001b[0m\u001b[1;33m,\u001b[0m \u001b[0merrors\u001b[0m\u001b[1;33m=\u001b[0m\u001b[0merrors\u001b[0m\u001b[1;33m,\u001b[0m\u001b[1;33m)\u001b[0m\u001b[1;33m\u001b[0m\u001b[1;33m\u001b[0m\u001b[0m\n\u001b[0m\u001b[0;32m   5547\u001b[0m             \u001b[1;32mreturn\u001b[0m \u001b[0mself\u001b[0m\u001b[1;33m.\u001b[0m\u001b[0m_constructor\u001b[0m\u001b[1;33m(\u001b[0m\u001b[0mnew_data\u001b[0m\u001b[1;33m)\u001b[0m\u001b[1;33m.\u001b[0m\u001b[0m__finalize__\u001b[0m\u001b[1;33m(\u001b[0m\u001b[0mself\u001b[0m\u001b[1;33m,\u001b[0m \u001b[0mmethod\u001b[0m\u001b[1;33m=\u001b[0m\u001b[1;34m\"astype\"\u001b[0m\u001b[1;33m)\u001b[0m\u001b[1;33m\u001b[0m\u001b[1;33m\u001b[0m\u001b[0m\n\u001b[0;32m   5548\u001b[0m \u001b[1;33m\u001b[0m\u001b[0m\n",
      "\u001b[1;32mE:\\soft\\anaconda\\anaconda3\\lib\\site-packages\\pandas\\core\\internals\\managers.py\u001b[0m in \u001b[0;36mastype\u001b[1;34m(self, dtype, copy, errors)\u001b[0m\n\u001b[0;32m    593\u001b[0m         \u001b[0mself\u001b[0m\u001b[1;33m,\u001b[0m \u001b[0mdtype\u001b[0m\u001b[1;33m,\u001b[0m \u001b[0mcopy\u001b[0m\u001b[1;33m:\u001b[0m \u001b[0mbool\u001b[0m \u001b[1;33m=\u001b[0m \u001b[1;32mFalse\u001b[0m\u001b[1;33m,\u001b[0m \u001b[0merrors\u001b[0m\u001b[1;33m:\u001b[0m \u001b[0mstr\u001b[0m \u001b[1;33m=\u001b[0m \u001b[1;34m\"raise\"\u001b[0m\u001b[1;33m\u001b[0m\u001b[1;33m\u001b[0m\u001b[0m\n\u001b[0;32m    594\u001b[0m     ) -> \"BlockManager\":\n\u001b[1;32m--> 595\u001b[1;33m         \u001b[1;32mreturn\u001b[0m \u001b[0mself\u001b[0m\u001b[1;33m.\u001b[0m\u001b[0mapply\u001b[0m\u001b[1;33m(\u001b[0m\u001b[1;34m\"astype\"\u001b[0m\u001b[1;33m,\u001b[0m \u001b[0mdtype\u001b[0m\u001b[1;33m=\u001b[0m\u001b[0mdtype\u001b[0m\u001b[1;33m,\u001b[0m \u001b[0mcopy\u001b[0m\u001b[1;33m=\u001b[0m\u001b[0mcopy\u001b[0m\u001b[1;33m,\u001b[0m \u001b[0merrors\u001b[0m\u001b[1;33m=\u001b[0m\u001b[0merrors\u001b[0m\u001b[1;33m)\u001b[0m\u001b[1;33m\u001b[0m\u001b[1;33m\u001b[0m\u001b[0m\n\u001b[0m\u001b[0;32m    596\u001b[0m \u001b[1;33m\u001b[0m\u001b[0m\n\u001b[0;32m    597\u001b[0m     def convert(\n",
      "\u001b[1;32mE:\\soft\\anaconda\\anaconda3\\lib\\site-packages\\pandas\\core\\internals\\managers.py\u001b[0m in \u001b[0;36mapply\u001b[1;34m(self, f, align_keys, **kwargs)\u001b[0m\n\u001b[0;32m    404\u001b[0m                 \u001b[0mapplied\u001b[0m \u001b[1;33m=\u001b[0m \u001b[0mb\u001b[0m\u001b[1;33m.\u001b[0m\u001b[0mapply\u001b[0m\u001b[1;33m(\u001b[0m\u001b[0mf\u001b[0m\u001b[1;33m,\u001b[0m \u001b[1;33m**\u001b[0m\u001b[0mkwargs\u001b[0m\u001b[1;33m)\u001b[0m\u001b[1;33m\u001b[0m\u001b[1;33m\u001b[0m\u001b[0m\n\u001b[0;32m    405\u001b[0m             \u001b[1;32melse\u001b[0m\u001b[1;33m:\u001b[0m\u001b[1;33m\u001b[0m\u001b[1;33m\u001b[0m\u001b[0m\n\u001b[1;32m--> 406\u001b[1;33m                 \u001b[0mapplied\u001b[0m \u001b[1;33m=\u001b[0m \u001b[0mgetattr\u001b[0m\u001b[1;33m(\u001b[0m\u001b[0mb\u001b[0m\u001b[1;33m,\u001b[0m \u001b[0mf\u001b[0m\u001b[1;33m)\u001b[0m\u001b[1;33m(\u001b[0m\u001b[1;33m**\u001b[0m\u001b[0mkwargs\u001b[0m\u001b[1;33m)\u001b[0m\u001b[1;33m\u001b[0m\u001b[1;33m\u001b[0m\u001b[0m\n\u001b[0m\u001b[0;32m    407\u001b[0m             \u001b[0mresult_blocks\u001b[0m \u001b[1;33m=\u001b[0m \u001b[0m_extend_blocks\u001b[0m\u001b[1;33m(\u001b[0m\u001b[0mapplied\u001b[0m\u001b[1;33m,\u001b[0m \u001b[0mresult_blocks\u001b[0m\u001b[1;33m)\u001b[0m\u001b[1;33m\u001b[0m\u001b[1;33m\u001b[0m\u001b[0m\n\u001b[0;32m    408\u001b[0m \u001b[1;33m\u001b[0m\u001b[0m\n",
      "\u001b[1;32mE:\\soft\\anaconda\\anaconda3\\lib\\site-packages\\pandas\\core\\internals\\blocks.py\u001b[0m in \u001b[0;36mastype\u001b[1;34m(self, dtype, copy, errors)\u001b[0m\n\u001b[0;32m    593\u001b[0m             \u001b[0mvals1d\u001b[0m \u001b[1;33m=\u001b[0m \u001b[0mvalues\u001b[0m\u001b[1;33m.\u001b[0m\u001b[0mravel\u001b[0m\u001b[1;33m(\u001b[0m\u001b[1;33m)\u001b[0m\u001b[1;33m\u001b[0m\u001b[1;33m\u001b[0m\u001b[0m\n\u001b[0;32m    594\u001b[0m             \u001b[1;32mtry\u001b[0m\u001b[1;33m:\u001b[0m\u001b[1;33m\u001b[0m\u001b[1;33m\u001b[0m\u001b[0m\n\u001b[1;32m--> 595\u001b[1;33m                 \u001b[0mvalues\u001b[0m \u001b[1;33m=\u001b[0m \u001b[0mastype_nansafe\u001b[0m\u001b[1;33m(\u001b[0m\u001b[0mvals1d\u001b[0m\u001b[1;33m,\u001b[0m \u001b[0mdtype\u001b[0m\u001b[1;33m,\u001b[0m \u001b[0mcopy\u001b[0m\u001b[1;33m=\u001b[0m\u001b[1;32mTrue\u001b[0m\u001b[1;33m)\u001b[0m\u001b[1;33m\u001b[0m\u001b[1;33m\u001b[0m\u001b[0m\n\u001b[0m\u001b[0;32m    596\u001b[0m             \u001b[1;32mexcept\u001b[0m \u001b[1;33m(\u001b[0m\u001b[0mValueError\u001b[0m\u001b[1;33m,\u001b[0m \u001b[0mTypeError\u001b[0m\u001b[1;33m)\u001b[0m\u001b[1;33m:\u001b[0m\u001b[1;33m\u001b[0m\u001b[1;33m\u001b[0m\u001b[0m\n\u001b[0;32m    597\u001b[0m                 \u001b[1;31m# e.g. astype_nansafe can fail on object-dtype of strings\u001b[0m\u001b[1;33m\u001b[0m\u001b[1;33m\u001b[0m\u001b[1;33m\u001b[0m\u001b[0m\n",
      "\u001b[1;32mE:\\soft\\anaconda\\anaconda3\\lib\\site-packages\\pandas\\core\\dtypes\\cast.py\u001b[0m in \u001b[0;36mastype_nansafe\u001b[1;34m(arr, dtype, copy, skipna)\u001b[0m\n\u001b[0;32m    970\u001b[0m         \u001b[1;31m# work around NumPy brokenness, #1987\u001b[0m\u001b[1;33m\u001b[0m\u001b[1;33m\u001b[0m\u001b[1;33m\u001b[0m\u001b[0m\n\u001b[0;32m    971\u001b[0m         \u001b[1;32mif\u001b[0m \u001b[0mnp\u001b[0m\u001b[1;33m.\u001b[0m\u001b[0missubdtype\u001b[0m\u001b[1;33m(\u001b[0m\u001b[0mdtype\u001b[0m\u001b[1;33m.\u001b[0m\u001b[0mtype\u001b[0m\u001b[1;33m,\u001b[0m \u001b[0mnp\u001b[0m\u001b[1;33m.\u001b[0m\u001b[0minteger\u001b[0m\u001b[1;33m)\u001b[0m\u001b[1;33m:\u001b[0m\u001b[1;33m\u001b[0m\u001b[1;33m\u001b[0m\u001b[0m\n\u001b[1;32m--> 972\u001b[1;33m             \u001b[1;32mreturn\u001b[0m \u001b[0mlib\u001b[0m\u001b[1;33m.\u001b[0m\u001b[0mastype_intsafe\u001b[0m\u001b[1;33m(\u001b[0m\u001b[0marr\u001b[0m\u001b[1;33m.\u001b[0m\u001b[0mravel\u001b[0m\u001b[1;33m(\u001b[0m\u001b[1;33m)\u001b[0m\u001b[1;33m,\u001b[0m \u001b[0mdtype\u001b[0m\u001b[1;33m)\u001b[0m\u001b[1;33m.\u001b[0m\u001b[0mreshape\u001b[0m\u001b[1;33m(\u001b[0m\u001b[0marr\u001b[0m\u001b[1;33m.\u001b[0m\u001b[0mshape\u001b[0m\u001b[1;33m)\u001b[0m\u001b[1;33m\u001b[0m\u001b[1;33m\u001b[0m\u001b[0m\n\u001b[0m\u001b[0;32m    973\u001b[0m \u001b[1;33m\u001b[0m\u001b[0m\n\u001b[0;32m    974\u001b[0m         \u001b[1;31m# if we have a datetime/timedelta array of objects\u001b[0m\u001b[1;33m\u001b[0m\u001b[1;33m\u001b[0m\u001b[1;33m\u001b[0m\u001b[0m\n",
      "\u001b[1;32mpandas\\_libs\\lib.pyx\u001b[0m in \u001b[0;36mpandas._libs.lib.astype_intsafe\u001b[1;34m()\u001b[0m\n",
      "\u001b[1;31mValueError\u001b[0m: invalid literal for int() with base 10: '12J'"
     ]
    }
   ],
   "source": [
    "df['时长']=df['时长'].astype('int')"
   ]
  },
  {
   "cell_type": "code",
   "execution_count": 39,
   "metadata": {
    "hidden": true
   },
   "outputs": [
    {
     "data": {
      "text/html": [
       "<div>\n",
       "<style scoped>\n",
       "    .dataframe tbody tr th:only-of-type {\n",
       "        vertical-align: middle;\n",
       "    }\n",
       "\n",
       "    .dataframe tbody tr th {\n",
       "        vertical-align: top;\n",
       "    }\n",
       "\n",
       "    .dataframe thead th {\n",
       "        text-align: right;\n",
       "    }\n",
       "</style>\n",
       "<table border=\"1\" class=\"dataframe\">\n",
       "  <thead>\n",
       "    <tr style=\"text-align: right;\">\n",
       "      <th></th>\n",
       "      <th>名字</th>\n",
       "      <th>投票人数</th>\n",
       "      <th>类型</th>\n",
       "      <th>产地</th>\n",
       "      <th>上映时间</th>\n",
       "      <th>时长</th>\n",
       "      <th>年代</th>\n",
       "      <th>评分</th>\n",
       "      <th>首映地点</th>\n",
       "    </tr>\n",
       "  </thead>\n",
       "  <tbody>\n",
       "    <tr>\n",
       "      <th>32949</th>\n",
       "      <td>渔业危机</td>\n",
       "      <td>41</td>\n",
       "      <td>纪录片</td>\n",
       "      <td>英国</td>\n",
       "      <td>2009-06-19 00:00:00</td>\n",
       "      <td>12J</td>\n",
       "      <td>2008</td>\n",
       "      <td>8.2</td>\n",
       "      <td>USA</td>\n",
       "    </tr>\n",
       "  </tbody>\n",
       "</table>\n",
       "</div>"
      ],
      "text/plain": [
       "         名字  投票人数   类型  产地                 上映时间   时长    年代   评分 首映地点\n",
       "32949  渔业危机    41  纪录片  英国  2009-06-19 00:00:00  12J  2008  8.2  USA"
      ]
     },
     "execution_count": 39,
     "metadata": {},
     "output_type": "execute_result"
    }
   ],
   "source": [
    "df[df.时长=='12J']"
   ]
  },
  {
   "cell_type": "code",
   "execution_count": 40,
   "metadata": {
    "hidden": true
   },
   "outputs": [],
   "source": [
    "df.drop(32949,inplace=True)"
   ]
  },
  {
   "cell_type": "code",
   "execution_count": 41,
   "metadata": {
    "hidden": true
   },
   "outputs": [],
   "source": [
    "df['时长']=df['时长'].astype('int')"
   ]
  },
  {
   "cell_type": "code",
   "execution_count": 42,
   "metadata": {
    "hidden": true
   },
   "outputs": [
    {
     "data": {
      "text/plain": [
       "0    142\n",
       "1    116\n",
       "2    116\n",
       "3    142\n",
       "4    171\n",
       "Name: 时长, dtype: int32"
      ]
     },
     "execution_count": 42,
     "metadata": {},
     "output_type": "execute_result"
    }
   ],
   "source": [
    "df['时长'][:5]"
   ]
  },
  {
   "cell_type": "markdown",
   "metadata": {
    "hidden": true
   },
   "source": [
    "#### 3.1.2 排序"
   ]
  },
  {
   "cell_type": "markdown",
   "metadata": {
    "heading_collapsed": true,
    "hidden": true
   },
   "source": [
    "###### 单值排序"
   ]
  },
  {
   "cell_type": "markdown",
   "metadata": {
    "hidden": true
   },
   "source": [
    "默认排序"
   ]
  },
  {
   "cell_type": "code",
   "execution_count": 44,
   "metadata": {
    "hidden": true
   },
   "outputs": [
    {
     "data": {
      "text/html": [
       "<div>\n",
       "<style scoped>\n",
       "    .dataframe tbody tr th:only-of-type {\n",
       "        vertical-align: middle;\n",
       "    }\n",
       "\n",
       "    .dataframe tbody tr th {\n",
       "        vertical-align: top;\n",
       "    }\n",
       "\n",
       "    .dataframe thead th {\n",
       "        text-align: right;\n",
       "    }\n",
       "</style>\n",
       "<table border=\"1\" class=\"dataframe\">\n",
       "  <thead>\n",
       "    <tr style=\"text-align: right;\">\n",
       "      <th></th>\n",
       "      <th>名字</th>\n",
       "      <th>投票人数</th>\n",
       "      <th>类型</th>\n",
       "      <th>产地</th>\n",
       "      <th>上映时间</th>\n",
       "      <th>时长</th>\n",
       "      <th>年代</th>\n",
       "      <th>评分</th>\n",
       "      <th>首映地点</th>\n",
       "    </tr>\n",
       "  </thead>\n",
       "  <tbody>\n",
       "    <tr>\n",
       "      <th>0</th>\n",
       "      <td>肖申克的救赎</td>\n",
       "      <td>692795</td>\n",
       "      <td>剧情/犯罪</td>\n",
       "      <td>美国</td>\n",
       "      <td>1994-09-10 00:00:00</td>\n",
       "      <td>142</td>\n",
       "      <td>1994</td>\n",
       "      <td>9.6</td>\n",
       "      <td>多伦多电影节</td>\n",
       "    </tr>\n",
       "    <tr>\n",
       "      <th>1</th>\n",
       "      <td>控方证人</td>\n",
       "      <td>42995</td>\n",
       "      <td>剧情/悬疑/犯罪</td>\n",
       "      <td>美国</td>\n",
       "      <td>1957-12-17 00:00:00</td>\n",
       "      <td>116</td>\n",
       "      <td>1957</td>\n",
       "      <td>9.5</td>\n",
       "      <td>美国</td>\n",
       "    </tr>\n",
       "    <tr>\n",
       "      <th>2</th>\n",
       "      <td>美丽人生</td>\n",
       "      <td>327855</td>\n",
       "      <td>剧情/喜剧/爱情</td>\n",
       "      <td>意大利</td>\n",
       "      <td>1997-12-20 00:00:00</td>\n",
       "      <td>116</td>\n",
       "      <td>1997</td>\n",
       "      <td>9.5</td>\n",
       "      <td>意大利</td>\n",
       "    </tr>\n",
       "    <tr>\n",
       "      <th>3</th>\n",
       "      <td>阿甘正传</td>\n",
       "      <td>580897</td>\n",
       "      <td>剧情/爱情</td>\n",
       "      <td>美国</td>\n",
       "      <td>1994-06-23 00:00:00</td>\n",
       "      <td>142</td>\n",
       "      <td>1994</td>\n",
       "      <td>9.4</td>\n",
       "      <td>洛杉矶首映</td>\n",
       "    </tr>\n",
       "    <tr>\n",
       "      <th>4</th>\n",
       "      <td>霸王别姬</td>\n",
       "      <td>478523</td>\n",
       "      <td>剧情/爱情/同性</td>\n",
       "      <td>中国大陆</td>\n",
       "      <td>1993-01-01 00:00:00</td>\n",
       "      <td>171</td>\n",
       "      <td>1993</td>\n",
       "      <td>9.4</td>\n",
       "      <td>香港</td>\n",
       "    </tr>\n",
       "    <tr>\n",
       "      <th>5</th>\n",
       "      <td>泰坦尼克号</td>\n",
       "      <td>157074</td>\n",
       "      <td>剧情/爱情/灾难</td>\n",
       "      <td>美国</td>\n",
       "      <td>2012-04-10 00:00:00</td>\n",
       "      <td>194</td>\n",
       "      <td>2012</td>\n",
       "      <td>9.4</td>\n",
       "      <td>中国大陆</td>\n",
       "    </tr>\n",
       "    <tr>\n",
       "      <th>6</th>\n",
       "      <td>辛德勒的名单</td>\n",
       "      <td>306904</td>\n",
       "      <td>剧情/历史/战争</td>\n",
       "      <td>美国</td>\n",
       "      <td>1993-11-30 00:00:00</td>\n",
       "      <td>195</td>\n",
       "      <td>1993</td>\n",
       "      <td>9.4</td>\n",
       "      <td>华盛顿首映</td>\n",
       "    </tr>\n",
       "    <tr>\n",
       "      <th>7</th>\n",
       "      <td>新世纪福音战士剧场版：Air/真心为你 新世紀エヴァンゲリオン劇場版 Ai</td>\n",
       "      <td>24355</td>\n",
       "      <td>剧情/动作/科幻/动画/奇幻</td>\n",
       "      <td>日本</td>\n",
       "      <td>1997-07-19 00:00:00</td>\n",
       "      <td>87</td>\n",
       "      <td>1997</td>\n",
       "      <td>9.4</td>\n",
       "      <td>日本</td>\n",
       "    </tr>\n",
       "    <tr>\n",
       "      <th>8</th>\n",
       "      <td>银魂完结篇：直到永远的万事屋 劇場版 銀魂 完結篇 万事屋よ</td>\n",
       "      <td>21513</td>\n",
       "      <td>剧情/动画</td>\n",
       "      <td>日本</td>\n",
       "      <td>2013-07-06 00:00:00</td>\n",
       "      <td>110</td>\n",
       "      <td>2013</td>\n",
       "      <td>9.4</td>\n",
       "      <td>日本</td>\n",
       "    </tr>\n",
       "    <tr>\n",
       "      <th>9</th>\n",
       "      <td>这个杀手不太冷</td>\n",
       "      <td>662552</td>\n",
       "      <td>剧情/动作/犯罪</td>\n",
       "      <td>法国</td>\n",
       "      <td>1994-09-14 00:00:00</td>\n",
       "      <td>133</td>\n",
       "      <td>1994</td>\n",
       "      <td>9.4</td>\n",
       "      <td>法国</td>\n",
       "    </tr>\n",
       "  </tbody>\n",
       "</table>\n",
       "</div>"
      ],
      "text/plain": [
       "                                      名字    投票人数              类型    产地  \\\n",
       "0                                 肖申克的救赎  692795           剧情/犯罪    美国   \n",
       "1                                   控方证人   42995        剧情/悬疑/犯罪    美国   \n",
       "2                                  美丽人生   327855        剧情/喜剧/爱情   意大利   \n",
       "3                                   阿甘正传  580897           剧情/爱情    美国   \n",
       "4                                   霸王别姬  478523        剧情/爱情/同性  中国大陆   \n",
       "5                                 泰坦尼克号   157074        剧情/爱情/灾难    美国   \n",
       "6                                 辛德勒的名单  306904        剧情/历史/战争    美国   \n",
       "7  新世纪福音战士剧场版：Air/真心为你 新世紀エヴァンゲリオン劇場版 Ai   24355  剧情/动作/科幻/动画/奇幻    日本   \n",
       "8         银魂完结篇：直到永远的万事屋 劇場版 銀魂 完結篇 万事屋よ   21513           剧情/动画    日本   \n",
       "9                               这个杀手不太冷   662552        剧情/动作/犯罪    法国   \n",
       "\n",
       "                  上映时间   时长    年代   评分    首映地点  \n",
       "0  1994-09-10 00:00:00  142  1994  9.6  多伦多电影节  \n",
       "1  1957-12-17 00:00:00  116  1957  9.5      美国  \n",
       "2  1997-12-20 00:00:00  116  1997  9.5     意大利  \n",
       "3  1994-06-23 00:00:00  142  1994  9.4   洛杉矶首映  \n",
       "4  1993-01-01 00:00:00  171  1993  9.4      香港  \n",
       "5  2012-04-10 00:00:00  194  2012  9.4    中国大陆  \n",
       "6  1993-11-30 00:00:00  195  1993  9.4   华盛顿首映  \n",
       "7  1997-07-19 00:00:00   87  1997  9.4      日本  \n",
       "8  2013-07-06 00:00:00  110  2013  9.4      日本  \n",
       "9  1994-09-14 00:00:00  133  1994  9.4      法国  "
      ]
     },
     "execution_count": 44,
     "metadata": {},
     "output_type": "execute_result"
    }
   ],
   "source": [
    "df[:10]  ##根据index进行排序"
   ]
  },
  {
   "cell_type": "markdown",
   "metadata": {
    "hidden": true
   },
   "source": [
    "按照投票人数进行排序"
   ]
  },
  {
   "cell_type": "code",
   "execution_count": 47,
   "metadata": {
    "hidden": true
   },
   "outputs": [
    {
     "data": {
      "text/html": [
       "<div>\n",
       "<style scoped>\n",
       "    .dataframe tbody tr th:only-of-type {\n",
       "        vertical-align: middle;\n",
       "    }\n",
       "\n",
       "    .dataframe tbody tr th {\n",
       "        vertical-align: top;\n",
       "    }\n",
       "\n",
       "    .dataframe thead th {\n",
       "        text-align: right;\n",
       "    }\n",
       "</style>\n",
       "<table border=\"1\" class=\"dataframe\">\n",
       "  <thead>\n",
       "    <tr style=\"text-align: right;\">\n",
       "      <th></th>\n",
       "      <th>名字</th>\n",
       "      <th>投票人数</th>\n",
       "      <th>类型</th>\n",
       "      <th>产地</th>\n",
       "      <th>上映时间</th>\n",
       "      <th>时长</th>\n",
       "      <th>年代</th>\n",
       "      <th>评分</th>\n",
       "      <th>首映地点</th>\n",
       "    </tr>\n",
       "  </thead>\n",
       "  <tbody>\n",
       "    <tr>\n",
       "      <th>19797</th>\n",
       "      <td>女教徒</td>\n",
       "      <td>-118</td>\n",
       "      <td>剧情</td>\n",
       "      <td>法国</td>\n",
       "      <td>1966-05-06 00:00:00</td>\n",
       "      <td>135</td>\n",
       "      <td>1966</td>\n",
       "      <td>7.8</td>\n",
       "      <td>美国</td>\n",
       "    </tr>\n",
       "    <tr>\n",
       "      <th>19777</th>\n",
       "      <td>皇家大贼 皇家大</td>\n",
       "      <td>-80</td>\n",
       "      <td>剧情/犯罪</td>\n",
       "      <td>中国香港</td>\n",
       "      <td>1985-05-31 00:00:00</td>\n",
       "      <td>60</td>\n",
       "      <td>1985</td>\n",
       "      <td>6.3</td>\n",
       "      <td>美国</td>\n",
       "    </tr>\n",
       "    <tr>\n",
       "      <th>19786</th>\n",
       "      <td>日本的垃圾去中国大陆 にっぽんの“ゴミ” 大陆へ渡る ～中国式リサイクル錬</td>\n",
       "      <td>-80</td>\n",
       "      <td>纪录片</td>\n",
       "      <td>日本</td>\n",
       "      <td>1905-06-26 00:00:00</td>\n",
       "      <td>60</td>\n",
       "      <td>2004</td>\n",
       "      <td>7.9</td>\n",
       "      <td>美国</td>\n",
       "    </tr>\n",
       "    <tr>\n",
       "      <th>19804</th>\n",
       "      <td>女郎漫游仙境 ドレミファ娘の血は騒</td>\n",
       "      <td>5</td>\n",
       "      <td>喜剧/歌舞</td>\n",
       "      <td>日本</td>\n",
       "      <td>1985-11-03 00:00:00</td>\n",
       "      <td>80</td>\n",
       "      <td>1985</td>\n",
       "      <td>6.7</td>\n",
       "      <td>日本</td>\n",
       "    </tr>\n",
       "    <tr>\n",
       "      <th>19791</th>\n",
       "      <td>女教师 女教</td>\n",
       "      <td>8</td>\n",
       "      <td>剧情/犯罪</td>\n",
       "      <td>日本</td>\n",
       "      <td>1977-10-29 00:00:00</td>\n",
       "      <td>100</td>\n",
       "      <td>1977</td>\n",
       "      <td>6.6</td>\n",
       "      <td>日本</td>\n",
       "    </tr>\n",
       "  </tbody>\n",
       "</table>\n",
       "</div>"
      ],
      "text/plain": [
       "                                          名字  投票人数     类型    产地  \\\n",
       "19797                                    女教徒  -118     剧情    法国   \n",
       "19777                               皇家大贼 皇家大   -80  剧情/犯罪  中国香港   \n",
       "19786  日本的垃圾去中国大陆 にっぽんの“ゴミ” 大陆へ渡る ～中国式リサイクル錬   -80    纪录片    日本   \n",
       "19804                      女郎漫游仙境 ドレミファ娘の血は騒     5  喜剧/歌舞    日本   \n",
       "19791                                 女教师 女教     8  剧情/犯罪    日本   \n",
       "\n",
       "                      上映时间   时长    年代   评分 首映地点  \n",
       "19797  1966-05-06 00:00:00  135  1966  7.8   美国  \n",
       "19777  1985-05-31 00:00:00   60  1985  6.3   美国  \n",
       "19786  1905-06-26 00:00:00   60  2004  7.9   美国  \n",
       "19804  1985-11-03 00:00:00   80  1985  6.7   日本  \n",
       "19791  1977-10-29 00:00:00  100  1977  6.6   日本  "
      ]
     },
     "execution_count": 47,
     "metadata": {},
     "output_type": "execute_result"
    }
   ],
   "source": [
    "## 默认升序排列\n",
    "df.sort_values(by='投票人数')[:5]"
   ]
  },
  {
   "cell_type": "code",
   "execution_count": 48,
   "metadata": {
    "hidden": true
   },
   "outputs": [
    {
     "data": {
      "text/html": [
       "<div>\n",
       "<style scoped>\n",
       "    .dataframe tbody tr th:only-of-type {\n",
       "        vertical-align: middle;\n",
       "    }\n",
       "\n",
       "    .dataframe tbody tr th {\n",
       "        vertical-align: top;\n",
       "    }\n",
       "\n",
       "    .dataframe thead th {\n",
       "        text-align: right;\n",
       "    }\n",
       "</style>\n",
       "<table border=\"1\" class=\"dataframe\">\n",
       "  <thead>\n",
       "    <tr style=\"text-align: right;\">\n",
       "      <th></th>\n",
       "      <th>名字</th>\n",
       "      <th>投票人数</th>\n",
       "      <th>类型</th>\n",
       "      <th>产地</th>\n",
       "      <th>上映时间</th>\n",
       "      <th>时长</th>\n",
       "      <th>年代</th>\n",
       "      <th>评分</th>\n",
       "      <th>首映地点</th>\n",
       "    </tr>\n",
       "  </thead>\n",
       "  <tbody>\n",
       "    <tr>\n",
       "      <th>0</th>\n",
       "      <td>肖申克的救赎</td>\n",
       "      <td>692795</td>\n",
       "      <td>剧情/犯罪</td>\n",
       "      <td>美国</td>\n",
       "      <td>1994-09-10 00:00:00</td>\n",
       "      <td>142</td>\n",
       "      <td>1994</td>\n",
       "      <td>9.6</td>\n",
       "      <td>多伦多电影节</td>\n",
       "    </tr>\n",
       "    <tr>\n",
       "      <th>9</th>\n",
       "      <td>这个杀手不太冷</td>\n",
       "      <td>662552</td>\n",
       "      <td>剧情/动作/犯罪</td>\n",
       "      <td>法国</td>\n",
       "      <td>1994-09-14 00:00:00</td>\n",
       "      <td>133</td>\n",
       "      <td>1994</td>\n",
       "      <td>9.4</td>\n",
       "      <td>法国</td>\n",
       "    </tr>\n",
       "    <tr>\n",
       "      <th>22</th>\n",
       "      <td>盗梦空间</td>\n",
       "      <td>642134</td>\n",
       "      <td>剧情/动作/科幻/悬疑/冒险</td>\n",
       "      <td>美国</td>\n",
       "      <td>2010-09-01 00:00:00</td>\n",
       "      <td>148</td>\n",
       "      <td>2010</td>\n",
       "      <td>9.2</td>\n",
       "      <td>中国大陆</td>\n",
       "    </tr>\n",
       "    <tr>\n",
       "      <th>3</th>\n",
       "      <td>阿甘正传</td>\n",
       "      <td>580897</td>\n",
       "      <td>剧情/爱情</td>\n",
       "      <td>美国</td>\n",
       "      <td>1994-06-23 00:00:00</td>\n",
       "      <td>142</td>\n",
       "      <td>1994</td>\n",
       "      <td>9.4</td>\n",
       "      <td>洛杉矶首映</td>\n",
       "    </tr>\n",
       "    <tr>\n",
       "      <th>99</th>\n",
       "      <td>三傻大闹宝莱坞</td>\n",
       "      <td>549808</td>\n",
       "      <td>剧情/喜剧/爱情/歌舞</td>\n",
       "      <td>印度</td>\n",
       "      <td>2011-12-08 00:00:00</td>\n",
       "      <td>171</td>\n",
       "      <td>2009</td>\n",
       "      <td>9.1</td>\n",
       "      <td>中国大陆</td>\n",
       "    </tr>\n",
       "  </tbody>\n",
       "</table>\n",
       "</div>"
      ],
      "text/plain": [
       "          名字    投票人数              类型  产地                 上映时间   时长    年代   评分  \\\n",
       "0     肖申克的救赎  692795           剧情/犯罪  美国  1994-09-10 00:00:00  142  1994  9.6   \n",
       "9   这个杀手不太冷   662552        剧情/动作/犯罪  法国  1994-09-14 00:00:00  133  1994  9.4   \n",
       "22      盗梦空间  642134  剧情/动作/科幻/悬疑/冒险  美国  2010-09-01 00:00:00  148  2010  9.2   \n",
       "3       阿甘正传  580897           剧情/爱情  美国  1994-06-23 00:00:00  142  1994  9.4   \n",
       "99   三傻大闹宝莱坞  549808     剧情/喜剧/爱情/歌舞  印度  2011-12-08 00:00:00  171  2009  9.1   \n",
       "\n",
       "      首映地点  \n",
       "0   多伦多电影节  \n",
       "9       法国  \n",
       "22    中国大陆  \n",
       "3    洛杉矶首映  \n",
       "99    中国大陆  "
      ]
     },
     "execution_count": 48,
     "metadata": {},
     "output_type": "execute_result"
    }
   ],
   "source": [
    "## 降序排列\n",
    "df.sort_values(by='投票人数',ascending=False)[:5]"
   ]
  },
  {
   "cell_type": "markdown",
   "metadata": {
    "hidden": true
   },
   "source": [
    "按照年代进行排序"
   ]
  },
  {
   "cell_type": "code",
   "execution_count": 50,
   "metadata": {
    "hidden": true
   },
   "outputs": [
    {
     "data": {
      "text/html": [
       "<div>\n",
       "<style scoped>\n",
       "    .dataframe tbody tr th:only-of-type {\n",
       "        vertical-align: middle;\n",
       "    }\n",
       "\n",
       "    .dataframe tbody tr th {\n",
       "        vertical-align: top;\n",
       "    }\n",
       "\n",
       "    .dataframe thead th {\n",
       "        text-align: right;\n",
       "    }\n",
       "</style>\n",
       "<table border=\"1\" class=\"dataframe\">\n",
       "  <thead>\n",
       "    <tr style=\"text-align: right;\">\n",
       "      <th></th>\n",
       "      <th>名字</th>\n",
       "      <th>投票人数</th>\n",
       "      <th>类型</th>\n",
       "      <th>产地</th>\n",
       "      <th>上映时间</th>\n",
       "      <th>时长</th>\n",
       "      <th>年代</th>\n",
       "      <th>评分</th>\n",
       "      <th>首映地点</th>\n",
       "    </tr>\n",
       "  </thead>\n",
       "  <tbody>\n",
       "    <tr>\n",
       "      <th>14048</th>\n",
       "      <td>利兹大桥</td>\n",
       "      <td>126</td>\n",
       "      <td>短片</td>\n",
       "      <td>英国</td>\n",
       "      <td>1888-10</td>\n",
       "      <td>60</td>\n",
       "      <td>1888</td>\n",
       "      <td>7.2</td>\n",
       "      <td>美国</td>\n",
       "    </tr>\n",
       "    <tr>\n",
       "      <th>1700</th>\n",
       "      <td>朗德海花园场景</td>\n",
       "      <td>650</td>\n",
       "      <td>短片</td>\n",
       "      <td>英国</td>\n",
       "      <td>1888-10-14</td>\n",
       "      <td>60</td>\n",
       "      <td>1888</td>\n",
       "      <td>8.7</td>\n",
       "      <td>美国</td>\n",
       "    </tr>\n",
       "    <tr>\n",
       "      <th>26170</th>\n",
       "      <td>恶作剧</td>\n",
       "      <td>51</td>\n",
       "      <td>短片</td>\n",
       "      <td>美国</td>\n",
       "      <td>1905-03-04 00:00:00</td>\n",
       "      <td>60</td>\n",
       "      <td>1890</td>\n",
       "      <td>4.8</td>\n",
       "      <td>美国</td>\n",
       "    </tr>\n",
       "    <tr>\n",
       "      <th>10627</th>\n",
       "      <td>可怜的比埃洛</td>\n",
       "      <td>176</td>\n",
       "      <td>喜剧/爱情/动画/短片</td>\n",
       "      <td>法国</td>\n",
       "      <td>1892-10-28</td>\n",
       "      <td>60</td>\n",
       "      <td>1892</td>\n",
       "      <td>7.5</td>\n",
       "      <td>法国</td>\n",
       "    </tr>\n",
       "    <tr>\n",
       "      <th>14455</th>\n",
       "      <td>迪克森实验音膜</td>\n",
       "      <td>121</td>\n",
       "      <td>短片</td>\n",
       "      <td>美国</td>\n",
       "      <td>1905-03-08 00:00:00</td>\n",
       "      <td>60</td>\n",
       "      <td>1894</td>\n",
       "      <td>7.2</td>\n",
       "      <td>美国</td>\n",
       "    </tr>\n",
       "  </tbody>\n",
       "</table>\n",
       "</div>"
      ],
      "text/plain": [
       "            名字  投票人数           类型  产地                 上映时间  时长    年代   评分 首映地点\n",
       "14048     利兹大桥   126           短片  英国              1888-10  60  1888  7.2   美国\n",
       "1700   朗德海花园场景   650           短片  英国           1888-10-14  60  1888  8.7   美国\n",
       "26170      恶作剧    51           短片  美国  1905-03-04 00:00:00  60  1890  4.8   美国\n",
       "10627   可怜的比埃洛   176  喜剧/爱情/动画/短片  法国           1892-10-28  60  1892  7.5   法国\n",
       "14455  迪克森实验音膜   121           短片  美国  1905-03-08 00:00:00  60  1894  7.2   美国"
      ]
     },
     "execution_count": 50,
     "metadata": {},
     "output_type": "execute_result"
    }
   ],
   "source": [
    "df.sort_values(by='年代')[:5]"
   ]
  },
  {
   "cell_type": "markdown",
   "metadata": {
    "hidden": true
   },
   "source": [
    "###### 多个值排序"
   ]
  },
  {
   "cell_type": "markdown",
   "metadata": {
    "hidden": true
   },
   "source": [
    "先按照评分排序，再按照投票人数排序"
   ]
  },
  {
   "cell_type": "code",
   "execution_count": 52,
   "metadata": {
    "hidden": true,
    "scrolled": true
   },
   "outputs": [
    {
     "data": {
      "text/html": [
       "<div>\n",
       "<style scoped>\n",
       "    .dataframe tbody tr th:only-of-type {\n",
       "        vertical-align: middle;\n",
       "    }\n",
       "\n",
       "    .dataframe tbody tr th {\n",
       "        vertical-align: top;\n",
       "    }\n",
       "\n",
       "    .dataframe thead th {\n",
       "        text-align: right;\n",
       "    }\n",
       "</style>\n",
       "<table border=\"1\" class=\"dataframe\">\n",
       "  <thead>\n",
       "    <tr style=\"text-align: right;\">\n",
       "      <th></th>\n",
       "      <th>名字</th>\n",
       "      <th>投票人数</th>\n",
       "      <th>类型</th>\n",
       "      <th>产地</th>\n",
       "      <th>上映时间</th>\n",
       "      <th>时长</th>\n",
       "      <th>年代</th>\n",
       "      <th>评分</th>\n",
       "      <th>首映地点</th>\n",
       "    </tr>\n",
       "  </thead>\n",
       "  <tbody>\n",
       "    <tr>\n",
       "      <th>9278</th>\n",
       "      <td>平安结祈 平安結</td>\n",
       "      <td>208</td>\n",
       "      <td>音乐</td>\n",
       "      <td>日本</td>\n",
       "      <td>2012-02-24 00:00:00</td>\n",
       "      <td>60</td>\n",
       "      <td>2012</td>\n",
       "      <td>9.9</td>\n",
       "      <td>美国</td>\n",
       "    </tr>\n",
       "    <tr>\n",
       "      <th>13882</th>\n",
       "      <td>武之舞</td>\n",
       "      <td>128</td>\n",
       "      <td>纪录片</td>\n",
       "      <td>中国大陆</td>\n",
       "      <td>1997-02-01 00:00:00</td>\n",
       "      <td>60</td>\n",
       "      <td>34943</td>\n",
       "      <td>9.9</td>\n",
       "      <td>美国</td>\n",
       "    </tr>\n",
       "    <tr>\n",
       "      <th>1110</th>\n",
       "      <td>未知电影</td>\n",
       "      <td>76</td>\n",
       "      <td>科幻/纪录片</td>\n",
       "      <td>美国</td>\n",
       "      <td>1905-06-23 00:00:00</td>\n",
       "      <td>75</td>\n",
       "      <td>2001</td>\n",
       "      <td>9.9</td>\n",
       "      <td>美国</td>\n",
       "    </tr>\n",
       "    <tr>\n",
       "      <th>23559</th>\n",
       "      <td>未作回答的问题：伯恩斯坦哈佛六讲</td>\n",
       "      <td>61</td>\n",
       "      <td>纪录片</td>\n",
       "      <td>美国</td>\n",
       "      <td>1905-05-29 00:00:00</td>\n",
       "      <td>60</td>\n",
       "      <td>1973</td>\n",
       "      <td>9.9</td>\n",
       "      <td>美国</td>\n",
       "    </tr>\n",
       "    <tr>\n",
       "      <th>35470</th>\n",
       "      <td>未知电影</td>\n",
       "      <td>46</td>\n",
       "      <td>纪录片/音乐</td>\n",
       "      <td>韩国</td>\n",
       "      <td>2013-10-31 00:00:00</td>\n",
       "      <td>90</td>\n",
       "      <td>2013</td>\n",
       "      <td>9.9</td>\n",
       "      <td>韩国</td>\n",
       "    </tr>\n",
       "  </tbody>\n",
       "</table>\n",
       "</div>"
      ],
      "text/plain": [
       "                     名字  投票人数      类型    产地                 上映时间  时长     年代  \\\n",
       "9278           平安结祈 平安結   208      音乐    日本  2012-02-24 00:00:00  60   2012   \n",
       "13882               武之舞   128     纪录片  中国大陆  1997-02-01 00:00:00  60  34943   \n",
       "1110               未知电影    76  科幻/纪录片    美国  1905-06-23 00:00:00  75   2001   \n",
       "23559  未作回答的问题：伯恩斯坦哈佛六讲    61     纪录片    美国  1905-05-29 00:00:00  60   1973   \n",
       "35470              未知电影    46  纪录片/音乐    韩国  2013-10-31 00:00:00  90   2013   \n",
       "\n",
       "        评分 首映地点  \n",
       "9278   9.9   美国  \n",
       "13882  9.9   美国  \n",
       "1110   9.9   美国  \n",
       "23559  9.9   美国  \n",
       "35470  9.9   韩国  "
      ]
     },
     "execution_count": 52,
     "metadata": {},
     "output_type": "execute_result"
    }
   ],
   "source": [
    "df.sort_values(by=['评分','投票人数'],ascending=False)[:5]"
   ]
  },
  {
   "cell_type": "code",
   "execution_count": 119,
   "metadata": {
    "hidden": true
   },
   "outputs": [
    {
     "data": {
      "text/html": [
       "<div>\n",
       "<style scoped>\n",
       "    .dataframe tbody tr th:only-of-type {\n",
       "        vertical-align: middle;\n",
       "    }\n",
       "\n",
       "    .dataframe tbody tr th {\n",
       "        vertical-align: top;\n",
       "    }\n",
       "\n",
       "    .dataframe thead th {\n",
       "        text-align: right;\n",
       "    }\n",
       "</style>\n",
       "<table border=\"1\" class=\"dataframe\">\n",
       "  <thead>\n",
       "    <tr style=\"text-align: right;\">\n",
       "      <th></th>\n",
       "      <th>名字</th>\n",
       "      <th>投票人数</th>\n",
       "      <th>类型</th>\n",
       "      <th>产地</th>\n",
       "      <th>上映时间</th>\n",
       "      <th>时长</th>\n",
       "      <th>年代</th>\n",
       "      <th>评分</th>\n",
       "      <th>首映地点</th>\n",
       "    </tr>\n",
       "  </thead>\n",
       "  <tbody>\n",
       "    <tr>\n",
       "      <th>25270</th>\n",
       "      <td>索科洛夫：巴黎现场</td>\n",
       "      <td>43</td>\n",
       "      <td>音乐</td>\n",
       "      <td>法国</td>\n",
       "      <td>2002-11-04 00:00:00</td>\n",
       "      <td>127</td>\n",
       "      <td>2002</td>\n",
       "      <td>9.9</td>\n",
       "      <td>美国</td>\n",
       "    </tr>\n",
       "    <tr>\n",
       "      <th>35465</th>\n",
       "      <td>未知电影</td>\n",
       "      <td>46</td>\n",
       "      <td>纪录片/音乐</td>\n",
       "      <td>韩国</td>\n",
       "      <td>2013-10-31 00:00:00</td>\n",
       "      <td>90</td>\n",
       "      <td>2013</td>\n",
       "      <td>9.9</td>\n",
       "      <td>韩国</td>\n",
       "    </tr>\n",
       "    <tr>\n",
       "      <th>23556</th>\n",
       "      <td>未作回答的问题：伯恩斯坦哈佛六讲</td>\n",
       "      <td>61</td>\n",
       "      <td>纪录片</td>\n",
       "      <td>美国</td>\n",
       "      <td>1905-05-29 00:00:00</td>\n",
       "      <td>60</td>\n",
       "      <td>1973</td>\n",
       "      <td>9.9</td>\n",
       "      <td>美国</td>\n",
       "    </tr>\n",
       "    <tr>\n",
       "      <th>1110</th>\n",
       "      <td>未知电影</td>\n",
       "      <td>76</td>\n",
       "      <td>科幻/纪录片</td>\n",
       "      <td>美国</td>\n",
       "      <td>1905-06-23 00:00:00</td>\n",
       "      <td>75</td>\n",
       "      <td>2001</td>\n",
       "      <td>9.9</td>\n",
       "      <td>美国</td>\n",
       "    </tr>\n",
       "    <tr>\n",
       "      <th>9278</th>\n",
       "      <td>平安结祈 平安結</td>\n",
       "      <td>208</td>\n",
       "      <td>音乐</td>\n",
       "      <td>日本</td>\n",
       "      <td>2012-02-24 00:00:00</td>\n",
       "      <td>60</td>\n",
       "      <td>2012</td>\n",
       "      <td>9.9</td>\n",
       "      <td>美国</td>\n",
       "    </tr>\n",
       "  </tbody>\n",
       "</table>\n",
       "</div>"
      ],
      "text/plain": [
       "                     名字  投票人数      类型  产地                 上映时间   时长    年代  \\\n",
       "25270         索科洛夫：巴黎现场    43      音乐  法国  2002-11-04 00:00:00  127  2002   \n",
       "35465              未知电影    46  纪录片/音乐  韩国  2013-10-31 00:00:00   90  2013   \n",
       "23556  未作回答的问题：伯恩斯坦哈佛六讲    61     纪录片  美国  1905-05-29 00:00:00   60  1973   \n",
       "1110               未知电影    76  科幻/纪录片  美国  1905-06-23 00:00:00   75  2001   \n",
       "9278           平安结祈 平安結   208      音乐  日本  2012-02-24 00:00:00   60  2012   \n",
       "\n",
       "        评分 首映地点  \n",
       "25270  9.9   美国  \n",
       "35465  9.9   韩国  \n",
       "23556  9.9   美国  \n",
       "1110   9.9   美国  \n",
       "9278   9.9   美国  "
      ]
     },
     "execution_count": 119,
     "metadata": {},
     "output_type": "execute_result"
    }
   ],
   "source": [
    "df.sort_values(by=['评分','投票人数'],ascending=[False,True])[:5]"
   ]
  },
  {
   "cell_type": "markdown",
   "metadata": {
    "heading_collapsed": true,
    "hidden": true
   },
   "source": [
    "#### 3.1.3基本统计分析"
   ]
  },
  {
   "cell_type": "markdown",
   "metadata": {
    "heading_collapsed": true,
    "hidden": true
   },
   "source": [
    "##### 描述性统计"
   ]
  },
  {
   "cell_type": "markdown",
   "metadata": {
    "hidden": true
   },
   "source": [
    "dataframe.describe()：对dataframe中的数值数据进行描述性统计"
   ]
  },
  {
   "cell_type": "code",
   "execution_count": 53,
   "metadata": {
    "hidden": true
   },
   "outputs": [
    {
     "data": {
      "text/html": [
       "<div>\n",
       "<style scoped>\n",
       "    .dataframe tbody tr th:only-of-type {\n",
       "        vertical-align: middle;\n",
       "    }\n",
       "\n",
       "    .dataframe tbody tr th {\n",
       "        vertical-align: top;\n",
       "    }\n",
       "\n",
       "    .dataframe thead th {\n",
       "        text-align: right;\n",
       "    }\n",
       "</style>\n",
       "<table border=\"1\" class=\"dataframe\">\n",
       "  <thead>\n",
       "    <tr style=\"text-align: right;\">\n",
       "      <th></th>\n",
       "      <th>投票人数</th>\n",
       "      <th>时长</th>\n",
       "      <th>年代</th>\n",
       "      <th>评分</th>\n",
       "    </tr>\n",
       "  </thead>\n",
       "  <tbody>\n",
       "    <tr>\n",
       "      <th>count</th>\n",
       "      <td>38737.000000</td>\n",
       "      <td>38737.000000</td>\n",
       "      <td>38737.000000</td>\n",
       "      <td>38737.000000</td>\n",
       "    </tr>\n",
       "    <tr>\n",
       "      <th>mean</th>\n",
       "      <td>6189.178098</td>\n",
       "      <td>89.053128</td>\n",
       "      <td>1998.789091</td>\n",
       "      <td>6.935649</td>\n",
       "    </tr>\n",
       "    <tr>\n",
       "      <th>std</th>\n",
       "      <td>26150.607777</td>\n",
       "      <td>83.333528</td>\n",
       "      <td>253.195493</td>\n",
       "      <td>1.270094</td>\n",
       "    </tr>\n",
       "    <tr>\n",
       "      <th>min</th>\n",
       "      <td>-118.000000</td>\n",
       "      <td>1.000000</td>\n",
       "      <td>1888.000000</td>\n",
       "      <td>2.000000</td>\n",
       "    </tr>\n",
       "    <tr>\n",
       "      <th>25%</th>\n",
       "      <td>98.000000</td>\n",
       "      <td>60.000000</td>\n",
       "      <td>1990.000000</td>\n",
       "      <td>6.300000</td>\n",
       "    </tr>\n",
       "    <tr>\n",
       "      <th>50%</th>\n",
       "      <td>341.000000</td>\n",
       "      <td>92.000000</td>\n",
       "      <td>2005.000000</td>\n",
       "      <td>7.100000</td>\n",
       "    </tr>\n",
       "    <tr>\n",
       "      <th>75%</th>\n",
       "      <td>1741.000000</td>\n",
       "      <td>106.000000</td>\n",
       "      <td>2010.000000</td>\n",
       "      <td>7.800000</td>\n",
       "    </tr>\n",
       "    <tr>\n",
       "      <th>max</th>\n",
       "      <td>692795.000000</td>\n",
       "      <td>11500.000000</td>\n",
       "      <td>39180.000000</td>\n",
       "      <td>9.900000</td>\n",
       "    </tr>\n",
       "  </tbody>\n",
       "</table>\n",
       "</div>"
      ],
      "text/plain": [
       "                投票人数            时长            年代            评分\n",
       "count   38737.000000  38737.000000  38737.000000  38737.000000\n",
       "mean     6189.178098     89.053128   1998.789091      6.935649\n",
       "std     26150.607777     83.333528    253.195493      1.270094\n",
       "min      -118.000000      1.000000   1888.000000      2.000000\n",
       "25%        98.000000     60.000000   1990.000000      6.300000\n",
       "50%       341.000000     92.000000   2005.000000      7.100000\n",
       "75%      1741.000000    106.000000   2010.000000      7.800000\n",
       "max    692795.000000  11500.000000  39180.000000      9.900000"
      ]
     },
     "execution_count": 53,
     "metadata": {},
     "output_type": "execute_result"
    }
   ],
   "source": [
    "df.describe()"
   ]
  },
  {
   "cell_type": "markdown",
   "metadata": {
    "hidden": true
   },
   "source": [
    "通过描述性统计，可以发现一些异常值，很多异常值往往是需要我们逐步去发现的"
   ]
  },
  {
   "cell_type": "code",
   "execution_count": 54,
   "metadata": {
    "hidden": true
   },
   "outputs": [
    {
     "data": {
      "text/html": [
       "<div>\n",
       "<style scoped>\n",
       "    .dataframe tbody tr th:only-of-type {\n",
       "        vertical-align: middle;\n",
       "    }\n",
       "\n",
       "    .dataframe tbody tr th {\n",
       "        vertical-align: top;\n",
       "    }\n",
       "\n",
       "    .dataframe thead th {\n",
       "        text-align: right;\n",
       "    }\n",
       "</style>\n",
       "<table border=\"1\" class=\"dataframe\">\n",
       "  <thead>\n",
       "    <tr style=\"text-align: right;\">\n",
       "      <th></th>\n",
       "      <th>名字</th>\n",
       "      <th>投票人数</th>\n",
       "      <th>类型</th>\n",
       "      <th>产地</th>\n",
       "      <th>上映时间</th>\n",
       "      <th>时长</th>\n",
       "      <th>年代</th>\n",
       "      <th>评分</th>\n",
       "      <th>首映地点</th>\n",
       "    </tr>\n",
       "  </thead>\n",
       "  <tbody>\n",
       "    <tr>\n",
       "      <th>13882</th>\n",
       "      <td>武之舞</td>\n",
       "      <td>128</td>\n",
       "      <td>纪录片</td>\n",
       "      <td>中国大陆</td>\n",
       "      <td>1997-02-01 00:00:00</td>\n",
       "      <td>60</td>\n",
       "      <td>34943</td>\n",
       "      <td>9.9</td>\n",
       "      <td>美国</td>\n",
       "    </tr>\n",
       "    <tr>\n",
       "      <th>17115</th>\n",
       "      <td>妈妈回来吧-中国打工村的孩子</td>\n",
       "      <td>49</td>\n",
       "      <td>纪录片</td>\n",
       "      <td>日本</td>\n",
       "      <td>2007-04-08 00:00:00</td>\n",
       "      <td>109</td>\n",
       "      <td>39180</td>\n",
       "      <td>8.9</td>\n",
       "      <td>美国</td>\n",
       "    </tr>\n",
       "  </tbody>\n",
       "</table>\n",
       "</div>"
      ],
      "text/plain": [
       "                   名字  投票人数   类型    产地                 上映时间   时长     年代   评分  \\\n",
       "13882             武之舞   128  纪录片  中国大陆  1997-02-01 00:00:00   60  34943  9.9   \n",
       "17115  妈妈回来吧-中国打工村的孩子    49  纪录片    日本  2007-04-08 00:00:00  109  39180  8.9   \n",
       "\n",
       "      首映地点  \n",
       "13882   美国  \n",
       "17115   美国  "
      ]
     },
     "execution_count": 54,
     "metadata": {},
     "output_type": "execute_result"
    }
   ],
   "source": [
    "df[df.年代>2020]"
   ]
  },
  {
   "cell_type": "code",
   "execution_count": 55,
   "metadata": {
    "hidden": true
   },
   "outputs": [
    {
     "data": {
      "text/html": [
       "<div>\n",
       "<style scoped>\n",
       "    .dataframe tbody tr th:only-of-type {\n",
       "        vertical-align: middle;\n",
       "    }\n",
       "\n",
       "    .dataframe tbody tr th {\n",
       "        vertical-align: top;\n",
       "    }\n",
       "\n",
       "    .dataframe thead th {\n",
       "        text-align: right;\n",
       "    }\n",
       "</style>\n",
       "<table border=\"1\" class=\"dataframe\">\n",
       "  <thead>\n",
       "    <tr style=\"text-align: right;\">\n",
       "      <th></th>\n",
       "      <th>名字</th>\n",
       "      <th>投票人数</th>\n",
       "      <th>类型</th>\n",
       "      <th>产地</th>\n",
       "      <th>上映时间</th>\n",
       "      <th>时长</th>\n",
       "      <th>年代</th>\n",
       "      <th>评分</th>\n",
       "      <th>首映地点</th>\n",
       "    </tr>\n",
       "  </thead>\n",
       "  <tbody>\n",
       "    <tr>\n",
       "      <th>19690</th>\n",
       "      <td>怒海余生</td>\n",
       "      <td>54</td>\n",
       "      <td>剧情/家庭/冒险</td>\n",
       "      <td>美国</td>\n",
       "      <td>1937-09-01 00:00:00</td>\n",
       "      <td>11500</td>\n",
       "      <td>1937</td>\n",
       "      <td>7.9</td>\n",
       "      <td>美国</td>\n",
       "    </tr>\n",
       "    <tr>\n",
       "      <th>38730</th>\n",
       "      <td>喧闹村的孩子们</td>\n",
       "      <td>36</td>\n",
       "      <td>家庭</td>\n",
       "      <td>瑞典</td>\n",
       "      <td>1986-12-06 00:00:00</td>\n",
       "      <td>9200</td>\n",
       "      <td>1986</td>\n",
       "      <td>8.7</td>\n",
       "      <td>瑞典</td>\n",
       "    </tr>\n",
       "  </tbody>\n",
       "</table>\n",
       "</div>"
      ],
      "text/plain": [
       "            名字  投票人数        类型  产地                 上映时间     时长    年代   评分 首映地点\n",
       "19690     怒海余生    54  剧情/家庭/冒险  美国  1937-09-01 00:00:00  11500  1937  7.9   美国\n",
       "38730  喧闹村的孩子们    36        家庭  瑞典  1986-12-06 00:00:00   9200  1986  8.7   瑞典"
      ]
     },
     "execution_count": 55,
     "metadata": {},
     "output_type": "execute_result"
    }
   ],
   "source": [
    "df[df.时长>1000]"
   ]
  },
  {
   "cell_type": "code",
   "execution_count": 64,
   "metadata": {
    "hidden": true,
    "scrolled": true
   },
   "outputs": [
    {
     "data": {
      "text/html": [
       "<div>\n",
       "<style scoped>\n",
       "    .dataframe tbody tr th:only-of-type {\n",
       "        vertical-align: middle;\n",
       "    }\n",
       "\n",
       "    .dataframe tbody tr th {\n",
       "        vertical-align: top;\n",
       "    }\n",
       "\n",
       "    .dataframe thead th {\n",
       "        text-align: right;\n",
       "    }\n",
       "</style>\n",
       "<table border=\"1\" class=\"dataframe\">\n",
       "  <thead>\n",
       "    <tr style=\"text-align: right;\">\n",
       "      <th></th>\n",
       "      <th>投票人数</th>\n",
       "      <th>时长</th>\n",
       "      <th>年代</th>\n",
       "      <th>评分</th>\n",
       "    </tr>\n",
       "  </thead>\n",
       "  <tbody>\n",
       "    <tr>\n",
       "      <th>count</th>\n",
       "      <td>38730.000000</td>\n",
       "      <td>38730.000000</td>\n",
       "      <td>38730.000000</td>\n",
       "      <td>38730.000000</td>\n",
       "    </tr>\n",
       "    <tr>\n",
       "      <th>mean</th>\n",
       "      <td>6190.297005</td>\n",
       "      <td>88.523806</td>\n",
       "      <td>1996.981461</td>\n",
       "      <td>6.935420</td>\n",
       "    </tr>\n",
       "    <tr>\n",
       "      <th>std</th>\n",
       "      <td>26152.838459</td>\n",
       "      <td>37.946156</td>\n",
       "      <td>19.934657</td>\n",
       "      <td>1.270018</td>\n",
       "    </tr>\n",
       "    <tr>\n",
       "      <th>min</th>\n",
       "      <td>5.000000</td>\n",
       "      <td>1.000000</td>\n",
       "      <td>1888.000000</td>\n",
       "      <td>2.000000</td>\n",
       "    </tr>\n",
       "    <tr>\n",
       "      <th>25%</th>\n",
       "      <td>98.000000</td>\n",
       "      <td>60.000000</td>\n",
       "      <td>1990.000000</td>\n",
       "      <td>6.300000</td>\n",
       "    </tr>\n",
       "    <tr>\n",
       "      <th>50%</th>\n",
       "      <td>341.000000</td>\n",
       "      <td>92.000000</td>\n",
       "      <td>2005.000000</td>\n",
       "      <td>7.100000</td>\n",
       "    </tr>\n",
       "    <tr>\n",
       "      <th>75%</th>\n",
       "      <td>1741.000000</td>\n",
       "      <td>106.000000</td>\n",
       "      <td>2010.000000</td>\n",
       "      <td>7.800000</td>\n",
       "    </tr>\n",
       "    <tr>\n",
       "      <th>max</th>\n",
       "      <td>692795.000000</td>\n",
       "      <td>958.000000</td>\n",
       "      <td>2017.000000</td>\n",
       "      <td>9.900000</td>\n",
       "    </tr>\n",
       "  </tbody>\n",
       "</table>\n",
       "</div>"
      ],
      "text/plain": [
       "                投票人数            时长            年代            评分\n",
       "count   38730.000000  38730.000000  38730.000000  38730.000000\n",
       "mean     6190.297005     88.523806   1996.981461      6.935420\n",
       "std     26152.838459     37.946156     19.934657      1.270018\n",
       "min         5.000000      1.000000   1888.000000      2.000000\n",
       "25%        98.000000     60.000000   1990.000000      6.300000\n",
       "50%       341.000000     92.000000   2005.000000      7.100000\n",
       "75%      1741.000000    106.000000   2010.000000      7.800000\n",
       "max    692795.000000    958.000000   2017.000000      9.900000"
      ]
     },
     "execution_count": 64,
     "metadata": {},
     "output_type": "execute_result"
    }
   ],
   "source": [
    "df.drop(df[df.年代>2020].index,inplace=True)\n",
    "df.drop(df[df.时长>1000].index,inplace=True)\n",
    "df.describe()"
   ]
  },
  {
   "cell_type": "code",
   "execution_count": 58,
   "metadata": {
    "hidden": true
   },
   "outputs": [],
   "source": [
    "##删除 行 后，重新分配 索引index\n",
    "df.index=range(len(df))"
   ]
  },
  {
   "cell_type": "markdown",
   "metadata": {
    "heading_collapsed": true,
    "hidden": true
   },
   "source": [
    "##### 最值"
   ]
  },
  {
   "cell_type": "code",
   "execution_count": 59,
   "metadata": {
    "hidden": true
   },
   "outputs": [
    {
     "data": {
      "text/plain": [
       "692795"
      ]
     },
     "execution_count": 59,
     "metadata": {},
     "output_type": "execute_result"
    }
   ],
   "source": [
    "df['投票人数'].max()"
   ]
  },
  {
   "cell_type": "code",
   "execution_count": 63,
   "metadata": {
    "hidden": true
   },
   "outputs": [
    {
     "data": {
      "text/plain": [
       "5"
      ]
     },
     "execution_count": 63,
     "metadata": {},
     "output_type": "execute_result"
    }
   ],
   "source": [
    "df['投票人数'].min()"
   ]
  },
  {
   "cell_type": "markdown",
   "metadata": {
    "heading_collapsed": true,
    "hidden": true
   },
   "source": [
    "##### 均值和中值"
   ]
  },
  {
   "cell_type": "code",
   "execution_count": 65,
   "metadata": {
    "hidden": true
   },
   "outputs": [
    {
     "data": {
      "text/plain": [
       "6190.297004905758"
      ]
     },
     "execution_count": 65,
     "metadata": {},
     "output_type": "execute_result"
    }
   ],
   "source": [
    "df['投票人数'].mean()"
   ]
  },
  {
   "cell_type": "code",
   "execution_count": 66,
   "metadata": {
    "hidden": true
   },
   "outputs": [
    {
     "data": {
      "text/plain": [
       "341.0"
      ]
     },
     "execution_count": 66,
     "metadata": {},
     "output_type": "execute_result"
    }
   ],
   "source": [
    "df['投票人数'].median()"
   ]
  },
  {
   "cell_type": "markdown",
   "metadata": {
    "heading_collapsed": true,
    "hidden": true
   },
   "source": [
    "##### 方差和标准差"
   ]
  },
  {
   "cell_type": "code",
   "execution_count": 68,
   "metadata": {
    "hidden": true
   },
   "outputs": [
    {
     "data": {
      "text/plain": [
       "1.6129445680877672"
      ]
     },
     "execution_count": 68,
     "metadata": {},
     "output_type": "execute_result"
    }
   ],
   "source": [
    "df['评分'].var()"
   ]
  },
  {
   "cell_type": "code",
   "execution_count": 67,
   "metadata": {
    "hidden": true
   },
   "outputs": [
    {
     "data": {
      "text/plain": [
       "1.2700175463700363"
      ]
     },
     "execution_count": 67,
     "metadata": {},
     "output_type": "execute_result"
    }
   ],
   "source": [
    "df['评分'].std()"
   ]
  },
  {
   "cell_type": "markdown",
   "metadata": {
    "heading_collapsed": true,
    "hidden": true
   },
   "source": [
    "##### 求和"
   ]
  },
  {
   "cell_type": "code",
   "execution_count": 69,
   "metadata": {
    "hidden": true
   },
   "outputs": [
    {
     "data": {
      "text/plain": [
       "239750203"
      ]
     },
     "execution_count": 69,
     "metadata": {},
     "output_type": "execute_result"
    }
   ],
   "source": [
    "df['投票人数'].sum()"
   ]
  },
  {
   "cell_type": "markdown",
   "metadata": {
    "heading_collapsed": true,
    "hidden": true
   },
   "source": [
    "##### 相关系数、协方差"
   ]
  },
  {
   "cell_type": "code",
   "execution_count": 71,
   "metadata": {
    "hidden": true,
    "scrolled": true
   },
   "outputs": [
    {
     "data": {
      "text/html": [
       "<div>\n",
       "<style scoped>\n",
       "    .dataframe tbody tr th:only-of-type {\n",
       "        vertical-align: middle;\n",
       "    }\n",
       "\n",
       "    .dataframe tbody tr th {\n",
       "        vertical-align: top;\n",
       "    }\n",
       "\n",
       "    .dataframe thead th {\n",
       "        text-align: right;\n",
       "    }\n",
       "</style>\n",
       "<table border=\"1\" class=\"dataframe\">\n",
       "  <thead>\n",
       "    <tr style=\"text-align: right;\">\n",
       "      <th></th>\n",
       "      <th>投票人数</th>\n",
       "      <th>评分</th>\n",
       "    </tr>\n",
       "  </thead>\n",
       "  <tbody>\n",
       "    <tr>\n",
       "      <th>投票人数</th>\n",
       "      <td>1.000000</td>\n",
       "      <td>0.122925</td>\n",
       "    </tr>\n",
       "    <tr>\n",
       "      <th>评分</th>\n",
       "      <td>0.122925</td>\n",
       "      <td>1.000000</td>\n",
       "    </tr>\n",
       "  </tbody>\n",
       "</table>\n",
       "</div>"
      ],
      "text/plain": [
       "          投票人数        评分\n",
       "投票人数  1.000000  0.122925\n",
       "评分    0.122925  1.000000"
      ]
     },
     "execution_count": 71,
     "metadata": {},
     "output_type": "execute_result"
    }
   ],
   "source": [
    "## 相关性\n",
    "df[['投票人数','评分']].corr()"
   ]
  },
  {
   "cell_type": "code",
   "execution_count": 72,
   "metadata": {
    "hidden": true
   },
   "outputs": [
    {
     "data": {
      "text/html": [
       "<div>\n",
       "<style scoped>\n",
       "    .dataframe tbody tr th:only-of-type {\n",
       "        vertical-align: middle;\n",
       "    }\n",
       "\n",
       "    .dataframe tbody tr th {\n",
       "        vertical-align: top;\n",
       "    }\n",
       "\n",
       "    .dataframe thead th {\n",
       "        text-align: right;\n",
       "    }\n",
       "</style>\n",
       "<table border=\"1\" class=\"dataframe\">\n",
       "  <thead>\n",
       "    <tr style=\"text-align: right;\">\n",
       "      <th></th>\n",
       "      <th>投票人数</th>\n",
       "      <th>评分</th>\n",
       "    </tr>\n",
       "  </thead>\n",
       "  <tbody>\n",
       "    <tr>\n",
       "      <th>投票人数</th>\n",
       "      <td>6.839710e+08</td>\n",
       "      <td>4082.897271</td>\n",
       "    </tr>\n",
       "    <tr>\n",
       "      <th>评分</th>\n",
       "      <td>4.082897e+03</td>\n",
       "      <td>1.612945</td>\n",
       "    </tr>\n",
       "  </tbody>\n",
       "</table>\n",
       "</div>"
      ],
      "text/plain": [
       "              投票人数           评分\n",
       "投票人数  6.839710e+08  4082.897271\n",
       "评分    4.082897e+03     1.612945"
      ]
     },
     "execution_count": 72,
     "metadata": {},
     "output_type": "execute_result"
    }
   ],
   "source": [
    "## 协方差\n",
    "df[['投票人数','评分']].cov()"
   ]
  },
  {
   "cell_type": "markdown",
   "metadata": {
    "heading_collapsed": true,
    "hidden": true
   },
   "source": [
    "##### 计数\n",
    "##### 数据替换"
   ]
  },
  {
   "cell_type": "code",
   "execution_count": 73,
   "metadata": {
    "hidden": true
   },
   "outputs": [
    {
     "data": {
      "text/plain": [
       "38730"
      ]
     },
     "execution_count": 73,
     "metadata": {},
     "output_type": "execute_result"
    }
   ],
   "source": [
    "len(df)"
   ]
  },
  {
   "cell_type": "code",
   "execution_count": 75,
   "metadata": {
    "hidden": true
   },
   "outputs": [
    {
     "data": {
      "text/plain": [
       "array(['美国', '意大利', '中国大陆', '日本', '法国', '英国', '韩国', '中国香港', '阿根廷', '德国',\n",
       "       '印度', '其他', '加拿大', '波兰', '泰国', '澳大利亚', '西班牙', '俄罗斯', '中国台湾', '荷兰',\n",
       "       '丹麦', '比利时', 'USA', '苏联', '墨西哥', '巴西', '瑞典', '西德'], dtype=object)"
      ]
     },
     "execution_count": 75,
     "metadata": {},
     "output_type": "execute_result"
    }
   ],
   "source": [
    "## 某列的所有取值\n",
    "df['产地'].unique()"
   ]
  },
  {
   "cell_type": "code",
   "execution_count": 76,
   "metadata": {
    "hidden": true
   },
   "outputs": [
    {
     "data": {
      "text/plain": [
       "28"
      ]
     },
     "execution_count": 76,
     "metadata": {},
     "output_type": "execute_result"
    }
   ],
   "source": [
    "len(df['产地'].unique())"
   ]
  },
  {
   "cell_type": "markdown",
   "metadata": {
    "hidden": true
   },
   "source": [
    "产地中包含了一些重复数据，比如美国和USA，德国和西德，俄罗斯和苏联"
   ]
  },
  {
   "cell_type": "markdown",
   "metadata": {
    "hidden": true
   },
   "source": [
    "我们可以通过数据替换的方法将这些相同的国家的电影数据合并一下"
   ]
  },
  {
   "cell_type": "code",
   "execution_count": 83,
   "metadata": {
    "hidden": true
   },
   "outputs": [
    {
     "data": {
      "text/plain": [
       "24"
      ]
     },
     "execution_count": 83,
     "metadata": {},
     "output_type": "execute_result"
    }
   ],
   "source": [
    "df['产地'].replace('USA','美国',inplace=True)\n",
    "df['产地'].replace(['西德','苏联'],['德国','俄罗斯'],inplace=True)\n",
    "len(df['产地'].unique())"
   ]
  },
  {
   "cell_type": "markdown",
   "metadata": {
    "hidden": true
   },
   "source": [
    "计算每一年代电影的数量"
   ]
  },
  {
   "cell_type": "code",
   "execution_count": 86,
   "metadata": {
    "hidden": true,
    "scrolled": true
   },
   "outputs": [
    {
     "data": {
      "text/plain": [
       "2012    2042\n",
       "2013    2001\n",
       "2008    1963\n",
       "2014    1887\n",
       "2010    1886\n",
       "2011    1866\n",
       "2009    1862\n",
       "2007    1711\n",
       "2015    1592\n",
       "2006    1515\n",
       "Name: 年代, dtype: int64"
      ]
     },
     "execution_count": 86,
     "metadata": {},
     "output_type": "execute_result"
    }
   ],
   "source": [
    "df['年代'].value_counts()[:10]"
   ]
  },
  {
   "cell_type": "markdown",
   "metadata": {
    "hidden": true
   },
   "source": [
    "电影产出前5位的国家或地区"
   ]
  },
  {
   "cell_type": "code",
   "execution_count": 87,
   "metadata": {
    "hidden": true
   },
   "outputs": [
    {
     "data": {
      "text/plain": [
       "美国      11979\n",
       "日本       5051\n",
       "中国大陆     3802\n",
       "中国香港     2851\n",
       "法国       2816\n",
       "Name: 产地, dtype: int64"
      ]
     },
     "execution_count": 87,
     "metadata": {},
     "output_type": "execute_result"
    }
   ],
   "source": [
    "df['产地'].value_counts()[:5]"
   ]
  },
  {
   "cell_type": "code",
   "execution_count": 88,
   "metadata": {
    "hidden": true
   },
   "outputs": [],
   "source": [
    "df.to_excel('./movie_data2.xlsx')"
   ]
  },
  {
   "cell_type": "markdown",
   "metadata": {
    "heading_collapsed": true,
    "hidden": true
   },
   "source": [
    "#### 3.1.4 数据透视"
   ]
  },
  {
   "cell_type": "markdown",
   "metadata": {
    "hidden": true
   },
   "source": [
    "Pandas提供了一个数据透视表功能，名为pivot_table。<br>\n",
    "使用pivot_table的一个挑战是，你需要确保你理解你的数据，并清楚的知道你通过透视表解决了什么问题，虽然pivot_table看起来知识一个简单的函数，但是它能够快速的对数据进行强大的分析。"
   ]
  },
  {
   "cell_type": "markdown",
   "metadata": {
    "heading_collapsed": true,
    "hidden": true
   },
   "source": [
    "##### 基础形式"
   ]
  },
  {
   "cell_type": "code",
   "execution_count": 91,
   "metadata": {
    "hidden": true
   },
   "outputs": [],
   "source": [
    "pd.set_option('max_columns',100)  ##设置显示的最大列\n",
    "pd.set_option('max_rows',500)  ##设置显示的最大行"
   ]
  },
  {
   "cell_type": "code",
   "execution_count": 92,
   "metadata": {
    "hidden": true,
    "scrolled": true
   },
   "outputs": [
    {
     "data": {
      "text/html": [
       "<div>\n",
       "<style scoped>\n",
       "    .dataframe tbody tr th:only-of-type {\n",
       "        vertical-align: middle;\n",
       "    }\n",
       "\n",
       "    .dataframe tbody tr th {\n",
       "        vertical-align: top;\n",
       "    }\n",
       "\n",
       "    .dataframe thead th {\n",
       "        text-align: right;\n",
       "    }\n",
       "</style>\n",
       "<table border=\"1\" class=\"dataframe\">\n",
       "  <thead>\n",
       "    <tr style=\"text-align: right;\">\n",
       "      <th></th>\n",
       "      <th>投票人数</th>\n",
       "      <th>时长</th>\n",
       "      <th>评分</th>\n",
       "    </tr>\n",
       "    <tr>\n",
       "      <th>年代</th>\n",
       "      <th></th>\n",
       "      <th></th>\n",
       "      <th></th>\n",
       "    </tr>\n",
       "  </thead>\n",
       "  <tbody>\n",
       "    <tr>\n",
       "      <th>1888</th>\n",
       "      <td>388.000000</td>\n",
       "      <td>60.000000</td>\n",
       "      <td>7.950000</td>\n",
       "    </tr>\n",
       "    <tr>\n",
       "      <th>1890</th>\n",
       "      <td>51.000000</td>\n",
       "      <td>60.000000</td>\n",
       "      <td>4.800000</td>\n",
       "    </tr>\n",
       "    <tr>\n",
       "      <th>1892</th>\n",
       "      <td>176.000000</td>\n",
       "      <td>60.000000</td>\n",
       "      <td>7.500000</td>\n",
       "    </tr>\n",
       "    <tr>\n",
       "      <th>1894</th>\n",
       "      <td>112.666667</td>\n",
       "      <td>60.000000</td>\n",
       "      <td>6.633333</td>\n",
       "    </tr>\n",
       "    <tr>\n",
       "      <th>1895</th>\n",
       "      <td>959.875000</td>\n",
       "      <td>60.000000</td>\n",
       "      <td>7.575000</td>\n",
       "    </tr>\n",
       "    <tr>\n",
       "      <th>1896</th>\n",
       "      <td>984.250000</td>\n",
       "      <td>60.000000</td>\n",
       "      <td>7.037500</td>\n",
       "    </tr>\n",
       "    <tr>\n",
       "      <th>1897</th>\n",
       "      <td>67.000000</td>\n",
       "      <td>60.000000</td>\n",
       "      <td>6.633333</td>\n",
       "    </tr>\n",
       "    <tr>\n",
       "      <th>1898</th>\n",
       "      <td>578.500000</td>\n",
       "      <td>60.000000</td>\n",
       "      <td>7.450000</td>\n",
       "    </tr>\n",
       "    <tr>\n",
       "      <th>1899</th>\n",
       "      <td>71.000000</td>\n",
       "      <td>9.500000</td>\n",
       "      <td>6.900000</td>\n",
       "    </tr>\n",
       "    <tr>\n",
       "      <th>1900</th>\n",
       "      <td>175.285714</td>\n",
       "      <td>36.714286</td>\n",
       "      <td>7.228571</td>\n",
       "    </tr>\n",
       "    <tr>\n",
       "      <th>1901</th>\n",
       "      <td>164.500000</td>\n",
       "      <td>47.250000</td>\n",
       "      <td>7.250000</td>\n",
       "    </tr>\n",
       "    <tr>\n",
       "      <th>1902</th>\n",
       "      <td>1934.166667</td>\n",
       "      <td>34.666667</td>\n",
       "      <td>7.483333</td>\n",
       "    </tr>\n",
       "    <tr>\n",
       "      <th>1903</th>\n",
       "      <td>295.625000</td>\n",
       "      <td>29.625000</td>\n",
       "      <td>6.968750</td>\n",
       "    </tr>\n",
       "    <tr>\n",
       "      <th>1904</th>\n",
       "      <td>195.875000</td>\n",
       "      <td>41.250000</td>\n",
       "      <td>7.212500</td>\n",
       "    </tr>\n",
       "    <tr>\n",
       "      <th>1905</th>\n",
       "      <td>332.600000</td>\n",
       "      <td>43.800000</td>\n",
       "      <td>6.820000</td>\n",
       "    </tr>\n",
       "    <tr>\n",
       "      <th>1906</th>\n",
       "      <td>189.857143</td>\n",
       "      <td>30.571429</td>\n",
       "      <td>7.342857</td>\n",
       "    </tr>\n",
       "    <tr>\n",
       "      <th>1907</th>\n",
       "      <td>213.600000</td>\n",
       "      <td>31.800000</td>\n",
       "      <td>7.020000</td>\n",
       "    </tr>\n",
       "    <tr>\n",
       "      <th>1908</th>\n",
       "      <td>258.833333</td>\n",
       "      <td>34.166667</td>\n",
       "      <td>7.150000</td>\n",
       "    </tr>\n",
       "    <tr>\n",
       "      <th>1909</th>\n",
       "      <td>58.600000</td>\n",
       "      <td>20.600000</td>\n",
       "      <td>7.560000</td>\n",
       "    </tr>\n",
       "    <tr>\n",
       "      <th>1910</th>\n",
       "      <td>105.200000</td>\n",
       "      <td>41.800000</td>\n",
       "      <td>6.940000</td>\n",
       "    </tr>\n",
       "    <tr>\n",
       "      <th>1911</th>\n",
       "      <td>240.000000</td>\n",
       "      <td>25.750000</td>\n",
       "      <td>7.375000</td>\n",
       "    </tr>\n",
       "    <tr>\n",
       "      <th>1912</th>\n",
       "      <td>152.200000</td>\n",
       "      <td>16.400000</td>\n",
       "      <td>7.920000</td>\n",
       "    </tr>\n",
       "    <tr>\n",
       "      <th>1913</th>\n",
       "      <td>66.125000</td>\n",
       "      <td>57.750000</td>\n",
       "      <td>6.862500</td>\n",
       "    </tr>\n",
       "    <tr>\n",
       "      <th>1914</th>\n",
       "      <td>104.923077</td>\n",
       "      <td>25.923077</td>\n",
       "      <td>6.473077</td>\n",
       "    </tr>\n",
       "    <tr>\n",
       "      <th>1915</th>\n",
       "      <td>314.900000</td>\n",
       "      <td>56.800000</td>\n",
       "      <td>7.260000</td>\n",
       "    </tr>\n",
       "    <tr>\n",
       "      <th>1916</th>\n",
       "      <td>613.666667</td>\n",
       "      <td>43.833333</td>\n",
       "      <td>7.758333</td>\n",
       "    </tr>\n",
       "    <tr>\n",
       "      <th>1917</th>\n",
       "      <td>124.416667</td>\n",
       "      <td>31.333333</td>\n",
       "      <td>7.075000</td>\n",
       "    </tr>\n",
       "    <tr>\n",
       "      <th>1918</th>\n",
       "      <td>357.083333</td>\n",
       "      <td>35.166667</td>\n",
       "      <td>7.200000</td>\n",
       "    </tr>\n",
       "    <tr>\n",
       "      <th>1919</th>\n",
       "      <td>179.850000</td>\n",
       "      <td>62.400000</td>\n",
       "      <td>7.490000</td>\n",
       "    </tr>\n",
       "    <tr>\n",
       "      <th>1920</th>\n",
       "      <td>636.500000</td>\n",
       "      <td>59.357143</td>\n",
       "      <td>7.492857</td>\n",
       "    </tr>\n",
       "    <tr>\n",
       "      <th>1921</th>\n",
       "      <td>729.818182</td>\n",
       "      <td>57.363636</td>\n",
       "      <td>7.750000</td>\n",
       "    </tr>\n",
       "    <tr>\n",
       "      <th>1922</th>\n",
       "      <td>767.090909</td>\n",
       "      <td>66.363636</td>\n",
       "      <td>7.804545</td>\n",
       "    </tr>\n",
       "    <tr>\n",
       "      <th>1923</th>\n",
       "      <td>426.000000</td>\n",
       "      <td>74.055556</td>\n",
       "      <td>7.883333</td>\n",
       "    </tr>\n",
       "    <tr>\n",
       "      <th>1924</th>\n",
       "      <td>371.785714</td>\n",
       "      <td>81.178571</td>\n",
       "      <td>8.053571</td>\n",
       "    </tr>\n",
       "    <tr>\n",
       "      <th>1925</th>\n",
       "      <td>1104.280000</td>\n",
       "      <td>84.440000</td>\n",
       "      <td>7.788000</td>\n",
       "    </tr>\n",
       "    <tr>\n",
       "      <th>1926</th>\n",
       "      <td>443.608696</td>\n",
       "      <td>80.304348</td>\n",
       "      <td>7.773913</td>\n",
       "    </tr>\n",
       "    <tr>\n",
       "      <th>1927</th>\n",
       "      <td>695.275862</td>\n",
       "      <td>87.241379</td>\n",
       "      <td>7.751724</td>\n",
       "    </tr>\n",
       "    <tr>\n",
       "      <th>1928</th>\n",
       "      <td>404.825000</td>\n",
       "      <td>71.775000</td>\n",
       "      <td>7.945000</td>\n",
       "    </tr>\n",
       "    <tr>\n",
       "      <th>1929</th>\n",
       "      <td>740.542857</td>\n",
       "      <td>69.371429</td>\n",
       "      <td>7.440000</td>\n",
       "    </tr>\n",
       "    <tr>\n",
       "      <th>1930</th>\n",
       "      <td>555.080000</td>\n",
       "      <td>74.160000</td>\n",
       "      <td>7.360000</td>\n",
       "    </tr>\n",
       "    <tr>\n",
       "      <th>1931</th>\n",
       "      <td>1468.666667</td>\n",
       "      <td>78.523810</td>\n",
       "      <td>7.483333</td>\n",
       "    </tr>\n",
       "    <tr>\n",
       "      <th>1932</th>\n",
       "      <td>600.081081</td>\n",
       "      <td>77.540541</td>\n",
       "      <td>7.294595</td>\n",
       "    </tr>\n",
       "    <tr>\n",
       "      <th>1933</th>\n",
       "      <td>729.720000</td>\n",
       "      <td>76.360000</td>\n",
       "      <td>7.430000</td>\n",
       "    </tr>\n",
       "    <tr>\n",
       "      <th>1934</th>\n",
       "      <td>776.490196</td>\n",
       "      <td>83.196078</td>\n",
       "      <td>7.519608</td>\n",
       "    </tr>\n",
       "    <tr>\n",
       "      <th>1935</th>\n",
       "      <td>887.695652</td>\n",
       "      <td>73.673913</td>\n",
       "      <td>7.515217</td>\n",
       "    </tr>\n",
       "    <tr>\n",
       "      <th>1936</th>\n",
       "      <td>1465.466667</td>\n",
       "      <td>76.266667</td>\n",
       "      <td>7.635000</td>\n",
       "    </tr>\n",
       "    <tr>\n",
       "      <th>1937</th>\n",
       "      <td>1580.224490</td>\n",
       "      <td>85.510204</td>\n",
       "      <td>7.575510</td>\n",
       "    </tr>\n",
       "    <tr>\n",
       "      <th>1938</th>\n",
       "      <td>552.000000</td>\n",
       "      <td>85.973684</td>\n",
       "      <td>7.736842</td>\n",
       "    </tr>\n",
       "    <tr>\n",
       "      <th>1939</th>\n",
       "      <td>5911.857143</td>\n",
       "      <td>97.387755</td>\n",
       "      <td>7.520408</td>\n",
       "    </tr>\n",
       "    <tr>\n",
       "      <th>1940</th>\n",
       "      <td>5548.743590</td>\n",
       "      <td>92.820513</td>\n",
       "      <td>7.571795</td>\n",
       "    </tr>\n",
       "    <tr>\n",
       "      <th>1941</th>\n",
       "      <td>1552.808511</td>\n",
       "      <td>89.127660</td>\n",
       "      <td>7.427660</td>\n",
       "    </tr>\n",
       "    <tr>\n",
       "      <th>1942</th>\n",
       "      <td>2607.754717</td>\n",
       "      <td>78.264151</td>\n",
       "      <td>7.554717</td>\n",
       "    </tr>\n",
       "    <tr>\n",
       "      <th>1943</th>\n",
       "      <td>742.842105</td>\n",
       "      <td>78.456140</td>\n",
       "      <td>7.615789</td>\n",
       "    </tr>\n",
       "    <tr>\n",
       "      <th>1944</th>\n",
       "      <td>1007.370370</td>\n",
       "      <td>81.925926</td>\n",
       "      <td>7.538889</td>\n",
       "    </tr>\n",
       "    <tr>\n",
       "      <th>1945</th>\n",
       "      <td>989.020408</td>\n",
       "      <td>86.959184</td>\n",
       "      <td>7.673469</td>\n",
       "    </tr>\n",
       "    <tr>\n",
       "      <th>1946</th>\n",
       "      <td>1034.457627</td>\n",
       "      <td>85.016949</td>\n",
       "      <td>7.606780</td>\n",
       "    </tr>\n",
       "    <tr>\n",
       "      <th>1947</th>\n",
       "      <td>439.400000</td>\n",
       "      <td>87.120000</td>\n",
       "      <td>7.453333</td>\n",
       "    </tr>\n",
       "    <tr>\n",
       "      <th>1948</th>\n",
       "      <td>1186.505747</td>\n",
       "      <td>88.206897</td>\n",
       "      <td>7.657471</td>\n",
       "    </tr>\n",
       "    <tr>\n",
       "      <th>1949</th>\n",
       "      <td>641.685393</td>\n",
       "      <td>81.988764</td>\n",
       "      <td>7.646067</td>\n",
       "    </tr>\n",
       "    <tr>\n",
       "      <th>1950</th>\n",
       "      <td>2235.026316</td>\n",
       "      <td>80.157895</td>\n",
       "      <td>7.655263</td>\n",
       "    </tr>\n",
       "    <tr>\n",
       "      <th>1951</th>\n",
       "      <td>956.101266</td>\n",
       "      <td>85.632911</td>\n",
       "      <td>7.636709</td>\n",
       "    </tr>\n",
       "    <tr>\n",
       "      <th>1952</th>\n",
       "      <td>1473.540230</td>\n",
       "      <td>81.528736</td>\n",
       "      <td>7.743678</td>\n",
       "    </tr>\n",
       "    <tr>\n",
       "      <th>1953</th>\n",
       "      <td>4786.113636</td>\n",
       "      <td>84.170455</td>\n",
       "      <td>7.567045</td>\n",
       "    </tr>\n",
       "    <tr>\n",
       "      <th>1954</th>\n",
       "      <td>2180.245098</td>\n",
       "      <td>85.549020</td>\n",
       "      <td>7.702941</td>\n",
       "    </tr>\n",
       "    <tr>\n",
       "      <th>1955</th>\n",
       "      <td>1983.739130</td>\n",
       "      <td>83.669565</td>\n",
       "      <td>7.580000</td>\n",
       "    </tr>\n",
       "    <tr>\n",
       "      <th>1956</th>\n",
       "      <td>1054.605442</td>\n",
       "      <td>76.408163</td>\n",
       "      <td>7.600000</td>\n",
       "    </tr>\n",
       "    <tr>\n",
       "      <th>1957</th>\n",
       "      <td>2973.579439</td>\n",
       "      <td>87.355140</td>\n",
       "      <td>7.652336</td>\n",
       "    </tr>\n",
       "    <tr>\n",
       "      <th>1958</th>\n",
       "      <td>886.196721</td>\n",
       "      <td>82.975410</td>\n",
       "      <td>7.536885</td>\n",
       "    </tr>\n",
       "    <tr>\n",
       "      <th>1959</th>\n",
       "      <td>1725.070312</td>\n",
       "      <td>90.070312</td>\n",
       "      <td>7.571875</td>\n",
       "    </tr>\n",
       "    <tr>\n",
       "      <th>1960</th>\n",
       "      <td>1446.274809</td>\n",
       "      <td>101.312977</td>\n",
       "      <td>7.569466</td>\n",
       "    </tr>\n",
       "    <tr>\n",
       "      <th>1961</th>\n",
       "      <td>3186.833333</td>\n",
       "      <td>98.215686</td>\n",
       "      <td>7.744118</td>\n",
       "    </tr>\n",
       "    <tr>\n",
       "      <th>1962</th>\n",
       "      <td>1972.118881</td>\n",
       "      <td>91.615385</td>\n",
       "      <td>7.704895</td>\n",
       "    </tr>\n",
       "    <tr>\n",
       "      <th>1963</th>\n",
       "      <td>1184.027972</td>\n",
       "      <td>92.020979</td>\n",
       "      <td>7.536364</td>\n",
       "    </tr>\n",
       "    <tr>\n",
       "      <th>1964</th>\n",
       "      <td>1107.763736</td>\n",
       "      <td>89.714286</td>\n",
       "      <td>7.523077</td>\n",
       "    </tr>\n",
       "    <tr>\n",
       "      <th>1965</th>\n",
       "      <td>1988.184049</td>\n",
       "      <td>90.478528</td>\n",
       "      <td>7.576074</td>\n",
       "    </tr>\n",
       "    <tr>\n",
       "      <th>1966</th>\n",
       "      <td>1319.525140</td>\n",
       "      <td>89.486034</td>\n",
       "      <td>7.518994</td>\n",
       "    </tr>\n",
       "    <tr>\n",
       "      <th>1967</th>\n",
       "      <td>1237.289773</td>\n",
       "      <td>91.590909</td>\n",
       "      <td>7.484659</td>\n",
       "    </tr>\n",
       "    <tr>\n",
       "      <th>1968</th>\n",
       "      <td>1096.220930</td>\n",
       "      <td>91.744186</td>\n",
       "      <td>7.317442</td>\n",
       "    </tr>\n",
       "    <tr>\n",
       "      <th>1969</th>\n",
       "      <td>593.111111</td>\n",
       "      <td>98.666667</td>\n",
       "      <td>7.370048</td>\n",
       "    </tr>\n",
       "    <tr>\n",
       "      <th>1970</th>\n",
       "      <td>676.789474</td>\n",
       "      <td>96.973684</td>\n",
       "      <td>7.291053</td>\n",
       "    </tr>\n",
       "    <tr>\n",
       "      <th>1971</th>\n",
       "      <td>1368.506849</td>\n",
       "      <td>96.315068</td>\n",
       "      <td>7.155708</td>\n",
       "    </tr>\n",
       "    <tr>\n",
       "      <th>1972</th>\n",
       "      <td>2299.096618</td>\n",
       "      <td>96.289855</td>\n",
       "      <td>7.268116</td>\n",
       "    </tr>\n",
       "    <tr>\n",
       "      <th>1973</th>\n",
       "      <td>800.103286</td>\n",
       "      <td>94.882629</td>\n",
       "      <td>7.250235</td>\n",
       "    </tr>\n",
       "    <tr>\n",
       "      <th>1974</th>\n",
       "      <td>1685.789238</td>\n",
       "      <td>95.318386</td>\n",
       "      <td>7.062332</td>\n",
       "    </tr>\n",
       "    <tr>\n",
       "      <th>1975</th>\n",
       "      <td>2222.739796</td>\n",
       "      <td>97.566327</td>\n",
       "      <td>7.071429</td>\n",
       "    </tr>\n",
       "    <tr>\n",
       "      <th>1976</th>\n",
       "      <td>1340.618026</td>\n",
       "      <td>95.055794</td>\n",
       "      <td>7.107725</td>\n",
       "    </tr>\n",
       "    <tr>\n",
       "      <th>1977</th>\n",
       "      <td>957.127273</td>\n",
       "      <td>98.031818</td>\n",
       "      <td>7.148182</td>\n",
       "    </tr>\n",
       "    <tr>\n",
       "      <th>1978</th>\n",
       "      <td>1001.820896</td>\n",
       "      <td>94.467662</td>\n",
       "      <td>7.096517</td>\n",
       "    </tr>\n",
       "    <tr>\n",
       "      <th>1979</th>\n",
       "      <td>1878.621145</td>\n",
       "      <td>96.000000</td>\n",
       "      <td>7.296035</td>\n",
       "    </tr>\n",
       "    <tr>\n",
       "      <th>1980</th>\n",
       "      <td>2407.683036</td>\n",
       "      <td>94.178571</td>\n",
       "      <td>7.186607</td>\n",
       "    </tr>\n",
       "    <tr>\n",
       "      <th>1981</th>\n",
       "      <td>1609.062044</td>\n",
       "      <td>93.321168</td>\n",
       "      <td>7.157299</td>\n",
       "    </tr>\n",
       "    <tr>\n",
       "      <th>1982</th>\n",
       "      <td>2142.729323</td>\n",
       "      <td>91.984962</td>\n",
       "      <td>7.297368</td>\n",
       "    </tr>\n",
       "    <tr>\n",
       "      <th>1983</th>\n",
       "      <td>1541.191336</td>\n",
       "      <td>92.169675</td>\n",
       "      <td>7.310108</td>\n",
       "    </tr>\n",
       "    <tr>\n",
       "      <th>1984</th>\n",
       "      <td>2667.173469</td>\n",
       "      <td>90.918367</td>\n",
       "      <td>7.375170</td>\n",
       "    </tr>\n",
       "    <tr>\n",
       "      <th>1985</th>\n",
       "      <td>1588.096573</td>\n",
       "      <td>93.616822</td>\n",
       "      <td>7.278505</td>\n",
       "    </tr>\n",
       "    <tr>\n",
       "      <th>1986</th>\n",
       "      <td>2828.506173</td>\n",
       "      <td>89.145062</td>\n",
       "      <td>7.256790</td>\n",
       "    </tr>\n",
       "    <tr>\n",
       "      <th>1987</th>\n",
       "      <td>3128.775510</td>\n",
       "      <td>88.938776</td>\n",
       "      <td>7.284548</td>\n",
       "    </tr>\n",
       "    <tr>\n",
       "      <th>1988</th>\n",
       "      <td>4800.227621</td>\n",
       "      <td>88.859335</td>\n",
       "      <td>7.265729</td>\n",
       "    </tr>\n",
       "    <tr>\n",
       "      <th>1989</th>\n",
       "      <td>2994.417303</td>\n",
       "      <td>88.458015</td>\n",
       "      <td>7.210687</td>\n",
       "    </tr>\n",
       "    <tr>\n",
       "      <th>1990</th>\n",
       "      <td>4965.587786</td>\n",
       "      <td>91.882952</td>\n",
       "      <td>7.149109</td>\n",
       "    </tr>\n",
       "    <tr>\n",
       "      <th>1991</th>\n",
       "      <td>4685.819512</td>\n",
       "      <td>93.370732</td>\n",
       "      <td>7.154634</td>\n",
       "    </tr>\n",
       "    <tr>\n",
       "      <th>1992</th>\n",
       "      <td>5486.133333</td>\n",
       "      <td>92.572414</td>\n",
       "      <td>7.223678</td>\n",
       "    </tr>\n",
       "    <tr>\n",
       "      <th>1993</th>\n",
       "      <td>8117.759637</td>\n",
       "      <td>95.269841</td>\n",
       "      <td>7.195692</td>\n",
       "    </tr>\n",
       "    <tr>\n",
       "      <th>1994</th>\n",
       "      <td>11479.255061</td>\n",
       "      <td>91.344130</td>\n",
       "      <td>7.262348</td>\n",
       "    </tr>\n",
       "    <tr>\n",
       "      <th>1995</th>\n",
       "      <td>8132.605317</td>\n",
       "      <td>94.441718</td>\n",
       "      <td>7.289366</td>\n",
       "    </tr>\n",
       "    <tr>\n",
       "      <th>1996</th>\n",
       "      <td>5095.883946</td>\n",
       "      <td>95.243714</td>\n",
       "      <td>7.258801</td>\n",
       "    </tr>\n",
       "    <tr>\n",
       "      <th>1997</th>\n",
       "      <td>8243.938547</td>\n",
       "      <td>94.970205</td>\n",
       "      <td>7.330168</td>\n",
       "    </tr>\n",
       "    <tr>\n",
       "      <th>1998</th>\n",
       "      <td>7431.790295</td>\n",
       "      <td>91.131716</td>\n",
       "      <td>7.238302</td>\n",
       "    </tr>\n",
       "    <tr>\n",
       "      <th>1999</th>\n",
       "      <td>7137.049600</td>\n",
       "      <td>92.457600</td>\n",
       "      <td>7.188000</td>\n",
       "    </tr>\n",
       "    <tr>\n",
       "      <th>2000</th>\n",
       "      <td>5907.770178</td>\n",
       "      <td>92.191518</td>\n",
       "      <td>7.134063</td>\n",
       "    </tr>\n",
       "    <tr>\n",
       "      <th>2001</th>\n",
       "      <td>8489.757246</td>\n",
       "      <td>90.958937</td>\n",
       "      <td>7.110145</td>\n",
       "    </tr>\n",
       "    <tr>\n",
       "      <th>2002</th>\n",
       "      <td>6552.593333</td>\n",
       "      <td>91.584444</td>\n",
       "      <td>7.069778</td>\n",
       "    </tr>\n",
       "    <tr>\n",
       "      <th>2003</th>\n",
       "      <td>7891.964248</td>\n",
       "      <td>90.558360</td>\n",
       "      <td>7.137750</td>\n",
       "    </tr>\n",
       "    <tr>\n",
       "      <th>2004</th>\n",
       "      <td>8587.632599</td>\n",
       "      <td>90.424670</td>\n",
       "      <td>7.031366</td>\n",
       "    </tr>\n",
       "    <tr>\n",
       "      <th>2005</th>\n",
       "      <td>6506.110847</td>\n",
       "      <td>92.080760</td>\n",
       "      <td>7.030008</td>\n",
       "    </tr>\n",
       "    <tr>\n",
       "      <th>2006</th>\n",
       "      <td>7278.260726</td>\n",
       "      <td>90.144554</td>\n",
       "      <td>6.914719</td>\n",
       "    </tr>\n",
       "    <tr>\n",
       "      <th>2007</th>\n",
       "      <td>6253.837522</td>\n",
       "      <td>86.628288</td>\n",
       "      <td>6.875102</td>\n",
       "    </tr>\n",
       "    <tr>\n",
       "      <th>2008</th>\n",
       "      <td>6750.996943</td>\n",
       "      <td>85.144167</td>\n",
       "      <td>6.910647</td>\n",
       "    </tr>\n",
       "    <tr>\n",
       "      <th>2009</th>\n",
       "      <td>8716.364662</td>\n",
       "      <td>86.384533</td>\n",
       "      <td>6.750000</td>\n",
       "    </tr>\n",
       "    <tr>\n",
       "      <th>2010</th>\n",
       "      <td>9576.387593</td>\n",
       "      <td>83.434252</td>\n",
       "      <td>6.770361</td>\n",
       "    </tr>\n",
       "    <tr>\n",
       "      <th>2011</th>\n",
       "      <td>8763.110397</td>\n",
       "      <td>84.125938</td>\n",
       "      <td>6.577010</td>\n",
       "    </tr>\n",
       "    <tr>\n",
       "      <th>2012</th>\n",
       "      <td>7082.787463</td>\n",
       "      <td>85.099902</td>\n",
       "      <td>6.458374</td>\n",
       "    </tr>\n",
       "    <tr>\n",
       "      <th>2013</th>\n",
       "      <td>7603.723138</td>\n",
       "      <td>84.902049</td>\n",
       "      <td>6.392604</td>\n",
       "    </tr>\n",
       "    <tr>\n",
       "      <th>2014</th>\n",
       "      <td>7723.302597</td>\n",
       "      <td>85.997880</td>\n",
       "      <td>6.259777</td>\n",
       "    </tr>\n",
       "    <tr>\n",
       "      <th>2015</th>\n",
       "      <td>7841.408291</td>\n",
       "      <td>89.863693</td>\n",
       "      <td>6.141960</td>\n",
       "    </tr>\n",
       "    <tr>\n",
       "      <th>2016</th>\n",
       "      <td>7176.019380</td>\n",
       "      <td>91.329457</td>\n",
       "      <td>5.868217</td>\n",
       "    </tr>\n",
       "    <tr>\n",
       "      <th>2017</th>\n",
       "      <td>123456.000000</td>\n",
       "      <td>142.000000</td>\n",
       "      <td>6.935704</td>\n",
       "    </tr>\n",
       "  </tbody>\n",
       "</table>\n",
       "</div>"
      ],
      "text/plain": [
       "               投票人数          时长        评分\n",
       "年代                                       \n",
       "1888     388.000000   60.000000  7.950000\n",
       "1890      51.000000   60.000000  4.800000\n",
       "1892     176.000000   60.000000  7.500000\n",
       "1894     112.666667   60.000000  6.633333\n",
       "1895     959.875000   60.000000  7.575000\n",
       "1896     984.250000   60.000000  7.037500\n",
       "1897      67.000000   60.000000  6.633333\n",
       "1898     578.500000   60.000000  7.450000\n",
       "1899      71.000000    9.500000  6.900000\n",
       "1900     175.285714   36.714286  7.228571\n",
       "1901     164.500000   47.250000  7.250000\n",
       "1902    1934.166667   34.666667  7.483333\n",
       "1903     295.625000   29.625000  6.968750\n",
       "1904     195.875000   41.250000  7.212500\n",
       "1905     332.600000   43.800000  6.820000\n",
       "1906     189.857143   30.571429  7.342857\n",
       "1907     213.600000   31.800000  7.020000\n",
       "1908     258.833333   34.166667  7.150000\n",
       "1909      58.600000   20.600000  7.560000\n",
       "1910     105.200000   41.800000  6.940000\n",
       "1911     240.000000   25.750000  7.375000\n",
       "1912     152.200000   16.400000  7.920000\n",
       "1913      66.125000   57.750000  6.862500\n",
       "1914     104.923077   25.923077  6.473077\n",
       "1915     314.900000   56.800000  7.260000\n",
       "1916     613.666667   43.833333  7.758333\n",
       "1917     124.416667   31.333333  7.075000\n",
       "1918     357.083333   35.166667  7.200000\n",
       "1919     179.850000   62.400000  7.490000\n",
       "1920     636.500000   59.357143  7.492857\n",
       "1921     729.818182   57.363636  7.750000\n",
       "1922     767.090909   66.363636  7.804545\n",
       "1923     426.000000   74.055556  7.883333\n",
       "1924     371.785714   81.178571  8.053571\n",
       "1925    1104.280000   84.440000  7.788000\n",
       "1926     443.608696   80.304348  7.773913\n",
       "1927     695.275862   87.241379  7.751724\n",
       "1928     404.825000   71.775000  7.945000\n",
       "1929     740.542857   69.371429  7.440000\n",
       "1930     555.080000   74.160000  7.360000\n",
       "1931    1468.666667   78.523810  7.483333\n",
       "1932     600.081081   77.540541  7.294595\n",
       "1933     729.720000   76.360000  7.430000\n",
       "1934     776.490196   83.196078  7.519608\n",
       "1935     887.695652   73.673913  7.515217\n",
       "1936    1465.466667   76.266667  7.635000\n",
       "1937    1580.224490   85.510204  7.575510\n",
       "1938     552.000000   85.973684  7.736842\n",
       "1939    5911.857143   97.387755  7.520408\n",
       "1940    5548.743590   92.820513  7.571795\n",
       "1941    1552.808511   89.127660  7.427660\n",
       "1942    2607.754717   78.264151  7.554717\n",
       "1943     742.842105   78.456140  7.615789\n",
       "1944    1007.370370   81.925926  7.538889\n",
       "1945     989.020408   86.959184  7.673469\n",
       "1946    1034.457627   85.016949  7.606780\n",
       "1947     439.400000   87.120000  7.453333\n",
       "1948    1186.505747   88.206897  7.657471\n",
       "1949     641.685393   81.988764  7.646067\n",
       "1950    2235.026316   80.157895  7.655263\n",
       "1951     956.101266   85.632911  7.636709\n",
       "1952    1473.540230   81.528736  7.743678\n",
       "1953    4786.113636   84.170455  7.567045\n",
       "1954    2180.245098   85.549020  7.702941\n",
       "1955    1983.739130   83.669565  7.580000\n",
       "1956    1054.605442   76.408163  7.600000\n",
       "1957    2973.579439   87.355140  7.652336\n",
       "1958     886.196721   82.975410  7.536885\n",
       "1959    1725.070312   90.070312  7.571875\n",
       "1960    1446.274809  101.312977  7.569466\n",
       "1961    3186.833333   98.215686  7.744118\n",
       "1962    1972.118881   91.615385  7.704895\n",
       "1963    1184.027972   92.020979  7.536364\n",
       "1964    1107.763736   89.714286  7.523077\n",
       "1965    1988.184049   90.478528  7.576074\n",
       "1966    1319.525140   89.486034  7.518994\n",
       "1967    1237.289773   91.590909  7.484659\n",
       "1968    1096.220930   91.744186  7.317442\n",
       "1969     593.111111   98.666667  7.370048\n",
       "1970     676.789474   96.973684  7.291053\n",
       "1971    1368.506849   96.315068  7.155708\n",
       "1972    2299.096618   96.289855  7.268116\n",
       "1973     800.103286   94.882629  7.250235\n",
       "1974    1685.789238   95.318386  7.062332\n",
       "1975    2222.739796   97.566327  7.071429\n",
       "1976    1340.618026   95.055794  7.107725\n",
       "1977     957.127273   98.031818  7.148182\n",
       "1978    1001.820896   94.467662  7.096517\n",
       "1979    1878.621145   96.000000  7.296035\n",
       "1980    2407.683036   94.178571  7.186607\n",
       "1981    1609.062044   93.321168  7.157299\n",
       "1982    2142.729323   91.984962  7.297368\n",
       "1983    1541.191336   92.169675  7.310108\n",
       "1984    2667.173469   90.918367  7.375170\n",
       "1985    1588.096573   93.616822  7.278505\n",
       "1986    2828.506173   89.145062  7.256790\n",
       "1987    3128.775510   88.938776  7.284548\n",
       "1988    4800.227621   88.859335  7.265729\n",
       "1989    2994.417303   88.458015  7.210687\n",
       "1990    4965.587786   91.882952  7.149109\n",
       "1991    4685.819512   93.370732  7.154634\n",
       "1992    5486.133333   92.572414  7.223678\n",
       "1993    8117.759637   95.269841  7.195692\n",
       "1994   11479.255061   91.344130  7.262348\n",
       "1995    8132.605317   94.441718  7.289366\n",
       "1996    5095.883946   95.243714  7.258801\n",
       "1997    8243.938547   94.970205  7.330168\n",
       "1998    7431.790295   91.131716  7.238302\n",
       "1999    7137.049600   92.457600  7.188000\n",
       "2000    5907.770178   92.191518  7.134063\n",
       "2001    8489.757246   90.958937  7.110145\n",
       "2002    6552.593333   91.584444  7.069778\n",
       "2003    7891.964248   90.558360  7.137750\n",
       "2004    8587.632599   90.424670  7.031366\n",
       "2005    6506.110847   92.080760  7.030008\n",
       "2006    7278.260726   90.144554  6.914719\n",
       "2007    6253.837522   86.628288  6.875102\n",
       "2008    6750.996943   85.144167  6.910647\n",
       "2009    8716.364662   86.384533  6.750000\n",
       "2010    9576.387593   83.434252  6.770361\n",
       "2011    8763.110397   84.125938  6.577010\n",
       "2012    7082.787463   85.099902  6.458374\n",
       "2013    7603.723138   84.902049  6.392604\n",
       "2014    7723.302597   85.997880  6.259777\n",
       "2015    7841.408291   89.863693  6.141960\n",
       "2016    7176.019380   91.329457  5.868217\n",
       "2017  123456.000000  142.000000  6.935704"
      ]
     },
     "execution_count": 92,
     "metadata": {},
     "output_type": "execute_result"
    }
   ],
   "source": [
    "pd.pivot_table(df,index=['年代'])"
   ]
  },
  {
   "cell_type": "markdown",
   "metadata": {
    "heading_collapsed": true,
    "hidden": true
   },
   "source": [
    "##### 多个索引  index=['','']"
   ]
  },
  {
   "cell_type": "markdown",
   "metadata": {
    "hidden": true
   },
   "source": [
    "实际上，大多数的pivot_table参数可以通过列表获取多个值"
   ]
  },
  {
   "cell_type": "code",
   "execution_count": 98,
   "metadata": {
    "hidden": true
   },
   "outputs": [
    {
     "data": {
      "text/html": [
       "<div>\n",
       "<style scoped>\n",
       "    .dataframe tbody tr th:only-of-type {\n",
       "        vertical-align: middle;\n",
       "    }\n",
       "\n",
       "    .dataframe tbody tr th {\n",
       "        vertical-align: top;\n",
       "    }\n",
       "\n",
       "    .dataframe thead th {\n",
       "        text-align: right;\n",
       "    }\n",
       "</style>\n",
       "<table border=\"1\" class=\"dataframe\">\n",
       "  <thead>\n",
       "    <tr style=\"text-align: right;\">\n",
       "      <th></th>\n",
       "      <th></th>\n",
       "      <th>投票人数</th>\n",
       "      <th>时长</th>\n",
       "      <th>评分</th>\n",
       "    </tr>\n",
       "    <tr>\n",
       "      <th>年代</th>\n",
       "      <th>产地</th>\n",
       "      <th></th>\n",
       "      <th></th>\n",
       "      <th></th>\n",
       "    </tr>\n",
       "  </thead>\n",
       "  <tbody>\n",
       "    <tr>\n",
       "      <th>1888</th>\n",
       "      <th>英国</th>\n",
       "      <td>388.000000</td>\n",
       "      <td>60.000000</td>\n",
       "      <td>7.950000</td>\n",
       "    </tr>\n",
       "    <tr>\n",
       "      <th>1890</th>\n",
       "      <th>美国</th>\n",
       "      <td>51.000000</td>\n",
       "      <td>60.000000</td>\n",
       "      <td>4.800000</td>\n",
       "    </tr>\n",
       "    <tr>\n",
       "      <th>1892</th>\n",
       "      <th>法国</th>\n",
       "      <td>176.000000</td>\n",
       "      <td>60.000000</td>\n",
       "      <td>7.500000</td>\n",
       "    </tr>\n",
       "    <tr>\n",
       "      <th rowspan=\"2\" valign=\"top\">1894</th>\n",
       "      <th>法国</th>\n",
       "      <td>148.000000</td>\n",
       "      <td>60.000000</td>\n",
       "      <td>7.000000</td>\n",
       "    </tr>\n",
       "    <tr>\n",
       "      <th>美国</th>\n",
       "      <td>95.000000</td>\n",
       "      <td>60.000000</td>\n",
       "      <td>6.450000</td>\n",
       "    </tr>\n",
       "    <tr>\n",
       "      <th>...</th>\n",
       "      <th>...</th>\n",
       "      <td>...</td>\n",
       "      <td>...</td>\n",
       "      <td>...</td>\n",
       "    </tr>\n",
       "    <tr>\n",
       "      <th rowspan=\"4\" valign=\"top\">2016</th>\n",
       "      <th>法国</th>\n",
       "      <td>39.000000</td>\n",
       "      <td>93.250000</td>\n",
       "      <td>7.475000</td>\n",
       "    </tr>\n",
       "    <tr>\n",
       "      <th>美国</th>\n",
       "      <td>10563.848485</td>\n",
       "      <td>91.984848</td>\n",
       "      <td>6.540909</td>\n",
       "    </tr>\n",
       "    <tr>\n",
       "      <th>英国</th>\n",
       "      <td>14607.272727</td>\n",
       "      <td>85.545455</td>\n",
       "      <td>7.200000</td>\n",
       "    </tr>\n",
       "    <tr>\n",
       "      <th>韩国</th>\n",
       "      <td>1739.850000</td>\n",
       "      <td>106.100000</td>\n",
       "      <td>5.730000</td>\n",
       "    </tr>\n",
       "    <tr>\n",
       "      <th>2017</th>\n",
       "      <th>美国</th>\n",
       "      <td>123456.000000</td>\n",
       "      <td>142.000000</td>\n",
       "      <td>6.935704</td>\n",
       "    </tr>\n",
       "  </tbody>\n",
       "</table>\n",
       "<p>1511 rows × 3 columns</p>\n",
       "</div>"
      ],
      "text/plain": [
       "                  投票人数          时长        评分\n",
       "年代   产地                                     \n",
       "1888 英国     388.000000   60.000000  7.950000\n",
       "1890 美国      51.000000   60.000000  4.800000\n",
       "1892 法国     176.000000   60.000000  7.500000\n",
       "1894 法国     148.000000   60.000000  7.000000\n",
       "     美国      95.000000   60.000000  6.450000\n",
       "...                ...         ...       ...\n",
       "2016 法国      39.000000   93.250000  7.475000\n",
       "     美国   10563.848485   91.984848  6.540909\n",
       "     英国   14607.272727   85.545455  7.200000\n",
       "     韩国    1739.850000  106.100000  5.730000\n",
       "2017 美国  123456.000000  142.000000  6.935704\n",
       "\n",
       "[1511 rows x 3 columns]"
      ]
     },
     "execution_count": 98,
     "metadata": {},
     "output_type": "execute_result"
    }
   ],
   "source": [
    "pd.set_option('max_columns',100)\n",
    "pd.set_option('max_rows',500)\n",
    "pd.pivot_table(df,index=['年代','产地'])"
   ]
  },
  {
   "cell_type": "markdown",
   "metadata": {
    "heading_collapsed": true,
    "hidden": true
   },
   "source": [
    "##### 指定需要统计汇总的数据  values"
   ]
  },
  {
   "cell_type": "code",
   "execution_count": 99,
   "metadata": {
    "hidden": true
   },
   "outputs": [
    {
     "data": {
      "text/html": [
       "<div>\n",
       "<style scoped>\n",
       "    .dataframe tbody tr th:only-of-type {\n",
       "        vertical-align: middle;\n",
       "    }\n",
       "\n",
       "    .dataframe tbody tr th {\n",
       "        vertical-align: top;\n",
       "    }\n",
       "\n",
       "    .dataframe thead th {\n",
       "        text-align: right;\n",
       "    }\n",
       "</style>\n",
       "<table border=\"1\" class=\"dataframe\">\n",
       "  <thead>\n",
       "    <tr style=\"text-align: right;\">\n",
       "      <th></th>\n",
       "      <th></th>\n",
       "      <th>评分</th>\n",
       "    </tr>\n",
       "    <tr>\n",
       "      <th>年代</th>\n",
       "      <th>产地</th>\n",
       "      <th></th>\n",
       "    </tr>\n",
       "  </thead>\n",
       "  <tbody>\n",
       "    <tr>\n",
       "      <th>1888</th>\n",
       "      <th>英国</th>\n",
       "      <td>7.950000</td>\n",
       "    </tr>\n",
       "    <tr>\n",
       "      <th>1890</th>\n",
       "      <th>美国</th>\n",
       "      <td>4.800000</td>\n",
       "    </tr>\n",
       "    <tr>\n",
       "      <th>1892</th>\n",
       "      <th>法国</th>\n",
       "      <td>7.500000</td>\n",
       "    </tr>\n",
       "    <tr>\n",
       "      <th rowspan=\"2\" valign=\"top\">1894</th>\n",
       "      <th>法国</th>\n",
       "      <td>7.000000</td>\n",
       "    </tr>\n",
       "    <tr>\n",
       "      <th>美国</th>\n",
       "      <td>6.450000</td>\n",
       "    </tr>\n",
       "    <tr>\n",
       "      <th>...</th>\n",
       "      <th>...</th>\n",
       "      <td>...</td>\n",
       "    </tr>\n",
       "    <tr>\n",
       "      <th rowspan=\"4\" valign=\"top\">2016</th>\n",
       "      <th>法国</th>\n",
       "      <td>7.475000</td>\n",
       "    </tr>\n",
       "    <tr>\n",
       "      <th>美国</th>\n",
       "      <td>6.540909</td>\n",
       "    </tr>\n",
       "    <tr>\n",
       "      <th>英国</th>\n",
       "      <td>7.200000</td>\n",
       "    </tr>\n",
       "    <tr>\n",
       "      <th>韩国</th>\n",
       "      <td>5.730000</td>\n",
       "    </tr>\n",
       "    <tr>\n",
       "      <th>2017</th>\n",
       "      <th>美国</th>\n",
       "      <td>6.935704</td>\n",
       "    </tr>\n",
       "  </tbody>\n",
       "</table>\n",
       "<p>1511 rows × 1 columns</p>\n",
       "</div>"
      ],
      "text/plain": [
       "               评分\n",
       "年代   产地          \n",
       "1888 英国  7.950000\n",
       "1890 美国  4.800000\n",
       "1892 法国  7.500000\n",
       "1894 法国  7.000000\n",
       "     美国  6.450000\n",
       "...           ...\n",
       "2016 法国  7.475000\n",
       "     美国  6.540909\n",
       "     英国  7.200000\n",
       "     韩国  5.730000\n",
       "2017 美国  6.935704\n",
       "\n",
       "[1511 rows x 1 columns]"
      ]
     },
     "execution_count": 99,
     "metadata": {},
     "output_type": "execute_result"
    }
   ],
   "source": [
    "pd.pivot_table(df,index=['年代','产地'],values=['评分'])"
   ]
  },
  {
   "cell_type": "markdown",
   "metadata": {
    "heading_collapsed": true,
    "hidden": true
   },
   "source": [
    "##### 指定函数  aggfunc"
   ]
  },
  {
   "cell_type": "code",
   "execution_count": 100,
   "metadata": {
    "hidden": true
   },
   "outputs": [
    {
     "data": {
      "text/html": [
       "<div>\n",
       "<style scoped>\n",
       "    .dataframe tbody tr th:only-of-type {\n",
       "        vertical-align: middle;\n",
       "    }\n",
       "\n",
       "    .dataframe tbody tr th {\n",
       "        vertical-align: top;\n",
       "    }\n",
       "\n",
       "    .dataframe thead th {\n",
       "        text-align: right;\n",
       "    }\n",
       "</style>\n",
       "<table border=\"1\" class=\"dataframe\">\n",
       "  <thead>\n",
       "    <tr style=\"text-align: right;\">\n",
       "      <th></th>\n",
       "      <th></th>\n",
       "      <th>投票人数</th>\n",
       "    </tr>\n",
       "    <tr>\n",
       "      <th>年代</th>\n",
       "      <th>产地</th>\n",
       "      <th></th>\n",
       "    </tr>\n",
       "  </thead>\n",
       "  <tbody>\n",
       "    <tr>\n",
       "      <th>1888</th>\n",
       "      <th>英国</th>\n",
       "      <td>776</td>\n",
       "    </tr>\n",
       "    <tr>\n",
       "      <th>1890</th>\n",
       "      <th>美国</th>\n",
       "      <td>51</td>\n",
       "    </tr>\n",
       "    <tr>\n",
       "      <th>1892</th>\n",
       "      <th>法国</th>\n",
       "      <td>176</td>\n",
       "    </tr>\n",
       "    <tr>\n",
       "      <th rowspan=\"2\" valign=\"top\">1894</th>\n",
       "      <th>法国</th>\n",
       "      <td>148</td>\n",
       "    </tr>\n",
       "    <tr>\n",
       "      <th>美国</th>\n",
       "      <td>190</td>\n",
       "    </tr>\n",
       "    <tr>\n",
       "      <th>...</th>\n",
       "      <th>...</th>\n",
       "      <td>...</td>\n",
       "    </tr>\n",
       "    <tr>\n",
       "      <th rowspan=\"4\" valign=\"top\">2016</th>\n",
       "      <th>法国</th>\n",
       "      <td>156</td>\n",
       "    </tr>\n",
       "    <tr>\n",
       "      <th>美国</th>\n",
       "      <td>697214</td>\n",
       "    </tr>\n",
       "    <tr>\n",
       "      <th>英国</th>\n",
       "      <td>160680</td>\n",
       "    </tr>\n",
       "    <tr>\n",
       "      <th>韩国</th>\n",
       "      <td>34797</td>\n",
       "    </tr>\n",
       "    <tr>\n",
       "      <th>2017</th>\n",
       "      <th>美国</th>\n",
       "      <td>123456</td>\n",
       "    </tr>\n",
       "  </tbody>\n",
       "</table>\n",
       "<p>1511 rows × 1 columns</p>\n",
       "</div>"
      ],
      "text/plain": [
       "           投票人数\n",
       "年代   产地        \n",
       "1888 英国     776\n",
       "1890 美国      51\n",
       "1892 法国     176\n",
       "1894 法国     148\n",
       "     美国     190\n",
       "...         ...\n",
       "2016 法国     156\n",
       "     美国  697214\n",
       "     英国  160680\n",
       "     韩国   34797\n",
       "2017 美国  123456\n",
       "\n",
       "[1511 rows x 1 columns]"
      ]
     },
     "execution_count": 100,
     "metadata": {},
     "output_type": "execute_result"
    }
   ],
   "source": [
    "pd.pivot_table(df,index=['年代','产地'],values=['投票人数'],aggfunc=np.sum)"
   ]
  },
  {
   "cell_type": "markdown",
   "metadata": {
    "hidden": true
   },
   "source": [
    "通过将“投票人数”和“评分”列进行对应分组，对“产地”实现数据聚合和总结"
   ]
  },
  {
   "cell_type": "code",
   "execution_count": 102,
   "metadata": {
    "hidden": true
   },
   "outputs": [
    {
     "data": {
      "text/html": [
       "<div>\n",
       "<style scoped>\n",
       "    .dataframe tbody tr th:only-of-type {\n",
       "        vertical-align: middle;\n",
       "    }\n",
       "\n",
       "    .dataframe tbody tr th {\n",
       "        vertical-align: top;\n",
       "    }\n",
       "\n",
       "    .dataframe thead tr th {\n",
       "        text-align: left;\n",
       "    }\n",
       "\n",
       "    .dataframe thead tr:last-of-type th {\n",
       "        text-align: right;\n",
       "    }\n",
       "</style>\n",
       "<table border=\"1\" class=\"dataframe\">\n",
       "  <thead>\n",
       "    <tr>\n",
       "      <th></th>\n",
       "      <th colspan=\"2\" halign=\"left\">sum</th>\n",
       "      <th colspan=\"2\" halign=\"left\">mean</th>\n",
       "    </tr>\n",
       "    <tr>\n",
       "      <th></th>\n",
       "      <th>投票人数</th>\n",
       "      <th>评分</th>\n",
       "      <th>投票人数</th>\n",
       "      <th>评分</th>\n",
       "    </tr>\n",
       "    <tr>\n",
       "      <th>产地</th>\n",
       "      <th></th>\n",
       "      <th></th>\n",
       "      <th></th>\n",
       "      <th></th>\n",
       "    </tr>\n",
       "  </thead>\n",
       "  <tbody>\n",
       "    <tr>\n",
       "      <th>中国台湾</th>\n",
       "      <td>5237466</td>\n",
       "      <td>4367.200000</td>\n",
       "      <td>8474.864078</td>\n",
       "      <td>7.066667</td>\n",
       "    </tr>\n",
       "    <tr>\n",
       "      <th>中国大陆</th>\n",
       "      <td>41435313</td>\n",
       "      <td>23058.000000</td>\n",
       "      <td>10898.293793</td>\n",
       "      <td>6.064703</td>\n",
       "    </tr>\n",
       "    <tr>\n",
       "      <th>中国香港</th>\n",
       "      <td>23285389</td>\n",
       "      <td>18457.700000</td>\n",
       "      <td>8167.446159</td>\n",
       "      <td>6.474114</td>\n",
       "    </tr>\n",
       "    <tr>\n",
       "      <th>丹麦</th>\n",
       "      <td>394784</td>\n",
       "      <td>1434.700000</td>\n",
       "      <td>1993.858586</td>\n",
       "      <td>7.245960</td>\n",
       "    </tr>\n",
       "    <tr>\n",
       "      <th>俄罗斯</th>\n",
       "      <td>3167110</td>\n",
       "      <td>11031.900000</td>\n",
       "      <td>2098.813784</td>\n",
       "      <td>7.310736</td>\n",
       "    </tr>\n",
       "    <tr>\n",
       "      <th>其他</th>\n",
       "      <td>3054119</td>\n",
       "      <td>13895.900000</td>\n",
       "      <td>1590.686979</td>\n",
       "      <td>7.237448</td>\n",
       "    </tr>\n",
       "    <tr>\n",
       "      <th>加拿大</th>\n",
       "      <td>1384765</td>\n",
       "      <td>4868.400000</td>\n",
       "      <td>1915.304288</td>\n",
       "      <td>6.733610</td>\n",
       "    </tr>\n",
       "    <tr>\n",
       "      <th>印度</th>\n",
       "      <td>1146271</td>\n",
       "      <td>2453.400000</td>\n",
       "      <td>3210.843137</td>\n",
       "      <td>6.872269</td>\n",
       "    </tr>\n",
       "    <tr>\n",
       "      <th>墨西哥</th>\n",
       "      <td>139613</td>\n",
       "      <td>843.400000</td>\n",
       "      <td>1173.218487</td>\n",
       "      <td>7.087395</td>\n",
       "    </tr>\n",
       "    <tr>\n",
       "      <th>巴西</th>\n",
       "      <td>357136</td>\n",
       "      <td>733.500000</td>\n",
       "      <td>3536.000000</td>\n",
       "      <td>7.262376</td>\n",
       "    </tr>\n",
       "    <tr>\n",
       "      <th>意大利</th>\n",
       "      <td>2502215</td>\n",
       "      <td>5377.300000</td>\n",
       "      <td>3340.740988</td>\n",
       "      <td>7.179306</td>\n",
       "    </tr>\n",
       "    <tr>\n",
       "      <th>日本</th>\n",
       "      <td>18000667</td>\n",
       "      <td>36339.300000</td>\n",
       "      <td>3563.782815</td>\n",
       "      <td>7.194476</td>\n",
       "    </tr>\n",
       "    <tr>\n",
       "      <th>比利时</th>\n",
       "      <td>170987</td>\n",
       "      <td>1003.300000</td>\n",
       "      <td>1230.122302</td>\n",
       "      <td>7.217986</td>\n",
       "    </tr>\n",
       "    <tr>\n",
       "      <th>法国</th>\n",
       "      <td>10213966</td>\n",
       "      <td>20384.700000</td>\n",
       "      <td>3627.118608</td>\n",
       "      <td>7.238885</td>\n",
       "    </tr>\n",
       "    <tr>\n",
       "      <th>波兰</th>\n",
       "      <td>159577</td>\n",
       "      <td>1347.000000</td>\n",
       "      <td>881.640884</td>\n",
       "      <td>7.441989</td>\n",
       "    </tr>\n",
       "    <tr>\n",
       "      <th>泰国</th>\n",
       "      <td>1564881</td>\n",
       "      <td>1796.100000</td>\n",
       "      <td>5322.724490</td>\n",
       "      <td>6.109184</td>\n",
       "    </tr>\n",
       "    <tr>\n",
       "      <th>澳大利亚</th>\n",
       "      <td>1415713</td>\n",
       "      <td>2093.400000</td>\n",
       "      <td>4719.043333</td>\n",
       "      <td>6.978000</td>\n",
       "    </tr>\n",
       "    <tr>\n",
       "      <th>瑞典</th>\n",
       "      <td>290077</td>\n",
       "      <td>1423.300000</td>\n",
       "      <td>1510.817708</td>\n",
       "      <td>7.413021</td>\n",
       "    </tr>\n",
       "    <tr>\n",
       "      <th>美国</th>\n",
       "      <td>101929672</td>\n",
       "      <td>83216.435704</td>\n",
       "      <td>8509.030136</td>\n",
       "      <td>6.946860</td>\n",
       "    </tr>\n",
       "    <tr>\n",
       "      <th>英国</th>\n",
       "      <td>13249562</td>\n",
       "      <td>20789.400000</td>\n",
       "      <td>4797.089790</td>\n",
       "      <td>7.526937</td>\n",
       "    </tr>\n",
       "    <tr>\n",
       "      <th>荷兰</th>\n",
       "      <td>144836</td>\n",
       "      <td>1114.500000</td>\n",
       "      <td>934.425806</td>\n",
       "      <td>7.190323</td>\n",
       "    </tr>\n",
       "    <tr>\n",
       "      <th>西班牙</th>\n",
       "      <td>1486733</td>\n",
       "      <td>3139.900000</td>\n",
       "      <td>3326.024609</td>\n",
       "      <td>7.024385</td>\n",
       "    </tr>\n",
       "    <tr>\n",
       "      <th>阿根廷</th>\n",
       "      <td>258271</td>\n",
       "      <td>843.700000</td>\n",
       "      <td>2226.474138</td>\n",
       "      <td>7.273276</td>\n",
       "    </tr>\n",
       "    <tr>\n",
       "      <th>韩国</th>\n",
       "      <td>8761080</td>\n",
       "      <td>8596.400000</td>\n",
       "      <td>6484.885270</td>\n",
       "      <td>6.362990</td>\n",
       "    </tr>\n",
       "  </tbody>\n",
       "</table>\n",
       "</div>"
      ],
      "text/plain": [
       "            sum                        mean          \n",
       "           投票人数            评分          投票人数        评分\n",
       "产地                                                   \n",
       "中国台湾    5237466   4367.200000   8474.864078  7.066667\n",
       "中国大陆   41435313  23058.000000  10898.293793  6.064703\n",
       "中国香港   23285389  18457.700000   8167.446159  6.474114\n",
       "丹麦       394784   1434.700000   1993.858586  7.245960\n",
       "俄罗斯     3167110  11031.900000   2098.813784  7.310736\n",
       "其他      3054119  13895.900000   1590.686979  7.237448\n",
       "加拿大     1384765   4868.400000   1915.304288  6.733610\n",
       "印度      1146271   2453.400000   3210.843137  6.872269\n",
       "墨西哥      139613    843.400000   1173.218487  7.087395\n",
       "巴西       357136    733.500000   3536.000000  7.262376\n",
       "意大利     2502215   5377.300000   3340.740988  7.179306\n",
       "日本     18000667  36339.300000   3563.782815  7.194476\n",
       "比利时      170987   1003.300000   1230.122302  7.217986\n",
       "法国     10213966  20384.700000   3627.118608  7.238885\n",
       "波兰       159577   1347.000000    881.640884  7.441989\n",
       "泰国      1564881   1796.100000   5322.724490  6.109184\n",
       "澳大利亚    1415713   2093.400000   4719.043333  6.978000\n",
       "瑞典       290077   1423.300000   1510.817708  7.413021\n",
       "美国    101929672  83216.435704   8509.030136  6.946860\n",
       "英国     13249562  20789.400000   4797.089790  7.526937\n",
       "荷兰       144836   1114.500000    934.425806  7.190323\n",
       "西班牙     1486733   3139.900000   3326.024609  7.024385\n",
       "阿根廷      258271    843.700000   2226.474138  7.273276\n",
       "韩国      8761080   8596.400000   6484.885270  6.362990"
      ]
     },
     "execution_count": 102,
     "metadata": {},
     "output_type": "execute_result"
    }
   ],
   "source": [
    "pd.pivot_table(df,index=['产地'],values=['投票人数','评分'],aggfunc=[np.sum,np.mean])"
   ]
  },
  {
   "cell_type": "markdown",
   "metadata": {
    "heading_collapsed": true,
    "hidden": true
   },
   "source": [
    "##### 非数值处理 fill_value"
   ]
  },
  {
   "cell_type": "markdown",
   "metadata": {
    "hidden": true
   },
   "source": [
    "非数值（NaN）难以处理，如果想移除他们，可以使用 fill_value 将其设置为0"
   ]
  },
  {
   "cell_type": "code",
   "execution_count": 103,
   "metadata": {
    "hidden": true
   },
   "outputs": [
    {
     "data": {
      "text/html": [
       "<div>\n",
       "<style scoped>\n",
       "    .dataframe tbody tr th:only-of-type {\n",
       "        vertical-align: middle;\n",
       "    }\n",
       "\n",
       "    .dataframe tbody tr th {\n",
       "        vertical-align: top;\n",
       "    }\n",
       "\n",
       "    .dataframe thead tr th {\n",
       "        text-align: left;\n",
       "    }\n",
       "\n",
       "    .dataframe thead tr:last-of-type th {\n",
       "        text-align: right;\n",
       "    }\n",
       "</style>\n",
       "<table border=\"1\" class=\"dataframe\">\n",
       "  <thead>\n",
       "    <tr>\n",
       "      <th></th>\n",
       "      <th colspan=\"4\" halign=\"left\">sum</th>\n",
       "      <th colspan=\"4\" halign=\"left\">mean</th>\n",
       "    </tr>\n",
       "    <tr>\n",
       "      <th></th>\n",
       "      <th>年代</th>\n",
       "      <th>投票人数</th>\n",
       "      <th>时长</th>\n",
       "      <th>评分</th>\n",
       "      <th>年代</th>\n",
       "      <th>投票人数</th>\n",
       "      <th>时长</th>\n",
       "      <th>评分</th>\n",
       "    </tr>\n",
       "    <tr>\n",
       "      <th>产地</th>\n",
       "      <th></th>\n",
       "      <th></th>\n",
       "      <th></th>\n",
       "      <th></th>\n",
       "      <th></th>\n",
       "      <th></th>\n",
       "      <th></th>\n",
       "      <th></th>\n",
       "    </tr>\n",
       "  </thead>\n",
       "  <tbody>\n",
       "    <tr>\n",
       "      <th>中国台湾</th>\n",
       "      <td>1235388</td>\n",
       "      <td>5237466</td>\n",
       "      <td>53925</td>\n",
       "      <td>4367.200000</td>\n",
       "      <td>1999.009709</td>\n",
       "      <td>8474.864078</td>\n",
       "      <td>87.257282</td>\n",
       "      <td>7.066667</td>\n",
       "    </tr>\n",
       "    <tr>\n",
       "      <th>中国大陆</th>\n",
       "      <td>7621488</td>\n",
       "      <td>41435313</td>\n",
       "      <td>309608</td>\n",
       "      <td>23058.000000</td>\n",
       "      <td>2004.599684</td>\n",
       "      <td>10898.293793</td>\n",
       "      <td>81.432930</td>\n",
       "      <td>6.064703</td>\n",
       "    </tr>\n",
       "    <tr>\n",
       "      <th>中国香港</th>\n",
       "      <td>5676627</td>\n",
       "      <td>23285389</td>\n",
       "      <td>252431</td>\n",
       "      <td>18457.700000</td>\n",
       "      <td>1991.100316</td>\n",
       "      <td>8167.446159</td>\n",
       "      <td>88.541214</td>\n",
       "      <td>6.474114</td>\n",
       "    </tr>\n",
       "    <tr>\n",
       "      <th>丹麦</th>\n",
       "      <td>395820</td>\n",
       "      <td>394784</td>\n",
       "      <td>17444</td>\n",
       "      <td>1434.700000</td>\n",
       "      <td>1999.090909</td>\n",
       "      <td>1993.858586</td>\n",
       "      <td>88.101010</td>\n",
       "      <td>7.245960</td>\n",
       "    </tr>\n",
       "    <tr>\n",
       "      <th>俄罗斯</th>\n",
       "      <td>3006734</td>\n",
       "      <td>3167110</td>\n",
       "      <td>140761</td>\n",
       "      <td>11031.900000</td>\n",
       "      <td>1992.534129</td>\n",
       "      <td>2098.813784</td>\n",
       "      <td>93.280981</td>\n",
       "      <td>7.310736</td>\n",
       "    </tr>\n",
       "    <tr>\n",
       "      <th>其他</th>\n",
       "      <td>3837588</td>\n",
       "      <td>3054119</td>\n",
       "      <td>167168</td>\n",
       "      <td>13895.900000</td>\n",
       "      <td>1998.743750</td>\n",
       "      <td>1590.686979</td>\n",
       "      <td>87.066667</td>\n",
       "      <td>7.237448</td>\n",
       "    </tr>\n",
       "    <tr>\n",
       "      <th>加拿大</th>\n",
       "      <td>1447780</td>\n",
       "      <td>1384765</td>\n",
       "      <td>57919</td>\n",
       "      <td>4868.400000</td>\n",
       "      <td>2002.461964</td>\n",
       "      <td>1915.304288</td>\n",
       "      <td>80.109267</td>\n",
       "      <td>6.733610</td>\n",
       "    </tr>\n",
       "    <tr>\n",
       "      <th>印度</th>\n",
       "      <td>716133</td>\n",
       "      <td>1146271</td>\n",
       "      <td>43203</td>\n",
       "      <td>2453.400000</td>\n",
       "      <td>2005.974790</td>\n",
       "      <td>3210.843137</td>\n",
       "      <td>121.016807</td>\n",
       "      <td>6.872269</td>\n",
       "    </tr>\n",
       "    <tr>\n",
       "      <th>墨西哥</th>\n",
       "      <td>237145</td>\n",
       "      <td>139613</td>\n",
       "      <td>10929</td>\n",
       "      <td>843.400000</td>\n",
       "      <td>1992.815126</td>\n",
       "      <td>1173.218487</td>\n",
       "      <td>91.840336</td>\n",
       "      <td>7.087395</td>\n",
       "    </tr>\n",
       "    <tr>\n",
       "      <th>巴西</th>\n",
       "      <td>201987</td>\n",
       "      <td>357136</td>\n",
       "      <td>8869</td>\n",
       "      <td>733.500000</td>\n",
       "      <td>1999.871287</td>\n",
       "      <td>3536.000000</td>\n",
       "      <td>87.811881</td>\n",
       "      <td>7.262376</td>\n",
       "    </tr>\n",
       "    <tr>\n",
       "      <th>意大利</th>\n",
       "      <td>1487142</td>\n",
       "      <td>2502215</td>\n",
       "      <td>77902</td>\n",
       "      <td>5377.300000</td>\n",
       "      <td>1985.503338</td>\n",
       "      <td>3340.740988</td>\n",
       "      <td>104.008011</td>\n",
       "      <td>7.179306</td>\n",
       "    </tr>\n",
       "    <tr>\n",
       "      <th>日本</th>\n",
       "      <td>10101505</td>\n",
       "      <td>18000667</td>\n",
       "      <td>427863</td>\n",
       "      <td>36339.300000</td>\n",
       "      <td>1999.902000</td>\n",
       "      <td>3563.782815</td>\n",
       "      <td>84.708573</td>\n",
       "      <td>7.194476</td>\n",
       "    </tr>\n",
       "    <tr>\n",
       "      <th>比利时</th>\n",
       "      <td>277930</td>\n",
       "      <td>170987</td>\n",
       "      <td>11447</td>\n",
       "      <td>1003.300000</td>\n",
       "      <td>1999.496403</td>\n",
       "      <td>1230.122302</td>\n",
       "      <td>82.352518</td>\n",
       "      <td>7.217986</td>\n",
       "    </tr>\n",
       "    <tr>\n",
       "      <th>法国</th>\n",
       "      <td>5608811</td>\n",
       "      <td>10213966</td>\n",
       "      <td>253169</td>\n",
       "      <td>20384.700000</td>\n",
       "      <td>1991.765270</td>\n",
       "      <td>3627.118608</td>\n",
       "      <td>89.903764</td>\n",
       "      <td>7.238885</td>\n",
       "    </tr>\n",
       "    <tr>\n",
       "      <th>波兰</th>\n",
       "      <td>359652</td>\n",
       "      <td>159577</td>\n",
       "      <td>14613</td>\n",
       "      <td>1347.000000</td>\n",
       "      <td>1987.027624</td>\n",
       "      <td>881.640884</td>\n",
       "      <td>80.734807</td>\n",
       "      <td>7.441989</td>\n",
       "    </tr>\n",
       "    <tr>\n",
       "      <th>泰国</th>\n",
       "      <td>590684</td>\n",
       "      <td>1564881</td>\n",
       "      <td>26002</td>\n",
       "      <td>1796.100000</td>\n",
       "      <td>2009.129252</td>\n",
       "      <td>5322.724490</td>\n",
       "      <td>88.442177</td>\n",
       "      <td>6.109184</td>\n",
       "    </tr>\n",
       "    <tr>\n",
       "      <th>澳大利亚</th>\n",
       "      <td>600896</td>\n",
       "      <td>1415713</td>\n",
       "      <td>25549</td>\n",
       "      <td>2093.400000</td>\n",
       "      <td>2002.986667</td>\n",
       "      <td>4719.043333</td>\n",
       "      <td>85.163333</td>\n",
       "      <td>6.978000</td>\n",
       "    </tr>\n",
       "    <tr>\n",
       "      <th>瑞典</th>\n",
       "      <td>381491</td>\n",
       "      <td>290077</td>\n",
       "      <td>17898</td>\n",
       "      <td>1423.300000</td>\n",
       "      <td>1986.932292</td>\n",
       "      <td>1510.817708</td>\n",
       "      <td>93.218750</td>\n",
       "      <td>7.413021</td>\n",
       "    </tr>\n",
       "    <tr>\n",
       "      <th>美国</th>\n",
       "      <td>23892986</td>\n",
       "      <td>101929672</td>\n",
       "      <td>1070310</td>\n",
       "      <td>83216.435704</td>\n",
       "      <td>1994.572669</td>\n",
       "      <td>8509.030136</td>\n",
       "      <td>89.348861</td>\n",
       "      <td>6.946860</td>\n",
       "    </tr>\n",
       "    <tr>\n",
       "      <th>英国</th>\n",
       "      <td>5514959</td>\n",
       "      <td>13249562</td>\n",
       "      <td>244005</td>\n",
       "      <td>20789.400000</td>\n",
       "      <td>1996.726647</td>\n",
       "      <td>4797.089790</td>\n",
       "      <td>88.343592</td>\n",
       "      <td>7.526937</td>\n",
       "    </tr>\n",
       "    <tr>\n",
       "      <th>荷兰</th>\n",
       "      <td>310199</td>\n",
       "      <td>144836</td>\n",
       "      <td>11685</td>\n",
       "      <td>1114.500000</td>\n",
       "      <td>2001.283871</td>\n",
       "      <td>934.425806</td>\n",
       "      <td>75.387097</td>\n",
       "      <td>7.190323</td>\n",
       "    </tr>\n",
       "    <tr>\n",
       "      <th>西班牙</th>\n",
       "      <td>894710</td>\n",
       "      <td>1486733</td>\n",
       "      <td>40455</td>\n",
       "      <td>3139.900000</td>\n",
       "      <td>2001.588367</td>\n",
       "      <td>3326.024609</td>\n",
       "      <td>90.503356</td>\n",
       "      <td>7.024385</td>\n",
       "    </tr>\n",
       "    <tr>\n",
       "      <th>阿根廷</th>\n",
       "      <td>232468</td>\n",
       "      <td>258271</td>\n",
       "      <td>10638</td>\n",
       "      <td>843.700000</td>\n",
       "      <td>2004.034483</td>\n",
       "      <td>2226.474138</td>\n",
       "      <td>91.706897</td>\n",
       "      <td>7.273276</td>\n",
       "    </tr>\n",
       "    <tr>\n",
       "      <th>韩国</th>\n",
       "      <td>2712969</td>\n",
       "      <td>8761080</td>\n",
       "      <td>134734</td>\n",
       "      <td>8596.400000</td>\n",
       "      <td>2008.119171</td>\n",
       "      <td>6484.885270</td>\n",
       "      <td>99.729090</td>\n",
       "      <td>6.362990</td>\n",
       "    </tr>\n",
       "  </tbody>\n",
       "</table>\n",
       "</div>"
      ],
      "text/plain": [
       "           sum                                           mean                \\\n",
       "            年代       投票人数       时长            评分           年代          投票人数   \n",
       "产地                                                                            \n",
       "中国台湾   1235388    5237466    53925   4367.200000  1999.009709   8474.864078   \n",
       "中国大陆   7621488   41435313   309608  23058.000000  2004.599684  10898.293793   \n",
       "中国香港   5676627   23285389   252431  18457.700000  1991.100316   8167.446159   \n",
       "丹麦      395820     394784    17444   1434.700000  1999.090909   1993.858586   \n",
       "俄罗斯    3006734    3167110   140761  11031.900000  1992.534129   2098.813784   \n",
       "其他     3837588    3054119   167168  13895.900000  1998.743750   1590.686979   \n",
       "加拿大    1447780    1384765    57919   4868.400000  2002.461964   1915.304288   \n",
       "印度      716133    1146271    43203   2453.400000  2005.974790   3210.843137   \n",
       "墨西哥     237145     139613    10929    843.400000  1992.815126   1173.218487   \n",
       "巴西      201987     357136     8869    733.500000  1999.871287   3536.000000   \n",
       "意大利    1487142    2502215    77902   5377.300000  1985.503338   3340.740988   \n",
       "日本    10101505   18000667   427863  36339.300000  1999.902000   3563.782815   \n",
       "比利时     277930     170987    11447   1003.300000  1999.496403   1230.122302   \n",
       "法国     5608811   10213966   253169  20384.700000  1991.765270   3627.118608   \n",
       "波兰      359652     159577    14613   1347.000000  1987.027624    881.640884   \n",
       "泰国      590684    1564881    26002   1796.100000  2009.129252   5322.724490   \n",
       "澳大利亚    600896    1415713    25549   2093.400000  2002.986667   4719.043333   \n",
       "瑞典      381491     290077    17898   1423.300000  1986.932292   1510.817708   \n",
       "美国    23892986  101929672  1070310  83216.435704  1994.572669   8509.030136   \n",
       "英国     5514959   13249562   244005  20789.400000  1996.726647   4797.089790   \n",
       "荷兰      310199     144836    11685   1114.500000  2001.283871    934.425806   \n",
       "西班牙     894710    1486733    40455   3139.900000  2001.588367   3326.024609   \n",
       "阿根廷     232468     258271    10638    843.700000  2004.034483   2226.474138   \n",
       "韩国     2712969    8761080   134734   8596.400000  2008.119171   6484.885270   \n",
       "\n",
       "                            \n",
       "              时长        评分  \n",
       "产地                          \n",
       "中国台湾   87.257282  7.066667  \n",
       "中国大陆   81.432930  6.064703  \n",
       "中国香港   88.541214  6.474114  \n",
       "丹麦     88.101010  7.245960  \n",
       "俄罗斯    93.280981  7.310736  \n",
       "其他     87.066667  7.237448  \n",
       "加拿大    80.109267  6.733610  \n",
       "印度    121.016807  6.872269  \n",
       "墨西哥    91.840336  7.087395  \n",
       "巴西     87.811881  7.262376  \n",
       "意大利   104.008011  7.179306  \n",
       "日本     84.708573  7.194476  \n",
       "比利时    82.352518  7.217986  \n",
       "法国     89.903764  7.238885  \n",
       "波兰     80.734807  7.441989  \n",
       "泰国     88.442177  6.109184  \n",
       "澳大利亚   85.163333  6.978000  \n",
       "瑞典     93.218750  7.413021  \n",
       "美国     89.348861  6.946860  \n",
       "英国     88.343592  7.526937  \n",
       "荷兰     75.387097  7.190323  \n",
       "西班牙    90.503356  7.024385  \n",
       "阿根廷    91.706897  7.273276  \n",
       "韩国     99.729090  6.362990  "
      ]
     },
     "execution_count": 103,
     "metadata": {},
     "output_type": "execute_result"
    }
   ],
   "source": [
    "pd.pivot_table(df,index=['产地'],aggfunc=[np.sum,np.mean],fill_value=0)"
   ]
  },
  {
   "cell_type": "markdown",
   "metadata": {
    "heading_collapsed": true,
    "hidden": true
   },
   "source": [
    "##### 计算总合数据 margins=True"
   ]
  },
  {
   "cell_type": "code",
   "execution_count": 104,
   "metadata": {
    "hidden": true
   },
   "outputs": [
    {
     "data": {
      "text/html": [
       "<div>\n",
       "<style scoped>\n",
       "    .dataframe tbody tr th:only-of-type {\n",
       "        vertical-align: middle;\n",
       "    }\n",
       "\n",
       "    .dataframe tbody tr th {\n",
       "        vertical-align: top;\n",
       "    }\n",
       "\n",
       "    .dataframe thead tr th {\n",
       "        text-align: left;\n",
       "    }\n",
       "\n",
       "    .dataframe thead tr:last-of-type th {\n",
       "        text-align: right;\n",
       "    }\n",
       "</style>\n",
       "<table border=\"1\" class=\"dataframe\">\n",
       "  <thead>\n",
       "    <tr>\n",
       "      <th></th>\n",
       "      <th colspan=\"4\" halign=\"left\">sum</th>\n",
       "      <th colspan=\"4\" halign=\"left\">mean</th>\n",
       "    </tr>\n",
       "    <tr>\n",
       "      <th></th>\n",
       "      <th>年代</th>\n",
       "      <th>投票人数</th>\n",
       "      <th>时长</th>\n",
       "      <th>评分</th>\n",
       "      <th>年代</th>\n",
       "      <th>投票人数</th>\n",
       "      <th>时长</th>\n",
       "      <th>评分</th>\n",
       "    </tr>\n",
       "    <tr>\n",
       "      <th>产地</th>\n",
       "      <th></th>\n",
       "      <th></th>\n",
       "      <th></th>\n",
       "      <th></th>\n",
       "      <th></th>\n",
       "      <th></th>\n",
       "      <th></th>\n",
       "      <th></th>\n",
       "    </tr>\n",
       "  </thead>\n",
       "  <tbody>\n",
       "    <tr>\n",
       "      <th>中国台湾</th>\n",
       "      <td>1235388</td>\n",
       "      <td>5237466</td>\n",
       "      <td>53925</td>\n",
       "      <td>4367.200000</td>\n",
       "      <td>1999.009709</td>\n",
       "      <td>8474.864078</td>\n",
       "      <td>87.257282</td>\n",
       "      <td>7.066667</td>\n",
       "    </tr>\n",
       "    <tr>\n",
       "      <th>中国大陆</th>\n",
       "      <td>7621488</td>\n",
       "      <td>41435313</td>\n",
       "      <td>309608</td>\n",
       "      <td>23058.000000</td>\n",
       "      <td>2004.599684</td>\n",
       "      <td>10898.293793</td>\n",
       "      <td>81.432930</td>\n",
       "      <td>6.064703</td>\n",
       "    </tr>\n",
       "    <tr>\n",
       "      <th>中国香港</th>\n",
       "      <td>5676627</td>\n",
       "      <td>23285389</td>\n",
       "      <td>252431</td>\n",
       "      <td>18457.700000</td>\n",
       "      <td>1991.100316</td>\n",
       "      <td>8167.446159</td>\n",
       "      <td>88.541214</td>\n",
       "      <td>6.474114</td>\n",
       "    </tr>\n",
       "    <tr>\n",
       "      <th>丹麦</th>\n",
       "      <td>395820</td>\n",
       "      <td>394784</td>\n",
       "      <td>17444</td>\n",
       "      <td>1434.700000</td>\n",
       "      <td>1999.090909</td>\n",
       "      <td>1993.858586</td>\n",
       "      <td>88.101010</td>\n",
       "      <td>7.245960</td>\n",
       "    </tr>\n",
       "    <tr>\n",
       "      <th>俄罗斯</th>\n",
       "      <td>3006734</td>\n",
       "      <td>3167110</td>\n",
       "      <td>140761</td>\n",
       "      <td>11031.900000</td>\n",
       "      <td>1992.534129</td>\n",
       "      <td>2098.813784</td>\n",
       "      <td>93.280981</td>\n",
       "      <td>7.310736</td>\n",
       "    </tr>\n",
       "    <tr>\n",
       "      <th>其他</th>\n",
       "      <td>3837588</td>\n",
       "      <td>3054119</td>\n",
       "      <td>167168</td>\n",
       "      <td>13895.900000</td>\n",
       "      <td>1998.743750</td>\n",
       "      <td>1590.686979</td>\n",
       "      <td>87.066667</td>\n",
       "      <td>7.237448</td>\n",
       "    </tr>\n",
       "    <tr>\n",
       "      <th>加拿大</th>\n",
       "      <td>1447780</td>\n",
       "      <td>1384765</td>\n",
       "      <td>57919</td>\n",
       "      <td>4868.400000</td>\n",
       "      <td>2002.461964</td>\n",
       "      <td>1915.304288</td>\n",
       "      <td>80.109267</td>\n",
       "      <td>6.733610</td>\n",
       "    </tr>\n",
       "    <tr>\n",
       "      <th>印度</th>\n",
       "      <td>716133</td>\n",
       "      <td>1146271</td>\n",
       "      <td>43203</td>\n",
       "      <td>2453.400000</td>\n",
       "      <td>2005.974790</td>\n",
       "      <td>3210.843137</td>\n",
       "      <td>121.016807</td>\n",
       "      <td>6.872269</td>\n",
       "    </tr>\n",
       "    <tr>\n",
       "      <th>墨西哥</th>\n",
       "      <td>237145</td>\n",
       "      <td>139613</td>\n",
       "      <td>10929</td>\n",
       "      <td>843.400000</td>\n",
       "      <td>1992.815126</td>\n",
       "      <td>1173.218487</td>\n",
       "      <td>91.840336</td>\n",
       "      <td>7.087395</td>\n",
       "    </tr>\n",
       "    <tr>\n",
       "      <th>巴西</th>\n",
       "      <td>201987</td>\n",
       "      <td>357136</td>\n",
       "      <td>8869</td>\n",
       "      <td>733.500000</td>\n",
       "      <td>1999.871287</td>\n",
       "      <td>3536.000000</td>\n",
       "      <td>87.811881</td>\n",
       "      <td>7.262376</td>\n",
       "    </tr>\n",
       "    <tr>\n",
       "      <th>意大利</th>\n",
       "      <td>1487142</td>\n",
       "      <td>2502215</td>\n",
       "      <td>77902</td>\n",
       "      <td>5377.300000</td>\n",
       "      <td>1985.503338</td>\n",
       "      <td>3340.740988</td>\n",
       "      <td>104.008011</td>\n",
       "      <td>7.179306</td>\n",
       "    </tr>\n",
       "    <tr>\n",
       "      <th>日本</th>\n",
       "      <td>10101505</td>\n",
       "      <td>18000667</td>\n",
       "      <td>427863</td>\n",
       "      <td>36339.300000</td>\n",
       "      <td>1999.902000</td>\n",
       "      <td>3563.782815</td>\n",
       "      <td>84.708573</td>\n",
       "      <td>7.194476</td>\n",
       "    </tr>\n",
       "    <tr>\n",
       "      <th>比利时</th>\n",
       "      <td>277930</td>\n",
       "      <td>170987</td>\n",
       "      <td>11447</td>\n",
       "      <td>1003.300000</td>\n",
       "      <td>1999.496403</td>\n",
       "      <td>1230.122302</td>\n",
       "      <td>82.352518</td>\n",
       "      <td>7.217986</td>\n",
       "    </tr>\n",
       "    <tr>\n",
       "      <th>法国</th>\n",
       "      <td>5608811</td>\n",
       "      <td>10213966</td>\n",
       "      <td>253169</td>\n",
       "      <td>20384.700000</td>\n",
       "      <td>1991.765270</td>\n",
       "      <td>3627.118608</td>\n",
       "      <td>89.903764</td>\n",
       "      <td>7.238885</td>\n",
       "    </tr>\n",
       "    <tr>\n",
       "      <th>波兰</th>\n",
       "      <td>359652</td>\n",
       "      <td>159577</td>\n",
       "      <td>14613</td>\n",
       "      <td>1347.000000</td>\n",
       "      <td>1987.027624</td>\n",
       "      <td>881.640884</td>\n",
       "      <td>80.734807</td>\n",
       "      <td>7.441989</td>\n",
       "    </tr>\n",
       "    <tr>\n",
       "      <th>泰国</th>\n",
       "      <td>590684</td>\n",
       "      <td>1564881</td>\n",
       "      <td>26002</td>\n",
       "      <td>1796.100000</td>\n",
       "      <td>2009.129252</td>\n",
       "      <td>5322.724490</td>\n",
       "      <td>88.442177</td>\n",
       "      <td>6.109184</td>\n",
       "    </tr>\n",
       "    <tr>\n",
       "      <th>澳大利亚</th>\n",
       "      <td>600896</td>\n",
       "      <td>1415713</td>\n",
       "      <td>25549</td>\n",
       "      <td>2093.400000</td>\n",
       "      <td>2002.986667</td>\n",
       "      <td>4719.043333</td>\n",
       "      <td>85.163333</td>\n",
       "      <td>6.978000</td>\n",
       "    </tr>\n",
       "    <tr>\n",
       "      <th>瑞典</th>\n",
       "      <td>381491</td>\n",
       "      <td>290077</td>\n",
       "      <td>17898</td>\n",
       "      <td>1423.300000</td>\n",
       "      <td>1986.932292</td>\n",
       "      <td>1510.817708</td>\n",
       "      <td>93.218750</td>\n",
       "      <td>7.413021</td>\n",
       "    </tr>\n",
       "    <tr>\n",
       "      <th>美国</th>\n",
       "      <td>23892986</td>\n",
       "      <td>101929672</td>\n",
       "      <td>1070310</td>\n",
       "      <td>83216.435704</td>\n",
       "      <td>1994.572669</td>\n",
       "      <td>8509.030136</td>\n",
       "      <td>89.348861</td>\n",
       "      <td>6.946860</td>\n",
       "    </tr>\n",
       "    <tr>\n",
       "      <th>英国</th>\n",
       "      <td>5514959</td>\n",
       "      <td>13249562</td>\n",
       "      <td>244005</td>\n",
       "      <td>20789.400000</td>\n",
       "      <td>1996.726647</td>\n",
       "      <td>4797.089790</td>\n",
       "      <td>88.343592</td>\n",
       "      <td>7.526937</td>\n",
       "    </tr>\n",
       "    <tr>\n",
       "      <th>荷兰</th>\n",
       "      <td>310199</td>\n",
       "      <td>144836</td>\n",
       "      <td>11685</td>\n",
       "      <td>1114.500000</td>\n",
       "      <td>2001.283871</td>\n",
       "      <td>934.425806</td>\n",
       "      <td>75.387097</td>\n",
       "      <td>7.190323</td>\n",
       "    </tr>\n",
       "    <tr>\n",
       "      <th>西班牙</th>\n",
       "      <td>894710</td>\n",
       "      <td>1486733</td>\n",
       "      <td>40455</td>\n",
       "      <td>3139.900000</td>\n",
       "      <td>2001.588367</td>\n",
       "      <td>3326.024609</td>\n",
       "      <td>90.503356</td>\n",
       "      <td>7.024385</td>\n",
       "    </tr>\n",
       "    <tr>\n",
       "      <th>阿根廷</th>\n",
       "      <td>232468</td>\n",
       "      <td>258271</td>\n",
       "      <td>10638</td>\n",
       "      <td>843.700000</td>\n",
       "      <td>2004.034483</td>\n",
       "      <td>2226.474138</td>\n",
       "      <td>91.706897</td>\n",
       "      <td>7.273276</td>\n",
       "    </tr>\n",
       "    <tr>\n",
       "      <th>韩国</th>\n",
       "      <td>2712969</td>\n",
       "      <td>8761080</td>\n",
       "      <td>134734</td>\n",
       "      <td>8596.400000</td>\n",
       "      <td>2008.119171</td>\n",
       "      <td>6484.885270</td>\n",
       "      <td>99.729090</td>\n",
       "      <td>6.362990</td>\n",
       "    </tr>\n",
       "    <tr>\n",
       "      <th>All</th>\n",
       "      <td>77337135</td>\n",
       "      <td>239749731</td>\n",
       "      <td>3428380</td>\n",
       "      <td>268585.635704</td>\n",
       "      <td>1996.982338</td>\n",
       "      <td>6190.764350</td>\n",
       "      <td>88.526868</td>\n",
       "      <td>6.935359</td>\n",
       "    </tr>\n",
       "  </tbody>\n",
       "</table>\n",
       "</div>"
      ],
      "text/plain": [
       "           sum                                            mean                \\\n",
       "            年代       投票人数       时长             评分           年代          投票人数   \n",
       "产地                                                                             \n",
       "中国台湾   1235388    5237466    53925    4367.200000  1999.009709   8474.864078   \n",
       "中国大陆   7621488   41435313   309608   23058.000000  2004.599684  10898.293793   \n",
       "中国香港   5676627   23285389   252431   18457.700000  1991.100316   8167.446159   \n",
       "丹麦      395820     394784    17444    1434.700000  1999.090909   1993.858586   \n",
       "俄罗斯    3006734    3167110   140761   11031.900000  1992.534129   2098.813784   \n",
       "其他     3837588    3054119   167168   13895.900000  1998.743750   1590.686979   \n",
       "加拿大    1447780    1384765    57919    4868.400000  2002.461964   1915.304288   \n",
       "印度      716133    1146271    43203    2453.400000  2005.974790   3210.843137   \n",
       "墨西哥     237145     139613    10929     843.400000  1992.815126   1173.218487   \n",
       "巴西      201987     357136     8869     733.500000  1999.871287   3536.000000   \n",
       "意大利    1487142    2502215    77902    5377.300000  1985.503338   3340.740988   \n",
       "日本    10101505   18000667   427863   36339.300000  1999.902000   3563.782815   \n",
       "比利时     277930     170987    11447    1003.300000  1999.496403   1230.122302   \n",
       "法国     5608811   10213966   253169   20384.700000  1991.765270   3627.118608   \n",
       "波兰      359652     159577    14613    1347.000000  1987.027624    881.640884   \n",
       "泰国      590684    1564881    26002    1796.100000  2009.129252   5322.724490   \n",
       "澳大利亚    600896    1415713    25549    2093.400000  2002.986667   4719.043333   \n",
       "瑞典      381491     290077    17898    1423.300000  1986.932292   1510.817708   \n",
       "美国    23892986  101929672  1070310   83216.435704  1994.572669   8509.030136   \n",
       "英国     5514959   13249562   244005   20789.400000  1996.726647   4797.089790   \n",
       "荷兰      310199     144836    11685    1114.500000  2001.283871    934.425806   \n",
       "西班牙     894710    1486733    40455    3139.900000  2001.588367   3326.024609   \n",
       "阿根廷     232468     258271    10638     843.700000  2004.034483   2226.474138   \n",
       "韩国     2712969    8761080   134734    8596.400000  2008.119171   6484.885270   \n",
       "All   77337135  239749731  3428380  268585.635704  1996.982338   6190.764350   \n",
       "\n",
       "                            \n",
       "              时长        评分  \n",
       "产地                          \n",
       "中国台湾   87.257282  7.066667  \n",
       "中国大陆   81.432930  6.064703  \n",
       "中国香港   88.541214  6.474114  \n",
       "丹麦     88.101010  7.245960  \n",
       "俄罗斯    93.280981  7.310736  \n",
       "其他     87.066667  7.237448  \n",
       "加拿大    80.109267  6.733610  \n",
       "印度    121.016807  6.872269  \n",
       "墨西哥    91.840336  7.087395  \n",
       "巴西     87.811881  7.262376  \n",
       "意大利   104.008011  7.179306  \n",
       "日本     84.708573  7.194476  \n",
       "比利时    82.352518  7.217986  \n",
       "法国     89.903764  7.238885  \n",
       "波兰     80.734807  7.441989  \n",
       "泰国     88.442177  6.109184  \n",
       "澳大利亚   85.163333  6.978000  \n",
       "瑞典     93.218750  7.413021  \n",
       "美国     89.348861  6.946860  \n",
       "英国     88.343592  7.526937  \n",
       "荷兰     75.387097  7.190323  \n",
       "西班牙    90.503356  7.024385  \n",
       "阿根廷    91.706897  7.273276  \n",
       "韩国     99.729090  6.362990  \n",
       "All    88.526868  6.935359  "
      ]
     },
     "execution_count": 104,
     "metadata": {},
     "output_type": "execute_result"
    }
   ],
   "source": [
    "pd.pivot_table(df,index=['产地'],aggfunc=[np.sum,np.mean],fill_value=0,margins=True)"
   ]
  },
  {
   "cell_type": "markdown",
   "metadata": {
    "heading_collapsed": true,
    "hidden": true
   },
   "source": [
    "##### 对不同值执行不同函数"
   ]
  },
  {
   "cell_type": "markdown",
   "metadata": {
    "hidden": true
   },
   "source": [
    "可以向aggfunc传递一个字典。不过，这样做有一个副作用，那就是必须将标签做的更加简洁才性。"
   ]
  },
  {
   "cell_type": "markdown",
   "metadata": {
    "hidden": true
   },
   "source": [
    "对各个产地的投票人数求和，对评分求均值"
   ]
  },
  {
   "cell_type": "code",
   "execution_count": 105,
   "metadata": {
    "hidden": true
   },
   "outputs": [
    {
     "data": {
      "text/html": [
       "<div>\n",
       "<style scoped>\n",
       "    .dataframe tbody tr th:only-of-type {\n",
       "        vertical-align: middle;\n",
       "    }\n",
       "\n",
       "    .dataframe tbody tr th {\n",
       "        vertical-align: top;\n",
       "    }\n",
       "\n",
       "    .dataframe thead th {\n",
       "        text-align: right;\n",
       "    }\n",
       "</style>\n",
       "<table border=\"1\" class=\"dataframe\">\n",
       "  <thead>\n",
       "    <tr style=\"text-align: right;\">\n",
       "      <th></th>\n",
       "      <th>投票人数</th>\n",
       "      <th>评分</th>\n",
       "    </tr>\n",
       "    <tr>\n",
       "      <th>产地</th>\n",
       "      <th></th>\n",
       "      <th></th>\n",
       "    </tr>\n",
       "  </thead>\n",
       "  <tbody>\n",
       "    <tr>\n",
       "      <th>中国台湾</th>\n",
       "      <td>5237466</td>\n",
       "      <td>7.066667</td>\n",
       "    </tr>\n",
       "    <tr>\n",
       "      <th>中国大陆</th>\n",
       "      <td>41435313</td>\n",
       "      <td>6.064703</td>\n",
       "    </tr>\n",
       "    <tr>\n",
       "      <th>中国香港</th>\n",
       "      <td>23285389</td>\n",
       "      <td>6.474114</td>\n",
       "    </tr>\n",
       "    <tr>\n",
       "      <th>丹麦</th>\n",
       "      <td>394784</td>\n",
       "      <td>7.245960</td>\n",
       "    </tr>\n",
       "    <tr>\n",
       "      <th>俄罗斯</th>\n",
       "      <td>3167110</td>\n",
       "      <td>7.310736</td>\n",
       "    </tr>\n",
       "    <tr>\n",
       "      <th>其他</th>\n",
       "      <td>3054119</td>\n",
       "      <td>7.237448</td>\n",
       "    </tr>\n",
       "    <tr>\n",
       "      <th>加拿大</th>\n",
       "      <td>1384765</td>\n",
       "      <td>6.733610</td>\n",
       "    </tr>\n",
       "    <tr>\n",
       "      <th>印度</th>\n",
       "      <td>1146271</td>\n",
       "      <td>6.872269</td>\n",
       "    </tr>\n",
       "    <tr>\n",
       "      <th>墨西哥</th>\n",
       "      <td>139613</td>\n",
       "      <td>7.087395</td>\n",
       "    </tr>\n",
       "    <tr>\n",
       "      <th>巴西</th>\n",
       "      <td>357136</td>\n",
       "      <td>7.262376</td>\n",
       "    </tr>\n",
       "    <tr>\n",
       "      <th>意大利</th>\n",
       "      <td>2502215</td>\n",
       "      <td>7.179306</td>\n",
       "    </tr>\n",
       "    <tr>\n",
       "      <th>日本</th>\n",
       "      <td>18000667</td>\n",
       "      <td>7.194476</td>\n",
       "    </tr>\n",
       "    <tr>\n",
       "      <th>比利时</th>\n",
       "      <td>170987</td>\n",
       "      <td>7.217986</td>\n",
       "    </tr>\n",
       "    <tr>\n",
       "      <th>法国</th>\n",
       "      <td>10213966</td>\n",
       "      <td>7.238885</td>\n",
       "    </tr>\n",
       "    <tr>\n",
       "      <th>波兰</th>\n",
       "      <td>159577</td>\n",
       "      <td>7.441989</td>\n",
       "    </tr>\n",
       "    <tr>\n",
       "      <th>泰国</th>\n",
       "      <td>1564881</td>\n",
       "      <td>6.109184</td>\n",
       "    </tr>\n",
       "    <tr>\n",
       "      <th>澳大利亚</th>\n",
       "      <td>1415713</td>\n",
       "      <td>6.978000</td>\n",
       "    </tr>\n",
       "    <tr>\n",
       "      <th>瑞典</th>\n",
       "      <td>290077</td>\n",
       "      <td>7.413021</td>\n",
       "    </tr>\n",
       "    <tr>\n",
       "      <th>美国</th>\n",
       "      <td>101929672</td>\n",
       "      <td>6.946860</td>\n",
       "    </tr>\n",
       "    <tr>\n",
       "      <th>英国</th>\n",
       "      <td>13249562</td>\n",
       "      <td>7.526937</td>\n",
       "    </tr>\n",
       "    <tr>\n",
       "      <th>荷兰</th>\n",
       "      <td>144836</td>\n",
       "      <td>7.190323</td>\n",
       "    </tr>\n",
       "    <tr>\n",
       "      <th>西班牙</th>\n",
       "      <td>1486733</td>\n",
       "      <td>7.024385</td>\n",
       "    </tr>\n",
       "    <tr>\n",
       "      <th>阿根廷</th>\n",
       "      <td>258271</td>\n",
       "      <td>7.273276</td>\n",
       "    </tr>\n",
       "    <tr>\n",
       "      <th>韩国</th>\n",
       "      <td>8761080</td>\n",
       "      <td>6.362990</td>\n",
       "    </tr>\n",
       "  </tbody>\n",
       "</table>\n",
       "</div>"
      ],
      "text/plain": [
       "           投票人数        评分\n",
       "产地                       \n",
       "中国台湾    5237466  7.066667\n",
       "中国大陆   41435313  6.064703\n",
       "中国香港   23285389  6.474114\n",
       "丹麦       394784  7.245960\n",
       "俄罗斯     3167110  7.310736\n",
       "其他      3054119  7.237448\n",
       "加拿大     1384765  6.733610\n",
       "印度      1146271  6.872269\n",
       "墨西哥      139613  7.087395\n",
       "巴西       357136  7.262376\n",
       "意大利     2502215  7.179306\n",
       "日本     18000667  7.194476\n",
       "比利时      170987  7.217986\n",
       "法国     10213966  7.238885\n",
       "波兰       159577  7.441989\n",
       "泰国      1564881  6.109184\n",
       "澳大利亚    1415713  6.978000\n",
       "瑞典       290077  7.413021\n",
       "美国    101929672  6.946860\n",
       "英国     13249562  7.526937\n",
       "荷兰       144836  7.190323\n",
       "西班牙     1486733  7.024385\n",
       "阿根廷      258271  7.273276\n",
       "韩国      8761080  6.362990"
      ]
     },
     "execution_count": 105,
     "metadata": {},
     "output_type": "execute_result"
    }
   ],
   "source": [
    "pd.pivot_table(df,index=['产地'],values=['投票人数','评分'],aggfunc={'投票人数':np.sum,'评分':np.mean},fill_value=0)"
   ]
  },
  {
   "cell_type": "markdown",
   "metadata": {
    "heading_collapsed": true,
    "hidden": true
   },
   "source": [
    "##### 透视表过滤"
   ]
  },
  {
   "cell_type": "code",
   "execution_count": 106,
   "metadata": {
    "hidden": true
   },
   "outputs": [],
   "source": [
    "table=pd.pivot_table(df,index=['年代'],values=['投票人数','评分'],aggfunc={'投票人数':np.sum,'评分':np.mean},fill_value=0)"
   ]
  },
  {
   "cell_type": "code",
   "execution_count": 110,
   "metadata": {
    "hidden": true
   },
   "outputs": [
    {
     "data": {
      "text/plain": [
       "pandas.core.frame.DataFrame"
      ]
     },
     "execution_count": 110,
     "metadata": {},
     "output_type": "execute_result"
    }
   ],
   "source": [
    "type(table)"
   ]
  },
  {
   "cell_type": "code",
   "execution_count": 111,
   "metadata": {
    "hidden": true
   },
   "outputs": [
    {
     "data": {
      "text/html": [
       "<div>\n",
       "<style scoped>\n",
       "    .dataframe tbody tr th:only-of-type {\n",
       "        vertical-align: middle;\n",
       "    }\n",
       "\n",
       "    .dataframe tbody tr th {\n",
       "        vertical-align: top;\n",
       "    }\n",
       "\n",
       "    .dataframe thead th {\n",
       "        text-align: right;\n",
       "    }\n",
       "</style>\n",
       "<table border=\"1\" class=\"dataframe\">\n",
       "  <thead>\n",
       "    <tr style=\"text-align: right;\">\n",
       "      <th></th>\n",
       "      <th>投票人数</th>\n",
       "      <th>评分</th>\n",
       "    </tr>\n",
       "    <tr>\n",
       "      <th>年代</th>\n",
       "      <th></th>\n",
       "      <th></th>\n",
       "    </tr>\n",
       "  </thead>\n",
       "  <tbody>\n",
       "    <tr>\n",
       "      <th>1888</th>\n",
       "      <td>776</td>\n",
       "      <td>7.950000</td>\n",
       "    </tr>\n",
       "    <tr>\n",
       "      <th>1890</th>\n",
       "      <td>51</td>\n",
       "      <td>4.800000</td>\n",
       "    </tr>\n",
       "    <tr>\n",
       "      <th>1892</th>\n",
       "      <td>176</td>\n",
       "      <td>7.500000</td>\n",
       "    </tr>\n",
       "    <tr>\n",
       "      <th>1894</th>\n",
       "      <td>338</td>\n",
       "      <td>6.633333</td>\n",
       "    </tr>\n",
       "    <tr>\n",
       "      <th>1895</th>\n",
       "      <td>7679</td>\n",
       "      <td>7.575000</td>\n",
       "    </tr>\n",
       "  </tbody>\n",
       "</table>\n",
       "</div>"
      ],
      "text/plain": [
       "      投票人数        评分\n",
       "年代                  \n",
       "1888   776  7.950000\n",
       "1890    51  4.800000\n",
       "1892   176  7.500000\n",
       "1894   338  6.633333\n",
       "1895  7679  7.575000"
      ]
     },
     "execution_count": 111,
     "metadata": {},
     "output_type": "execute_result"
    }
   ],
   "source": [
    "table[:5]"
   ]
  },
  {
   "cell_type": "markdown",
   "metadata": {
    "hidden": true
   },
   "source": [
    "1994年被誉为电影史上伟大的一年，但是通过数据我们可以发现，1994年的平均分并不是很高。1924年的电影平均分最高。"
   ]
  },
  {
   "cell_type": "code",
   "execution_count": 112,
   "metadata": {
    "hidden": true
   },
   "outputs": [
    {
     "data": {
      "text/html": [
       "<div>\n",
       "<style scoped>\n",
       "    .dataframe tbody tr th:only-of-type {\n",
       "        vertical-align: middle;\n",
       "    }\n",
       "\n",
       "    .dataframe tbody tr th {\n",
       "        vertical-align: top;\n",
       "    }\n",
       "\n",
       "    .dataframe thead th {\n",
       "        text-align: right;\n",
       "    }\n",
       "</style>\n",
       "<table border=\"1\" class=\"dataframe\">\n",
       "  <thead>\n",
       "    <tr style=\"text-align: right;\">\n",
       "      <th></th>\n",
       "      <th>投票人数</th>\n",
       "      <th>评分</th>\n",
       "    </tr>\n",
       "    <tr>\n",
       "      <th>年代</th>\n",
       "      <th></th>\n",
       "      <th></th>\n",
       "    </tr>\n",
       "  </thead>\n",
       "  <tbody>\n",
       "    <tr>\n",
       "      <th>1994</th>\n",
       "      <td>5670752</td>\n",
       "      <td>7.262348</td>\n",
       "    </tr>\n",
       "  </tbody>\n",
       "</table>\n",
       "</div>"
      ],
      "text/plain": [
       "         投票人数        评分\n",
       "年代                     \n",
       "1994  5670752  7.262348"
      ]
     },
     "execution_count": 112,
     "metadata": {},
     "output_type": "execute_result"
    }
   ],
   "source": [
    "table[table.index==1994]"
   ]
  },
  {
   "cell_type": "code",
   "execution_count": 115,
   "metadata": {
    "hidden": true,
    "scrolled": true
   },
   "outputs": [
    {
     "data": {
      "text/html": [
       "<div>\n",
       "<style scoped>\n",
       "    .dataframe tbody tr th:only-of-type {\n",
       "        vertical-align: middle;\n",
       "    }\n",
       "\n",
       "    .dataframe tbody tr th {\n",
       "        vertical-align: top;\n",
       "    }\n",
       "\n",
       "    .dataframe thead th {\n",
       "        text-align: right;\n",
       "    }\n",
       "</style>\n",
       "<table border=\"1\" class=\"dataframe\">\n",
       "  <thead>\n",
       "    <tr style=\"text-align: right;\">\n",
       "      <th></th>\n",
       "      <th>投票人数</th>\n",
       "      <th>评分</th>\n",
       "    </tr>\n",
       "    <tr>\n",
       "      <th>年代</th>\n",
       "      <th></th>\n",
       "      <th></th>\n",
       "    </tr>\n",
       "  </thead>\n",
       "  <tbody>\n",
       "    <tr>\n",
       "      <th>1924</th>\n",
       "      <td>10410</td>\n",
       "      <td>8.053571</td>\n",
       "    </tr>\n",
       "    <tr>\n",
       "      <th>1888</th>\n",
       "      <td>776</td>\n",
       "      <td>7.950000</td>\n",
       "    </tr>\n",
       "    <tr>\n",
       "      <th>1928</th>\n",
       "      <td>16193</td>\n",
       "      <td>7.945000</td>\n",
       "    </tr>\n",
       "    <tr>\n",
       "      <th>1912</th>\n",
       "      <td>761</td>\n",
       "      <td>7.920000</td>\n",
       "    </tr>\n",
       "    <tr>\n",
       "      <th>1923</th>\n",
       "      <td>7668</td>\n",
       "      <td>7.883333</td>\n",
       "    </tr>\n",
       "    <tr>\n",
       "      <th>1922</th>\n",
       "      <td>16876</td>\n",
       "      <td>7.804545</td>\n",
       "    </tr>\n",
       "    <tr>\n",
       "      <th>1925</th>\n",
       "      <td>27607</td>\n",
       "      <td>7.788000</td>\n",
       "    </tr>\n",
       "    <tr>\n",
       "      <th>1926</th>\n",
       "      <td>10203</td>\n",
       "      <td>7.773913</td>\n",
       "    </tr>\n",
       "    <tr>\n",
       "      <th>1916</th>\n",
       "      <td>7364</td>\n",
       "      <td>7.758333</td>\n",
       "    </tr>\n",
       "    <tr>\n",
       "      <th>1927</th>\n",
       "      <td>20163</td>\n",
       "      <td>7.751724</td>\n",
       "    </tr>\n",
       "  </tbody>\n",
       "</table>\n",
       "</div>"
      ],
      "text/plain": [
       "       投票人数        评分\n",
       "年代                   \n",
       "1924  10410  8.053571\n",
       "1888    776  7.950000\n",
       "1928  16193  7.945000\n",
       "1912    761  7.920000\n",
       "1923   7668  7.883333\n",
       "1922  16876  7.804545\n",
       "1925  27607  7.788000\n",
       "1926  10203  7.773913\n",
       "1916   7364  7.758333\n",
       "1927  20163  7.751724"
      ]
     },
     "execution_count": 115,
     "metadata": {},
     "output_type": "execute_result"
    }
   ],
   "source": [
    "table.sort_values('评分',ascending=False)[:10]"
   ]
  },
  {
   "cell_type": "markdown",
   "metadata": {
    "heading_collapsed": true,
    "hidden": true
   },
   "source": [
    "##### 按照多个索引来进行汇总"
   ]
  },
  {
   "cell_type": "code",
   "execution_count": 118,
   "metadata": {
    "hidden": true
   },
   "outputs": [
    {
     "data": {
      "text/html": [
       "<div>\n",
       "<style scoped>\n",
       "    .dataframe tbody tr th:only-of-type {\n",
       "        vertical-align: middle;\n",
       "    }\n",
       "\n",
       "    .dataframe tbody tr th {\n",
       "        vertical-align: top;\n",
       "    }\n",
       "\n",
       "    .dataframe thead th {\n",
       "        text-align: right;\n",
       "    }\n",
       "</style>\n",
       "<table border=\"1\" class=\"dataframe\">\n",
       "  <thead>\n",
       "    <tr style=\"text-align: right;\">\n",
       "      <th></th>\n",
       "      <th></th>\n",
       "      <th>投票人数</th>\n",
       "      <th>评分</th>\n",
       "    </tr>\n",
       "    <tr>\n",
       "      <th>产地</th>\n",
       "      <th>年代</th>\n",
       "      <th></th>\n",
       "      <th></th>\n",
       "    </tr>\n",
       "  </thead>\n",
       "  <tbody>\n",
       "    <tr>\n",
       "      <th rowspan=\"5\" valign=\"top\">中国台湾</th>\n",
       "      <th>1963</th>\n",
       "      <td>121</td>\n",
       "      <td>6.400000</td>\n",
       "    </tr>\n",
       "    <tr>\n",
       "      <th>1965</th>\n",
       "      <td>461</td>\n",
       "      <td>6.800000</td>\n",
       "    </tr>\n",
       "    <tr>\n",
       "      <th>1966</th>\n",
       "      <td>51</td>\n",
       "      <td>7.900000</td>\n",
       "    </tr>\n",
       "    <tr>\n",
       "      <th>1967</th>\n",
       "      <td>4444</td>\n",
       "      <td>8.000000</td>\n",
       "    </tr>\n",
       "    <tr>\n",
       "      <th>1968</th>\n",
       "      <td>178</td>\n",
       "      <td>7.400000</td>\n",
       "    </tr>\n",
       "    <tr>\n",
       "      <th>...</th>\n",
       "      <th>...</th>\n",
       "      <td>...</td>\n",
       "      <td>...</td>\n",
       "    </tr>\n",
       "    <tr>\n",
       "      <th rowspan=\"5\" valign=\"top\">韩国</th>\n",
       "      <th>2012</th>\n",
       "      <td>610829</td>\n",
       "      <td>6.064151</td>\n",
       "    </tr>\n",
       "    <tr>\n",
       "      <th>2013</th>\n",
       "      <td>1130983</td>\n",
       "      <td>6.098198</td>\n",
       "    </tr>\n",
       "    <tr>\n",
       "      <th>2014</th>\n",
       "      <td>453152</td>\n",
       "      <td>5.650833</td>\n",
       "    </tr>\n",
       "    <tr>\n",
       "      <th>2015</th>\n",
       "      <td>349808</td>\n",
       "      <td>5.423853</td>\n",
       "    </tr>\n",
       "    <tr>\n",
       "      <th>2016</th>\n",
       "      <td>34797</td>\n",
       "      <td>5.730000</td>\n",
       "    </tr>\n",
       "  </tbody>\n",
       "</table>\n",
       "<p>1511 rows × 2 columns</p>\n",
       "</div>"
      ],
      "text/plain": [
       "              投票人数        评分\n",
       "产地   年代                     \n",
       "中国台湾 1963      121  6.400000\n",
       "     1965      461  6.800000\n",
       "     1966       51  7.900000\n",
       "     1967     4444  8.000000\n",
       "     1968      178  7.400000\n",
       "...            ...       ...\n",
       "韩国   2012   610829  6.064151\n",
       "     2013  1130983  6.098198\n",
       "     2014   453152  5.650833\n",
       "     2015   349808  5.423853\n",
       "     2016    34797  5.730000\n",
       "\n",
       "[1511 rows x 2 columns]"
      ]
     },
     "execution_count": 118,
     "metadata": {},
     "output_type": "execute_result"
    }
   ],
   "source": [
    "pd.pivot_table(df,index=['产地','年代'],values=['投票人数','评分'],aggfunc={'投票人数':np.sum,'评分':np.mean},fill_value=0)"
   ]
  },
  {
   "cell_type": "markdown",
   "metadata": {},
   "source": [
    "### 3.3 pandas"
   ]
  },
  {
   "cell_type": "markdown",
   "metadata": {},
   "source": [
    "#### 3.3.1 数据重塑和轴向旋转"
   ]
  },
  {
   "cell_type": "markdown",
   "metadata": {},
   "source": [
    "（1）层次化索引"
   ]
  },
  {
   "cell_type": "markdown",
   "metadata": {},
   "source": [
    "层次化索引是pandas的一项重要功能，他能使我们再一个轴上拥有多个索引"
   ]
  },
  {
   "cell_type": "markdown",
   "metadata": {},
   "source": [
    "Series的层次化索引"
   ]
  },
  {
   "cell_type": "markdown",
   "metadata": {},
   "source": [
    "通过unstack方法可以将Series变成一个DataFrame"
   ]
  },
  {
   "cell_type": "code",
   "execution_count": null,
   "metadata": {},
   "outputs": [],
   "source": []
  }
 ],
 "metadata": {
  "kernelspec": {
   "display_name": "Python 3 (ipykernel)",
   "language": "python",
   "name": "python3"
  },
  "language_info": {
   "codemirror_mode": {
    "name": "ipython",
    "version": 3
   },
   "file_extension": ".py",
   "mimetype": "text/x-python",
   "name": "python",
   "nbconvert_exporter": "python",
   "pygments_lexer": "ipython3",
   "version": "3.7.9"
  }
 },
 "nbformat": 4,
 "nbformat_minor": 4
}
